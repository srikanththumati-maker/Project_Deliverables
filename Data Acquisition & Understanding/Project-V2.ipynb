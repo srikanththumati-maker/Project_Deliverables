{
 "cells": [
  {
   "cell_type": "markdown",
   "metadata": {},
   "source": [
    "##                                     Sentiment Analysis for Text using ML"
   ]
  },
  {
   "cell_type": "code",
   "execution_count": 2,
   "metadata": {},
   "outputs": [
    {
     "name": "stderr",
     "output_type": "stream",
     "text": [
      "[nltk_data] Downloading package stopwords to\n",
      "[nltk_data]     C:\\Users\\Srikanth\\AppData\\Roaming\\nltk_data...\n",
      "[nltk_data]   Package stopwords is already up-to-date!\n",
      "[nltk_data] Downloading package stopwords to\n",
      "[nltk_data]     C:\\Users\\Srikanth\\AppData\\Roaming\\nltk_data...\n",
      "[nltk_data]   Package stopwords is already up-to-date!\n"
     ]
    }
   ],
   "source": [
    "# Importing required packages \n",
    "\n",
    "import pandas as pd\n",
    "import numpy as np\n",
    "import sweetviz as sv\n",
    "import seaborn as sns\n",
    "import matplotlib.pyplot as plt\n",
    "from sklearn.preprocessing import StandardScaler\n",
    "from tqdm import tqdm\n",
    "import re\n",
    "from bs4 import BeautifulSoup\n",
    "import warnings\n",
    "warnings.simplefilter(action='ignore', category=FutureWarning)\n",
    "from sklearn.feature_extraction.text import TfidfVectorizer\n",
    "from sklearn.metrics import confusion_matrix,auc,roc_auc_score,f1_score\n",
    "from sklearn.preprocessing import StandardScaler\n",
    "from sklearn.model_selection import train_test_split,RandomizedSearchCV\n",
    "from sklearn.feature_extraction.text import TfidfVectorizer\n",
    "import nltk\n",
    "from scikitplot.metrics import plot_confusion_matrix\n",
    "from nltk.stem import PorterStemmer\n",
    "from nltk.tokenize import word_tokenize\n",
    "from nltk.corpus import stopwords\n",
    "nltk.download('stopwords')\n",
    "nltk.download('stopwords')\n",
    "stop_words = set(stopwords.words('english'))\n",
    "from sklearn.tree import DecisionTreeClassifier"
   ]
  },
  {
   "cell_type": "code",
   "execution_count": 95,
   "metadata": {},
   "outputs": [
    {
     "data": {
      "text/html": [
       "<div>\n",
       "<style scoped>\n",
       "    .dataframe tbody tr th:only-of-type {\n",
       "        vertical-align: middle;\n",
       "    }\n",
       "\n",
       "    .dataframe tbody tr th {\n",
       "        vertical-align: top;\n",
       "    }\n",
       "\n",
       "    .dataframe thead th {\n",
       "        text-align: right;\n",
       "    }\n",
       "</style>\n",
       "<table border=\"1\" class=\"dataframe\">\n",
       "  <thead>\n",
       "    <tr style=\"text-align: right;\">\n",
       "      <th></th>\n",
       "      <th>Id</th>\n",
       "      <th>ProductId</th>\n",
       "      <th>UserId</th>\n",
       "      <th>ProfileName</th>\n",
       "      <th>HelpfulnessNumerator</th>\n",
       "      <th>HelpfulnessDenominator</th>\n",
       "      <th>Score</th>\n",
       "      <th>Time</th>\n",
       "      <th>Summary</th>\n",
       "      <th>Text</th>\n",
       "    </tr>\n",
       "  </thead>\n",
       "  <tbody>\n",
       "    <tr>\n",
       "      <th>0</th>\n",
       "      <td>1</td>\n",
       "      <td>B001E4KFG0</td>\n",
       "      <td>A3SGXH7AUHU8GW</td>\n",
       "      <td>delmartian</td>\n",
       "      <td>1</td>\n",
       "      <td>1</td>\n",
       "      <td>5</td>\n",
       "      <td>1303862400</td>\n",
       "      <td>Good Quality Dog Food</td>\n",
       "      <td>I have bought several of the Vitality canned d...</td>\n",
       "    </tr>\n",
       "    <tr>\n",
       "      <th>1</th>\n",
       "      <td>2</td>\n",
       "      <td>B00813GRG4</td>\n",
       "      <td>A1D87F6ZCVE5NK</td>\n",
       "      <td>dll pa</td>\n",
       "      <td>0</td>\n",
       "      <td>0</td>\n",
       "      <td>1</td>\n",
       "      <td>1346976000</td>\n",
       "      <td>Not as Advertised</td>\n",
       "      <td>Product arrived labeled as Jumbo Salted Peanut...</td>\n",
       "    </tr>\n",
       "    <tr>\n",
       "      <th>2</th>\n",
       "      <td>3</td>\n",
       "      <td>B000LQOCH0</td>\n",
       "      <td>ABXLMWJIXXAIN</td>\n",
       "      <td>Natalia Corres \"Natalia Corres\"</td>\n",
       "      <td>1</td>\n",
       "      <td>1</td>\n",
       "      <td>4</td>\n",
       "      <td>1219017600</td>\n",
       "      <td>\"Delight\" says it all</td>\n",
       "      <td>This is a confection that has been around a fe...</td>\n",
       "    </tr>\n",
       "    <tr>\n",
       "      <th>3</th>\n",
       "      <td>4</td>\n",
       "      <td>B000UA0QIQ</td>\n",
       "      <td>A395BORC6FGVXV</td>\n",
       "      <td>Karl</td>\n",
       "      <td>3</td>\n",
       "      <td>3</td>\n",
       "      <td>2</td>\n",
       "      <td>1307923200</td>\n",
       "      <td>Cough Medicine</td>\n",
       "      <td>If you are looking for the secret ingredient i...</td>\n",
       "    </tr>\n",
       "    <tr>\n",
       "      <th>4</th>\n",
       "      <td>5</td>\n",
       "      <td>B006K2ZZ7K</td>\n",
       "      <td>A1UQRSCLF8GW1T</td>\n",
       "      <td>Michael D. Bigham \"M. Wassir\"</td>\n",
       "      <td>0</td>\n",
       "      <td>0</td>\n",
       "      <td>5</td>\n",
       "      <td>1350777600</td>\n",
       "      <td>Great taffy</td>\n",
       "      <td>Great taffy at a great price.  There was a wid...</td>\n",
       "    </tr>\n",
       "    <tr>\n",
       "      <th>...</th>\n",
       "      <td>...</td>\n",
       "      <td>...</td>\n",
       "      <td>...</td>\n",
       "      <td>...</td>\n",
       "      <td>...</td>\n",
       "      <td>...</td>\n",
       "      <td>...</td>\n",
       "      <td>...</td>\n",
       "      <td>...</td>\n",
       "      <td>...</td>\n",
       "    </tr>\n",
       "    <tr>\n",
       "      <th>39995</th>\n",
       "      <td>39996</td>\n",
       "      <td>B00017LEY8</td>\n",
       "      <td>A2V2FL4XWQ3TU4</td>\n",
       "      <td>kes</td>\n",
       "      <td>4</td>\n",
       "      <td>4</td>\n",
       "      <td>5</td>\n",
       "      <td>1219968000</td>\n",
       "      <td>Best popcorn, hands down</td>\n",
       "      <td>I've tried a wide variety of popcorns, and gen...</td>\n",
       "    </tr>\n",
       "    <tr>\n",
       "      <th>39996</th>\n",
       "      <td>39997</td>\n",
       "      <td>B00017LEY8</td>\n",
       "      <td>AHNWS8JUU0D48</td>\n",
       "      <td>Jack Parker \"photographer\"</td>\n",
       "      <td>3</td>\n",
       "      <td>3</td>\n",
       "      <td>5</td>\n",
       "      <td>1223251200</td>\n",
       "      <td>BEST EVER</td>\n",
       "      <td>I am unable to buy \"hulless\" popcorn in my are...</td>\n",
       "    </tr>\n",
       "    <tr>\n",
       "      <th>39997</th>\n",
       "      <td>39998</td>\n",
       "      <td>B00017LEY8</td>\n",
       "      <td>A36G9KA8FGCVS1</td>\n",
       "      <td>John ONeal</td>\n",
       "      <td>2</td>\n",
       "      <td>2</td>\n",
       "      <td>5</td>\n",
       "      <td>1286755200</td>\n",
       "      <td>ALL popcorn has hulls</td>\n",
       "      <td>Even \"no hull\" popcorn has hulls.  It has to s...</td>\n",
       "    </tr>\n",
       "    <tr>\n",
       "      <th>39998</th>\n",
       "      <td>39999</td>\n",
       "      <td>B00017LEY8</td>\n",
       "      <td>A1DCZ61SUGL12H</td>\n",
       "      <td>Shayrul</td>\n",
       "      <td>2</td>\n",
       "      <td>2</td>\n",
       "      <td>4</td>\n",
       "      <td>1281830400</td>\n",
       "      <td>Not for air poppers</td>\n",
       "      <td>When I bought this popcorn, it was because Ama...</td>\n",
       "    </tr>\n",
       "    <tr>\n",
       "      <th>39999</th>\n",
       "      <td>40000</td>\n",
       "      <td>B00017LEY8</td>\n",
       "      <td>ANVO82YEQNCD</td>\n",
       "      <td>Russ K.</td>\n",
       "      <td>2</td>\n",
       "      <td>2</td>\n",
       "      <td>4</td>\n",
       "      <td>1281312000</td>\n",
       "      <td>Cornlicious</td>\n",
       "      <td>I was interested with the fact that this popco...</td>\n",
       "    </tr>\n",
       "  </tbody>\n",
       "</table>\n",
       "<p>40000 rows × 10 columns</p>\n",
       "</div>"
      ],
      "text/plain": [
       "          Id   ProductId          UserId                      ProfileName  \\\n",
       "0          1  B001E4KFG0  A3SGXH7AUHU8GW                       delmartian   \n",
       "1          2  B00813GRG4  A1D87F6ZCVE5NK                           dll pa   \n",
       "2          3  B000LQOCH0   ABXLMWJIXXAIN  Natalia Corres \"Natalia Corres\"   \n",
       "3          4  B000UA0QIQ  A395BORC6FGVXV                             Karl   \n",
       "4          5  B006K2ZZ7K  A1UQRSCLF8GW1T    Michael D. Bigham \"M. Wassir\"   \n",
       "...      ...         ...             ...                              ...   \n",
       "39995  39996  B00017LEY8  A2V2FL4XWQ3TU4                              kes   \n",
       "39996  39997  B00017LEY8   AHNWS8JUU0D48       Jack Parker \"photographer\"   \n",
       "39997  39998  B00017LEY8  A36G9KA8FGCVS1                       John ONeal   \n",
       "39998  39999  B00017LEY8  A1DCZ61SUGL12H                          Shayrul   \n",
       "39999  40000  B00017LEY8    ANVO82YEQNCD                          Russ K.   \n",
       "\n",
       "       HelpfulnessNumerator  HelpfulnessDenominator  Score        Time  \\\n",
       "0                         1                       1      5  1303862400   \n",
       "1                         0                       0      1  1346976000   \n",
       "2                         1                       1      4  1219017600   \n",
       "3                         3                       3      2  1307923200   \n",
       "4                         0                       0      5  1350777600   \n",
       "...                     ...                     ...    ...         ...   \n",
       "39995                     4                       4      5  1219968000   \n",
       "39996                     3                       3      5  1223251200   \n",
       "39997                     2                       2      5  1286755200   \n",
       "39998                     2                       2      4  1281830400   \n",
       "39999                     2                       2      4  1281312000   \n",
       "\n",
       "                        Summary  \\\n",
       "0         Good Quality Dog Food   \n",
       "1             Not as Advertised   \n",
       "2         \"Delight\" says it all   \n",
       "3                Cough Medicine   \n",
       "4                   Great taffy   \n",
       "...                         ...   \n",
       "39995  Best popcorn, hands down   \n",
       "39996                 BEST EVER   \n",
       "39997     ALL popcorn has hulls   \n",
       "39998       Not for air poppers   \n",
       "39999               Cornlicious   \n",
       "\n",
       "                                                    Text  \n",
       "0      I have bought several of the Vitality canned d...  \n",
       "1      Product arrived labeled as Jumbo Salted Peanut...  \n",
       "2      This is a confection that has been around a fe...  \n",
       "3      If you are looking for the secret ingredient i...  \n",
       "4      Great taffy at a great price.  There was a wid...  \n",
       "...                                                  ...  \n",
       "39995  I've tried a wide variety of popcorns, and gen...  \n",
       "39996  I am unable to buy \"hulless\" popcorn in my are...  \n",
       "39997  Even \"no hull\" popcorn has hulls.  It has to s...  \n",
       "39998  When I bought this popcorn, it was because Ama...  \n",
       "39999  I was interested with the fact that this popco...  \n",
       "\n",
       "[40000 rows x 10 columns]"
      ]
     },
     "execution_count": 95,
     "metadata": {},
     "output_type": "execute_result"
    }
   ],
   "source": [
    "#Importing CSV File\n",
    "\n",
    "Food_Reviews = pd.read_csv(\"Reviews.csv\")\n",
    "Food_Reviews = Food_Reviews[:40000]\n",
    "Food_Reviews"
   ]
  },
  {
   "cell_type": "code",
   "execution_count": 4,
   "metadata": {},
   "outputs": [
    {
     "data": {
      "text/plain": [
       "Id                        40000\n",
       "ProductId                 40000\n",
       "UserId                    40000\n",
       "ProfileName               39998\n",
       "HelpfulnessNumerator      40000\n",
       "HelpfulnessDenominator    40000\n",
       "Score                     40000\n",
       "Time                      40000\n",
       "Summary                   39999\n",
       "Text                      40000\n",
       "dtype: int64"
      ]
     },
     "execution_count": 4,
     "metadata": {},
     "output_type": "execute_result"
    }
   ],
   "source": [
    "Food_Reviews.count()"
   ]
  },
  {
   "cell_type": "code",
   "execution_count": 5,
   "metadata": {},
   "outputs": [
    {
     "data": {
      "text/plain": [
       "Id                        40000\n",
       "ProductId                  4875\n",
       "UserId                    33073\n",
       "ProfileName               30707\n",
       "HelpfulnessNumerator         99\n",
       "HelpfulnessDenominator      105\n",
       "Score                         5\n",
       "Time                       2424\n",
       "Summary                   31819\n",
       "Text                      37441\n",
       "dtype: int64"
      ]
     },
     "execution_count": 5,
     "metadata": {},
     "output_type": "execute_result"
    }
   ],
   "source": [
    "Food_Reviews.nunique()"
   ]
  },
  {
   "cell_type": "markdown",
   "metadata": {},
   "source": [
    "## Exploratory Data Analysis and Feature Engineering"
   ]
  },
  {
   "cell_type": "code",
   "execution_count": 6,
   "metadata": {},
   "outputs": [],
   "source": [
    "# Lets convert our sccores to three labels 0 -> negative(score<3), 1 -> Positive(score>3), 2 -> neutral(score==3)\n",
    "\n",
    "def label(x):\n",
    "    if x<3:\n",
    "        return 0\n",
    "    elif x>3:\n",
    "        return 1\n",
    "    elif x==3:\n",
    "        return 2"
   ]
  },
  {
   "cell_type": "code",
   "execution_count": 7,
   "metadata": {},
   "outputs": [
    {
     "data": {
      "text/html": [
       "<div>\n",
       "<style scoped>\n",
       "    .dataframe tbody tr th:only-of-type {\n",
       "        vertical-align: middle;\n",
       "    }\n",
       "\n",
       "    .dataframe tbody tr th {\n",
       "        vertical-align: top;\n",
       "    }\n",
       "\n",
       "    .dataframe thead th {\n",
       "        text-align: right;\n",
       "    }\n",
       "</style>\n",
       "<table border=\"1\" class=\"dataframe\">\n",
       "  <thead>\n",
       "    <tr style=\"text-align: right;\">\n",
       "      <th></th>\n",
       "      <th>Id</th>\n",
       "      <th>ProductId</th>\n",
       "      <th>UserId</th>\n",
       "      <th>ProfileName</th>\n",
       "      <th>HelpfulnessNumerator</th>\n",
       "      <th>HelpfulnessDenominator</th>\n",
       "      <th>Score</th>\n",
       "      <th>Time</th>\n",
       "      <th>Summary</th>\n",
       "      <th>Text</th>\n",
       "    </tr>\n",
       "  </thead>\n",
       "  <tbody>\n",
       "    <tr>\n",
       "      <th>0</th>\n",
       "      <td>1</td>\n",
       "      <td>B001E4KFG0</td>\n",
       "      <td>A3SGXH7AUHU8GW</td>\n",
       "      <td>delmartian</td>\n",
       "      <td>1</td>\n",
       "      <td>1</td>\n",
       "      <td>1</td>\n",
       "      <td>1303862400</td>\n",
       "      <td>Good Quality Dog Food</td>\n",
       "      <td>I have bought several of the Vitality canned d...</td>\n",
       "    </tr>\n",
       "    <tr>\n",
       "      <th>1</th>\n",
       "      <td>2</td>\n",
       "      <td>B00813GRG4</td>\n",
       "      <td>A1D87F6ZCVE5NK</td>\n",
       "      <td>dll pa</td>\n",
       "      <td>0</td>\n",
       "      <td>0</td>\n",
       "      <td>0</td>\n",
       "      <td>1346976000</td>\n",
       "      <td>Not as Advertised</td>\n",
       "      <td>Product arrived labeled as Jumbo Salted Peanut...</td>\n",
       "    </tr>\n",
       "    <tr>\n",
       "      <th>2</th>\n",
       "      <td>3</td>\n",
       "      <td>B000LQOCH0</td>\n",
       "      <td>ABXLMWJIXXAIN</td>\n",
       "      <td>Natalia Corres \"Natalia Corres\"</td>\n",
       "      <td>1</td>\n",
       "      <td>1</td>\n",
       "      <td>1</td>\n",
       "      <td>1219017600</td>\n",
       "      <td>\"Delight\" says it all</td>\n",
       "      <td>This is a confection that has been around a fe...</td>\n",
       "    </tr>\n",
       "    <tr>\n",
       "      <th>3</th>\n",
       "      <td>4</td>\n",
       "      <td>B000UA0QIQ</td>\n",
       "      <td>A395BORC6FGVXV</td>\n",
       "      <td>Karl</td>\n",
       "      <td>3</td>\n",
       "      <td>3</td>\n",
       "      <td>0</td>\n",
       "      <td>1307923200</td>\n",
       "      <td>Cough Medicine</td>\n",
       "      <td>If you are looking for the secret ingredient i...</td>\n",
       "    </tr>\n",
       "    <tr>\n",
       "      <th>4</th>\n",
       "      <td>5</td>\n",
       "      <td>B006K2ZZ7K</td>\n",
       "      <td>A1UQRSCLF8GW1T</td>\n",
       "      <td>Michael D. Bigham \"M. Wassir\"</td>\n",
       "      <td>0</td>\n",
       "      <td>0</td>\n",
       "      <td>1</td>\n",
       "      <td>1350777600</td>\n",
       "      <td>Great taffy</td>\n",
       "      <td>Great taffy at a great price.  There was a wid...</td>\n",
       "    </tr>\n",
       "    <tr>\n",
       "      <th>...</th>\n",
       "      <td>...</td>\n",
       "      <td>...</td>\n",
       "      <td>...</td>\n",
       "      <td>...</td>\n",
       "      <td>...</td>\n",
       "      <td>...</td>\n",
       "      <td>...</td>\n",
       "      <td>...</td>\n",
       "      <td>...</td>\n",
       "      <td>...</td>\n",
       "    </tr>\n",
       "    <tr>\n",
       "      <th>39995</th>\n",
       "      <td>39996</td>\n",
       "      <td>B00017LEY8</td>\n",
       "      <td>A2V2FL4XWQ3TU4</td>\n",
       "      <td>kes</td>\n",
       "      <td>4</td>\n",
       "      <td>4</td>\n",
       "      <td>1</td>\n",
       "      <td>1219968000</td>\n",
       "      <td>Best popcorn, hands down</td>\n",
       "      <td>I've tried a wide variety of popcorns, and gen...</td>\n",
       "    </tr>\n",
       "    <tr>\n",
       "      <th>39996</th>\n",
       "      <td>39997</td>\n",
       "      <td>B00017LEY8</td>\n",
       "      <td>AHNWS8JUU0D48</td>\n",
       "      <td>Jack Parker \"photographer\"</td>\n",
       "      <td>3</td>\n",
       "      <td>3</td>\n",
       "      <td>1</td>\n",
       "      <td>1223251200</td>\n",
       "      <td>BEST EVER</td>\n",
       "      <td>I am unable to buy \"hulless\" popcorn in my are...</td>\n",
       "    </tr>\n",
       "    <tr>\n",
       "      <th>39997</th>\n",
       "      <td>39998</td>\n",
       "      <td>B00017LEY8</td>\n",
       "      <td>A36G9KA8FGCVS1</td>\n",
       "      <td>John ONeal</td>\n",
       "      <td>2</td>\n",
       "      <td>2</td>\n",
       "      <td>1</td>\n",
       "      <td>1286755200</td>\n",
       "      <td>ALL popcorn has hulls</td>\n",
       "      <td>Even \"no hull\" popcorn has hulls.  It has to s...</td>\n",
       "    </tr>\n",
       "    <tr>\n",
       "      <th>39998</th>\n",
       "      <td>39999</td>\n",
       "      <td>B00017LEY8</td>\n",
       "      <td>A1DCZ61SUGL12H</td>\n",
       "      <td>Shayrul</td>\n",
       "      <td>2</td>\n",
       "      <td>2</td>\n",
       "      <td>1</td>\n",
       "      <td>1281830400</td>\n",
       "      <td>Not for air poppers</td>\n",
       "      <td>When I bought this popcorn, it was because Ama...</td>\n",
       "    </tr>\n",
       "    <tr>\n",
       "      <th>39999</th>\n",
       "      <td>40000</td>\n",
       "      <td>B00017LEY8</td>\n",
       "      <td>ANVO82YEQNCD</td>\n",
       "      <td>Russ K.</td>\n",
       "      <td>2</td>\n",
       "      <td>2</td>\n",
       "      <td>1</td>\n",
       "      <td>1281312000</td>\n",
       "      <td>Cornlicious</td>\n",
       "      <td>I was interested with the fact that this popco...</td>\n",
       "    </tr>\n",
       "  </tbody>\n",
       "</table>\n",
       "<p>40000 rows × 10 columns</p>\n",
       "</div>"
      ],
      "text/plain": [
       "          Id   ProductId          UserId                      ProfileName  \\\n",
       "0          1  B001E4KFG0  A3SGXH7AUHU8GW                       delmartian   \n",
       "1          2  B00813GRG4  A1D87F6ZCVE5NK                           dll pa   \n",
       "2          3  B000LQOCH0   ABXLMWJIXXAIN  Natalia Corres \"Natalia Corres\"   \n",
       "3          4  B000UA0QIQ  A395BORC6FGVXV                             Karl   \n",
       "4          5  B006K2ZZ7K  A1UQRSCLF8GW1T    Michael D. Bigham \"M. Wassir\"   \n",
       "...      ...         ...             ...                              ...   \n",
       "39995  39996  B00017LEY8  A2V2FL4XWQ3TU4                              kes   \n",
       "39996  39997  B00017LEY8   AHNWS8JUU0D48       Jack Parker \"photographer\"   \n",
       "39997  39998  B00017LEY8  A36G9KA8FGCVS1                       John ONeal   \n",
       "39998  39999  B00017LEY8  A1DCZ61SUGL12H                          Shayrul   \n",
       "39999  40000  B00017LEY8    ANVO82YEQNCD                          Russ K.   \n",
       "\n",
       "       HelpfulnessNumerator  HelpfulnessDenominator  Score        Time  \\\n",
       "0                         1                       1      1  1303862400   \n",
       "1                         0                       0      0  1346976000   \n",
       "2                         1                       1      1  1219017600   \n",
       "3                         3                       3      0  1307923200   \n",
       "4                         0                       0      1  1350777600   \n",
       "...                     ...                     ...    ...         ...   \n",
       "39995                     4                       4      1  1219968000   \n",
       "39996                     3                       3      1  1223251200   \n",
       "39997                     2                       2      1  1286755200   \n",
       "39998                     2                       2      1  1281830400   \n",
       "39999                     2                       2      1  1281312000   \n",
       "\n",
       "                        Summary  \\\n",
       "0         Good Quality Dog Food   \n",
       "1             Not as Advertised   \n",
       "2         \"Delight\" says it all   \n",
       "3                Cough Medicine   \n",
       "4                   Great taffy   \n",
       "...                         ...   \n",
       "39995  Best popcorn, hands down   \n",
       "39996                 BEST EVER   \n",
       "39997     ALL popcorn has hulls   \n",
       "39998       Not for air poppers   \n",
       "39999               Cornlicious   \n",
       "\n",
       "                                                    Text  \n",
       "0      I have bought several of the Vitality canned d...  \n",
       "1      Product arrived labeled as Jumbo Salted Peanut...  \n",
       "2      This is a confection that has been around a fe...  \n",
       "3      If you are looking for the secret ingredient i...  \n",
       "4      Great taffy at a great price.  There was a wid...  \n",
       "...                                                  ...  \n",
       "39995  I've tried a wide variety of popcorns, and gen...  \n",
       "39996  I am unable to buy \"hulless\" popcorn in my are...  \n",
       "39997  Even \"no hull\" popcorn has hulls.  It has to s...  \n",
       "39998  When I bought this popcorn, it was because Ama...  \n",
       "39999  I was interested with the fact that this popco...  \n",
       "\n",
       "[40000 rows x 10 columns]"
      ]
     },
     "execution_count": 7,
     "metadata": {},
     "output_type": "execute_result"
    }
   ],
   "source": [
    "Food_Reviews[\"Score\"]=Food_Reviews[\"Score\"].map(label)\n",
    "Food_Reviews"
   ]
  },
  {
   "cell_type": "code",
   "execution_count": 8,
   "metadata": {},
   "outputs": [
    {
     "data": {
      "text/html": [
       "<div>\n",
       "<style scoped>\n",
       "    .dataframe tbody tr th:only-of-type {\n",
       "        vertical-align: middle;\n",
       "    }\n",
       "\n",
       "    .dataframe tbody tr th {\n",
       "        vertical-align: top;\n",
       "    }\n",
       "\n",
       "    .dataframe thead th {\n",
       "        text-align: right;\n",
       "    }\n",
       "</style>\n",
       "<table border=\"1\" class=\"dataframe\">\n",
       "  <thead>\n",
       "    <tr style=\"text-align: right;\">\n",
       "      <th></th>\n",
       "      <th>Id</th>\n",
       "      <th>ProductId</th>\n",
       "      <th>UserId</th>\n",
       "      <th>ProfileName</th>\n",
       "      <th>HelpfulnessNumerator</th>\n",
       "      <th>HelpfulnessDenominator</th>\n",
       "      <th>Score</th>\n",
       "      <th>Time</th>\n",
       "      <th>Summary</th>\n",
       "      <th>Text</th>\n",
       "    </tr>\n",
       "  </thead>\n",
       "  <tbody>\n",
       "    <tr>\n",
       "      <th>29</th>\n",
       "      <td>30</td>\n",
       "      <td>B0001PB9FY</td>\n",
       "      <td>A3HDKO7OW0QNK4</td>\n",
       "      <td>Canadian Fan</td>\n",
       "      <td>1</td>\n",
       "      <td>1</td>\n",
       "      <td>1</td>\n",
       "      <td>1107820800</td>\n",
       "      <td>The Best Hot Sauce in the World</td>\n",
       "      <td>I don't know if it's the cactus or the tequila...</td>\n",
       "    </tr>\n",
       "    <tr>\n",
       "      <th>574</th>\n",
       "      <td>575</td>\n",
       "      <td>B000G6RYNE</td>\n",
       "      <td>A3PJZ8TU8FDQ1K</td>\n",
       "      <td>Jared Castle</td>\n",
       "      <td>2</td>\n",
       "      <td>2</td>\n",
       "      <td>1</td>\n",
       "      <td>1231718400</td>\n",
       "      <td>One bite and you'll become a \"chippoisseur\"</td>\n",
       "      <td>I'm addicted to salty and tangy flavors, so wh...</td>\n",
       "    </tr>\n",
       "    <tr>\n",
       "      <th>1973</th>\n",
       "      <td>1974</td>\n",
       "      <td>B0017165OG</td>\n",
       "      <td>A2EPNS38TTLZYN</td>\n",
       "      <td>tedebear</td>\n",
       "      <td>0</td>\n",
       "      <td>0</td>\n",
       "      <td>2</td>\n",
       "      <td>1312675200</td>\n",
       "      <td>Pok Chops</td>\n",
       "      <td>The pork chops from Omaha Steaks were very tas...</td>\n",
       "    </tr>\n",
       "    <tr>\n",
       "      <th>2309</th>\n",
       "      <td>2310</td>\n",
       "      <td>B0001VWE0M</td>\n",
       "      <td>AQM74O8Z4FMS0</td>\n",
       "      <td>Sunshine</td>\n",
       "      <td>0</td>\n",
       "      <td>0</td>\n",
       "      <td>0</td>\n",
       "      <td>1127606400</td>\n",
       "      <td>Below standard</td>\n",
       "      <td>Too much of the white pith on this orange peel...</td>\n",
       "    </tr>\n",
       "    <tr>\n",
       "      <th>2323</th>\n",
       "      <td>2324</td>\n",
       "      <td>B0001VWE0C</td>\n",
       "      <td>AQM74O8Z4FMS0</td>\n",
       "      <td>Sunshine</td>\n",
       "      <td>0</td>\n",
       "      <td>0</td>\n",
       "      <td>0</td>\n",
       "      <td>1127606400</td>\n",
       "      <td>Below standard</td>\n",
       "      <td>Too much of the white pith on this orange peel...</td>\n",
       "    </tr>\n",
       "    <tr>\n",
       "      <th>...</th>\n",
       "      <td>...</td>\n",
       "      <td>...</td>\n",
       "      <td>...</td>\n",
       "      <td>...</td>\n",
       "      <td>...</td>\n",
       "      <td>...</td>\n",
       "      <td>...</td>\n",
       "      <td>...</td>\n",
       "      <td>...</td>\n",
       "      <td>...</td>\n",
       "    </tr>\n",
       "    <tr>\n",
       "      <th>39976</th>\n",
       "      <td>39977</td>\n",
       "      <td>B001TZJ3OE</td>\n",
       "      <td>A3908E1G8IL52G</td>\n",
       "      <td>Jessica Ztardust</td>\n",
       "      <td>1</td>\n",
       "      <td>2</td>\n",
       "      <td>1</td>\n",
       "      <td>1312243200</td>\n",
       "      <td>Highly Addicting!</td>\n",
       "      <td>I did not purchase this product off of Amazon....</td>\n",
       "    </tr>\n",
       "    <tr>\n",
       "      <th>39977</th>\n",
       "      <td>39978</td>\n",
       "      <td>B001TZJ3OE</td>\n",
       "      <td>AF1PV3DIC0XM7</td>\n",
       "      <td>Robert Ashton</td>\n",
       "      <td>1</td>\n",
       "      <td>2</td>\n",
       "      <td>1</td>\n",
       "      <td>1081555200</td>\n",
       "      <td>Classic Condiment</td>\n",
       "      <td>Mae Ploy Sweet Chili Sauce is becoming a stand...</td>\n",
       "    </tr>\n",
       "    <tr>\n",
       "      <th>39978</th>\n",
       "      <td>39979</td>\n",
       "      <td>B001TZJ3OE</td>\n",
       "      <td>A1VTHOTQFPRFVT</td>\n",
       "      <td>jumperboy</td>\n",
       "      <td>0</td>\n",
       "      <td>1</td>\n",
       "      <td>2</td>\n",
       "      <td>1301961600</td>\n",
       "      <td>Just Okay, Too Sweet</td>\n",
       "      <td>I was excited to try this sauce based on the r...</td>\n",
       "    </tr>\n",
       "    <tr>\n",
       "      <th>39979</th>\n",
       "      <td>39980</td>\n",
       "      <td>B001TZJ3OE</td>\n",
       "      <td>AAJ1IYOUIHWF</td>\n",
       "      <td>D. Sun</td>\n",
       "      <td>1</td>\n",
       "      <td>11</td>\n",
       "      <td>2</td>\n",
       "      <td>1243036800</td>\n",
       "      <td>Too much</td>\n",
       "      <td>These are very large bottles. It is a good dip...</td>\n",
       "    </tr>\n",
       "    <tr>\n",
       "      <th>39980</th>\n",
       "      <td>39981</td>\n",
       "      <td>B001TZJ3OE</td>\n",
       "      <td>A3E3YJO2V3YZUM</td>\n",
       "      <td>Lidgemeister</td>\n",
       "      <td>2</td>\n",
       "      <td>15</td>\n",
       "      <td>0</td>\n",
       "      <td>1295481600</td>\n",
       "      <td>Guess I'm in the Minority</td>\n",
       "      <td>I was looking for a good sweet and sour sauce ...</td>\n",
       "    </tr>\n",
       "  </tbody>\n",
       "</table>\n",
       "<p>2548 rows × 10 columns</p>\n",
       "</div>"
      ],
      "text/plain": [
       "          Id   ProductId          UserId       ProfileName  \\\n",
       "29        30  B0001PB9FY  A3HDKO7OW0QNK4      Canadian Fan   \n",
       "574      575  B000G6RYNE  A3PJZ8TU8FDQ1K      Jared Castle   \n",
       "1973    1974  B0017165OG  A2EPNS38TTLZYN          tedebear   \n",
       "2309    2310  B0001VWE0M   AQM74O8Z4FMS0          Sunshine   \n",
       "2323    2324  B0001VWE0C   AQM74O8Z4FMS0          Sunshine   \n",
       "...      ...         ...             ...               ...   \n",
       "39976  39977  B001TZJ3OE  A3908E1G8IL52G  Jessica Ztardust   \n",
       "39977  39978  B001TZJ3OE   AF1PV3DIC0XM7     Robert Ashton   \n",
       "39978  39979  B001TZJ3OE  A1VTHOTQFPRFVT         jumperboy   \n",
       "39979  39980  B001TZJ3OE    AAJ1IYOUIHWF            D. Sun   \n",
       "39980  39981  B001TZJ3OE  A3E3YJO2V3YZUM      Lidgemeister   \n",
       "\n",
       "       HelpfulnessNumerator  HelpfulnessDenominator  Score        Time  \\\n",
       "29                        1                       1      1  1107820800   \n",
       "574                       2                       2      1  1231718400   \n",
       "1973                      0                       0      2  1312675200   \n",
       "2309                      0                       0      0  1127606400   \n",
       "2323                      0                       0      0  1127606400   \n",
       "...                     ...                     ...    ...         ...   \n",
       "39976                     1                       2      1  1312243200   \n",
       "39977                     1                       2      1  1081555200   \n",
       "39978                     0                       1      2  1301961600   \n",
       "39979                     1                      11      2  1243036800   \n",
       "39980                     2                      15      0  1295481600   \n",
       "\n",
       "                                           Summary  \\\n",
       "29                 The Best Hot Sauce in the World   \n",
       "574    One bite and you'll become a \"chippoisseur\"   \n",
       "1973                                     Pok Chops   \n",
       "2309                                Below standard   \n",
       "2323                                Below standard   \n",
       "...                                            ...   \n",
       "39976                            Highly Addicting!   \n",
       "39977                            Classic Condiment   \n",
       "39978                         Just Okay, Too Sweet   \n",
       "39979                                     Too much   \n",
       "39980                    Guess I'm in the Minority   \n",
       "\n",
       "                                                    Text  \n",
       "29     I don't know if it's the cactus or the tequila...  \n",
       "574    I'm addicted to salty and tangy flavors, so wh...  \n",
       "1973   The pork chops from Omaha Steaks were very tas...  \n",
       "2309   Too much of the white pith on this orange peel...  \n",
       "2323   Too much of the white pith on this orange peel...  \n",
       "...                                                  ...  \n",
       "39976  I did not purchase this product off of Amazon....  \n",
       "39977  Mae Ploy Sweet Chili Sauce is becoming a stand...  \n",
       "39978  I was excited to try this sauce based on the r...  \n",
       "39979  These are very large bottles. It is a good dip...  \n",
       "39980  I was looking for a good sweet and sour sauce ...  \n",
       "\n",
       "[2548 rows x 10 columns]"
      ]
     },
     "execution_count": 8,
     "metadata": {},
     "output_type": "execute_result"
    }
   ],
   "source": [
    "# Lets check the data for duplicate values\n",
    "\n",
    "Food_Reviews[Food_Reviews[[\"UserId\",\"ProfileName\",\"Time\",\"Text\"]].duplicated()]"
   ]
  },
  {
   "cell_type": "code",
   "execution_count": 9,
   "metadata": {},
   "outputs": [],
   "source": [
    "# So, there are duplicates in our data. Lets drop the duplicate entries.\n",
    "\n",
    "Food_Reviewsdf = Food_Reviews.drop_duplicates(subset={\"UserId\",\"ProfileName\",\"Time\",\"Text\"},keep='first')"
   ]
  },
  {
   "cell_type": "code",
   "execution_count": 10,
   "metadata": {},
   "outputs": [
    {
     "data": {
      "text/plain": [
       "Id                        False\n",
       "ProductId                 False\n",
       "UserId                    False\n",
       "ProfileName                True\n",
       "HelpfulnessNumerator      False\n",
       "HelpfulnessDenominator    False\n",
       "Score                     False\n",
       "Time                      False\n",
       "Summary                    True\n",
       "Text                      False\n",
       "dtype: bool"
      ]
     },
     "execution_count": 10,
     "metadata": {},
     "output_type": "execute_result"
    }
   ],
   "source": [
    "# Now lets check for the missing values.\n",
    "## We can see that Score & Text columns do not have null values.\n",
    "### Here we can consider as - Text is our Feature and Score is our Label. So from now on we deal only with Text and Score columns\n",
    "\n",
    "Food_Reviewsdf.isnull().any()"
   ]
  },
  {
   "cell_type": "code",
   "execution_count": 12,
   "metadata": {},
   "outputs": [
    {
     "data": {
      "text/plain": [
       "<matplotlib.axes._subplots.AxesSubplot at 0x2430375b588>"
      ]
     },
     "execution_count": 12,
     "metadata": {},
     "output_type": "execute_result"
    },
    {
     "data": {
      "image/png": "[encoded data removed]",
      "text/plain": [
       "<Figure size 1800x720 with 2 Axes>"
      ]
     },
     "metadata": {
      "needs_background": "light"
     },
     "output_type": "display_data"
    }
   ],
   "source": [
    "#We have no missing values.\n",
    "#To confirm, we can visualize missing values using missingno module.\n",
    "\n",
    "%matplotlib inline\n",
    "\n",
    "import missingno as msno\n",
    "msno.matrix(Food_Reviewsdf)"
   ]
  },
  {
   "cell_type": "code",
   "execution_count": 13,
   "metadata": {
    "scrolled": true
   },
   "outputs": [
    {
     "data": {
      "text/plain": [
       "1    28875\n",
       "0     5597\n",
       "2     2980\n",
       "Name: Score, dtype: int64"
      ]
     },
     "execution_count": 13,
     "metadata": {},
     "output_type": "execute_result"
    }
   ],
   "source": [
    "Food_Reviewsdf[\"Score\"].value_counts()"
   ]
  },
  {
   "cell_type": "code",
   "execution_count": 96,
   "metadata": {},
   "outputs": [
    {
     "data": {
      "image/png": "[encoded data removed]",
      "text/plain": [
       "<Figure size 504x288 with 1 Axes>"
      ]
     },
     "metadata": {
      "needs_background": "light"
     },
     "output_type": "display_data"
    }
   ],
   "source": [
    "#Total count of Reviews Score\n",
    "\n",
    "Food_Reviewsdf[\"Score\"].replace({0:'Negative',1:'Positive', 2:'Neutral'}).value_counts().plot(kind='bar',figsize=(7,4))\n",
    "plt.title(\"Total count of Reviews Score\");\n",
    "plt.xlabel(\"Score\");\n",
    "plt.ylabel(\"Count\");"
   ]
  },
  {
   "cell_type": "code",
   "execution_count": 101,
   "metadata": {},
   "outputs": [
    {
     "data": {
      "image/png": "[encoded data removed]",
      "text/plain": [
       "<Figure size 432x288 with 1 Axes>"
      ]
     },
     "metadata": {},
     "output_type": "display_data"
    }
   ],
   "source": [
    "# Pie Chart to show the Label distribution\n",
    "\n",
    "labels = reviews_df[\"Score\"].replace({0:'Negative',1:'Positive', 2:'Neutral'}).unique()\n",
    "colors = ['gold', 'lightcoral', 'lightskyblue']\n",
    "explode = (0.1, 0, 0)  # explode 1st slice\n",
    "\n",
    "plt.pie(reviews_df[\"Score\"].value_counts(),autopct='%1.1f%%',radius=2,  explode=explode,labels=labels,colors=colors, shadow=True, startangle=260)\n",
    "plt.show()"
   ]
  },
  {
   "cell_type": "markdown",
   "metadata": {},
   "source": [
    "From the above bar plot and pie we can clearly see that our data is imbalanced biasing towards to positive class(1) -> 77.1%."
   ]
  },
  {
   "cell_type": "markdown",
   "metadata": {},
   "source": [
    "# Pre-Processing of text"
   ]
  },
  {
   "cell_type": "code",
   "execution_count": 23,
   "metadata": {},
   "outputs": [],
   "source": [
    "reviews_df=Food_Reviewsdf[[\"Text\",\"Score\"]]"
   ]
  },
  {
   "cell_type": "code",
   "execution_count": 24,
   "metadata": {},
   "outputs": [
    {
     "data": {
      "text/html": [
       "<div>\n",
       "<style scoped>\n",
       "    .dataframe tbody tr th:only-of-type {\n",
       "        vertical-align: middle;\n",
       "    }\n",
       "\n",
       "    .dataframe tbody tr th {\n",
       "        vertical-align: top;\n",
       "    }\n",
       "\n",
       "    .dataframe thead th {\n",
       "        text-align: right;\n",
       "    }\n",
       "</style>\n",
       "<table border=\"1\" class=\"dataframe\">\n",
       "  <thead>\n",
       "    <tr style=\"text-align: right;\">\n",
       "      <th></th>\n",
       "      <th>Text</th>\n",
       "      <th>Score</th>\n",
       "    </tr>\n",
       "  </thead>\n",
       "  <tbody>\n",
       "    <tr>\n",
       "      <th>0</th>\n",
       "      <td>I have bought several of the Vitality canned d...</td>\n",
       "      <td>1</td>\n",
       "    </tr>\n",
       "    <tr>\n",
       "      <th>1</th>\n",
       "      <td>Product arrived labeled as Jumbo Salted Peanut...</td>\n",
       "      <td>0</td>\n",
       "    </tr>\n",
       "    <tr>\n",
       "      <th>2</th>\n",
       "      <td>This is a confection that has been around a fe...</td>\n",
       "      <td>1</td>\n",
       "    </tr>\n",
       "    <tr>\n",
       "      <th>3</th>\n",
       "      <td>If you are looking for the secret ingredient i...</td>\n",
       "      <td>0</td>\n",
       "    </tr>\n",
       "    <tr>\n",
       "      <th>4</th>\n",
       "      <td>Great taffy at a great price.  There was a wid...</td>\n",
       "      <td>1</td>\n",
       "    </tr>\n",
       "  </tbody>\n",
       "</table>\n",
       "</div>"
      ],
      "text/plain": [
       "                                                Text  Score\n",
       "0  I have bought several of the Vitality canned d...      1\n",
       "1  Product arrived labeled as Jumbo Salted Peanut...      0\n",
       "2  This is a confection that has been around a fe...      1\n",
       "3  If you are looking for the secret ingredient i...      0\n",
       "4  Great taffy at a great price.  There was a wid...      1"
      ]
     },
     "execution_count": 24,
     "metadata": {},
     "output_type": "execute_result"
    }
   ],
   "source": [
    "reviews_df.head()"
   ]
  },
  {
   "cell_type": "code",
   "execution_count": 25,
   "metadata": {},
   "outputs": [
    {
     "name": "stdout",
     "output_type": "stream",
     "text": [
      "{'here', \"needn't\", 'more', 'of', 'there', 'what', 'theirs', 'having', 'hasn', 'those', 've', 'just', 'hadn', 'same', 'doing', 'against', 'are', 'me', 'which', 're', 'm', \"isn't\", 'the', \"it's\", 'yourself', 'each', 'mightn', 'any', 'it', 'some', 'weren', 'mustn', 'further', 'through', 'being', 'itself', 'very', 'we', 'then', \"didn't\", 'these', 'only', 'from', \"shan't\", 'his', 'but', 'd', 'been', 'have', 'to', 'such', 'their', 'was', 'and', 'about', 'no', 'o', 'can', 'out', 'has', 'below', \"aren't\", 'yours', 'yourselves', 'ourselves', 'him', 'didn', \"hasn't\", 'up', 'before', 'myself', 'so', 'as', 'our', \"that'll\", 'is', 'doesn', 'at', 's', 'does', 'on', 'ours', 'needn', \"you're\", \"shouldn't\", 'who', \"you'll\", 'an', 'whom', 'between', 'will', 'shan', 'all', 'she', 'other', \"should've\", 'with', 'ain', 'for', 'nor', 'wouldn', \"don't\", 'did', 'than', 'now', 'both', \"couldn't\", 'few', 'am', 'under', 'this', 'in', 't', \"mustn't\", 'should', 'were', 'a', 'own', 'he', 'above', 'i', 'where', \"wouldn't\", 'don', 'when', 'most', 'couldn', 'how', 'by', 'isn', 'they', 'that', 'you', 'her', \"she's\", 'while', 'be', 'off', 'because', 'again', 'do', \"you've\", \"haven't\", 'hers', 'into', 'wasn', 'ma', 'down', 'll', \"hadn't\", \"mightn't\", 'them', \"you'd\", \"weren't\", 'won', 'after', 'themselves', 'aren', 'its', 'haven', \"wasn't\", 'too', 'herself', 'over', 'if', 'shouldn', 'not', 'himself', 'until', 'my', 'why', 'y', \"doesn't\", 'had', 'or', 'during', 'once', 'your', \"won't\"}\n"
     ]
    }
   ],
   "source": [
    " print(stop_words)"
   ]
  },
  {
   "cell_type": "code",
   "execution_count": 26,
   "metadata": {},
   "outputs": [],
   "source": [
    "stop_words.remove(\"not\")"
   ]
  },
  {
   "cell_type": "code",
   "execution_count": 27,
   "metadata": {},
   "outputs": [],
   "source": [
    "#The reviews we are given have a lot of unnecessary characters, some regular common words which don’t really add anything to the model’s performance. We need to eliminate such factors prior to modeling.\n",
    "#(i) Remove all HTML tags using Beautiful soap\n",
    "#(ii) Remove all special characters and numbers using re.\n",
    "#(iii) Tokenize the reviews and convert to lower case\n",
    "#(iv) Perform stemming using PorterStemmer\n",
    "#(v) Remove all stop words."
   ]
  },
  {
   "cell_type": "code",
   "execution_count": 28,
   "metadata": {},
   "outputs": [],
   "source": [
    "def text_Preprocessing(reviews):\n",
    "    pre_processed_reviews=[]\n",
    "    for review in tqdm(reviews):\n",
    "        review= BeautifulSoup(review,'lxml').getText()#remove html tags\n",
    "        review=re.sub('[^A-Za-z]+',' ',review) #remove special chars\n",
    "        review=re.sub(\"n't\",\"not\",review)\n",
    "        review=word_tokenize(str(review.lower())) #tokenize the reviews into word tokens\n",
    "        review=' '.join(PorterStemmer().stem(word) for word in review if word not in stop_words)\n",
    "        pre_processed_reviews.append(review.strip())\n",
    "    return pre_processed_reviews"
   ]
  },
  {
   "cell_type": "code",
   "execution_count": 29,
   "metadata": {},
   "outputs": [
    {
     "name": "stderr",
     "output_type": "stream",
     "text": [
      "100%|██████████| 37452/37452 [01:09<00:00, 540.16it/s]\n"
     ]
    }
   ],
   "source": [
    "preprocessed_reviews=text_Preprocessing(reviews_df[\"Text\"])"
   ]
  },
  {
   "cell_type": "code",
   "execution_count": 30,
   "metadata": {},
   "outputs": [
    {
     "data": {
      "text/plain": [
       "'buyer bewar pleas sweeten not everybodi maltitol alcohol sugar undigest bodi know short time consum one unsuspect mani not digest extrem intestin bloat cramp massiv amount ga person experi nausea diarrhea headach also experienc learn lesson hard way year ago fell love sugar free chocol suzann sommer use sell thought found sugar free chocol nirvana first tast bliss short live terribl side effect maltitol kick discomfort unlik anyth ever felt blew like balloon pain abdomin cramp symptom pass unpleas though hard believ low calori sweeten could culprit symptom gone stop eat chocol hunch someth maltitol unfortun confirm year later purchas delici sugar free popcorn local market tast amaz look label wonder could possibl make yummi new sugarfre treat tast good heart sank follow littl asterisk next sugarfre sweeten bottom label read maltitol tini littl letter thank good eaten littl still end side effect much shorter durat peopl use maltitol heart content other like bad reaction case like not maltitol'"
      ]
     },
     "execution_count": 30,
     "metadata": {},
     "output_type": "execute_result"
    }
   ],
   "source": [
    "# Here we  have a Numpy array consisting of a list of lists\n",
    "\n",
    "preprocessed_reviews[72]"
   ]
  },
  {
   "cell_type": "code",
   "execution_count": 31,
   "metadata": {},
   "outputs": [],
   "source": [
    "# We create a pandas dataframe from numpy array\n",
    "\n",
    "preprocessed_reviews = pd.DataFrame({'text':preprocessed_reviews,'sentiment':reviews_df.Score})"
   ]
  },
  {
   "cell_type": "code",
   "execution_count": 32,
   "metadata": {},
   "outputs": [
    {
     "data": {
      "text/html": [
       "<div>\n",
       "<style scoped>\n",
       "    .dataframe tbody tr th:only-of-type {\n",
       "        vertical-align: middle;\n",
       "    }\n",
       "\n",
       "    .dataframe tbody tr th {\n",
       "        vertical-align: top;\n",
       "    }\n",
       "\n",
       "    .dataframe thead th {\n",
       "        text-align: right;\n",
       "    }\n",
       "</style>\n",
       "<table border=\"1\" class=\"dataframe\">\n",
       "  <thead>\n",
       "    <tr style=\"text-align: right;\">\n",
       "      <th></th>\n",
       "      <th>text</th>\n",
       "      <th>sentiment</th>\n",
       "    </tr>\n",
       "  </thead>\n",
       "  <tbody>\n",
       "    <tr>\n",
       "      <th>0</th>\n",
       "      <td>bought sever vital can dog food product found ...</td>\n",
       "      <td>1</td>\n",
       "    </tr>\n",
       "    <tr>\n",
       "      <th>1</th>\n",
       "      <td>product arriv label jumbo salt peanut peanut a...</td>\n",
       "      <td>0</td>\n",
       "    </tr>\n",
       "    <tr>\n",
       "      <th>2</th>\n",
       "      <td>confect around centuri light pillowi citru gel...</td>\n",
       "      <td>1</td>\n",
       "    </tr>\n",
       "    <tr>\n",
       "      <th>3</th>\n",
       "      <td>look secret ingredi robitussin believ found go...</td>\n",
       "      <td>0</td>\n",
       "    </tr>\n",
       "    <tr>\n",
       "      <th>4</th>\n",
       "      <td>great taffi great price wide assort yummi taff...</td>\n",
       "      <td>1</td>\n",
       "    </tr>\n",
       "    <tr>\n",
       "      <th>...</th>\n",
       "      <td>...</td>\n",
       "      <td>...</td>\n",
       "    </tr>\n",
       "    <tr>\n",
       "      <th>39995</th>\n",
       "      <td>tri wide varieti popcorn gener find qualiti br...</td>\n",
       "      <td>1</td>\n",
       "    </tr>\n",
       "    <tr>\n",
       "      <th>39996</th>\n",
       "      <td>unabl buy hulless popcorn area first time sinc...</td>\n",
       "      <td>1</td>\n",
       "    </tr>\n",
       "    <tr>\n",
       "      <th>39997</th>\n",
       "      <td>even hull popcorn hull contain moistur kernel ...</td>\n",
       "      <td>1</td>\n",
       "    </tr>\n",
       "    <tr>\n",
       "      <th>39998</th>\n",
       "      <td>bought popcorn amazon recommend least show air...</td>\n",
       "      <td>1</td>\n",
       "    </tr>\n",
       "    <tr>\n",
       "      <th>39999</th>\n",
       "      <td>interest fact popcorn suppos pop less hull how...</td>\n",
       "      <td>1</td>\n",
       "    </tr>\n",
       "  </tbody>\n",
       "</table>\n",
       "<p>37452 rows × 2 columns</p>\n",
       "</div>"
      ],
      "text/plain": [
       "                                                    text  sentiment\n",
       "0      bought sever vital can dog food product found ...          1\n",
       "1      product arriv label jumbo salt peanut peanut a...          0\n",
       "2      confect around centuri light pillowi citru gel...          1\n",
       "3      look secret ingredi robitussin believ found go...          0\n",
       "4      great taffi great price wide assort yummi taff...          1\n",
       "...                                                  ...        ...\n",
       "39995  tri wide varieti popcorn gener find qualiti br...          1\n",
       "39996  unabl buy hulless popcorn area first time sinc...          1\n",
       "39997  even hull popcorn hull contain moistur kernel ...          1\n",
       "39998  bought popcorn amazon recommend least show air...          1\n",
       "39999  interest fact popcorn suppos pop less hull how...          1\n",
       "\n",
       "[37452 rows x 2 columns]"
      ]
     },
     "execution_count": 32,
     "metadata": {},
     "output_type": "execute_result"
    }
   ],
   "source": [
    "preprocessed_reviews"
   ]
  },
  {
   "cell_type": "code",
   "execution_count": 33,
   "metadata": {},
   "outputs": [
    {
     "data": {
      "image/png": "[encoded data removed]",
      "text/plain": [
       "<Figure size 432x288 with 1 Axes>"
      ]
     },
     "metadata": {
      "needs_background": "light"
     },
     "output_type": "display_data"
    },
    {
     "data": {
      "text/plain": [
       "1    28875\n",
       "0     5597\n",
       "2     2980\n",
       "Name: sentiment, dtype: int64"
      ]
     },
     "execution_count": 33,
     "metadata": {},
     "output_type": "execute_result"
    }
   ],
   "source": [
    "d = sns.countplot(x=\"Score\", data=Food_Reviewsdf, palette=\"Set1\")\n",
    "d.axes.set_title(\"Total count of Review Score\")\n",
    "d.set_xlabel(\"Score\")\n",
    "d.set_ylabel(\"Count\")\n",
    "plt.show()\n",
    "preprocessed_reviews.sentiment.value_counts()"
   ]
  },
  {
   "cell_type": "markdown",
   "metadata": {},
   "source": [
    "# Text Featurization"
   ]
  },
  {
   "cell_type": "code",
   "execution_count": 34,
   "metadata": {},
   "outputs": [
    {
     "name": "stdout",
     "output_type": "stream",
     "text": [
      "(28089,) (9363,)\n",
      "(28089,) (9363,)\n"
     ]
    }
   ],
   "source": [
    "# We split the data to test & training\n",
    "\n",
    "reviews_train,reviews_test,sentiment_train,sentiment_test = train_test_split(preprocessed_reviews.text,preprocessed_reviews.sentiment)\n",
    "print(reviews_train.shape,reviews_test.shape)\n",
    "print(sentiment_train.shape,sentiment_test.shape)"
   ]
  },
  {
   "cell_type": "code",
   "execution_count": 35,
   "metadata": {
    "scrolled": false
   },
   "outputs": [],
   "source": [
    "#Applying TF-IDF\n",
    "\n",
    "tfidf_model=TfidfVectorizer(ngram_range=(1,2),min_df=10, max_features=10000)\n",
    "tfidf_model.fit(reviews_train,sentiment_train)\n",
    "reviews_train_tfidf=tfidf_model.transform(reviews_train)\n",
    "reviews_test_tfidf=tfidf_model.transform(reviews_test)\n"
   ]
  },
  {
   "cell_type": "code",
   "execution_count": 36,
   "metadata": {},
   "outputs": [
    {
     "name": "stdout",
     "output_type": "stream",
     "text": [
      "['abil', 'abl', 'abl buy', 'abl drink', 'abl eat', 'abl enjoy', 'abl find', 'abl get', 'abl make', 'abl order', 'abl purchas', 'abl use', 'absolut', 'absolut best', 'absolut delici', 'absolut favorit', 'absolut love', 'absolut wonder', 'absorb', 'absorb flavor', 'abund', 'acai', 'accept', 'access', 'accid', 'accident', 'accompani', 'accomplish', 'accord', 'accord direct', 'account', 'accur', 'accustom', 'acerola', 'ach', 'achiev', 'acid', 'acid coffe', 'acid not', 'acid reflux', 'acid tast', 'acquir', 'acquir tast', 'across', 'act', 'act like', 'action', 'activ', 'actual', 'actual eat', 'actual good', 'actual like', 'actual look', 'actual prefer', 'actual tast', 'actual use', 'actual work', 'ad', 'ad bit', 'ad bonu', 'ad flavor', 'ad littl', 'ad milk', 'ad salt', 'ad sugar', 'ad sweeten', 'ad water', 'adapt', 'add', 'add anyth', 'add bit', 'add cup', 'add extra', 'add flavor', 'add hot', 'add littl', 'add lot', 'add milk', 'add much', 'add nice', 'add one', 'add salt', 'add sugar', 'add water', 'addict', 'addit', 'address', 'adequ', 'adjust', 'admit', 'admittedli', 'adopt', 'ador', 'adult', 'adult dog', 'advanc', 'advantag', 'adventur', 'advers', 'advertis', 'advic', 'advis', 'affect', 'afford', 'afford price', 'afraid', 'african', 'afternoon', 'afternoon snack', 'aftertast', 'aftertast not', 'afterward', 'agav', 'agav nectar', 'age', 'agent', 'aggress', 'aggress chewer', 'ago', 'ago not', 'agre', 'agre review', 'ahead', 'ahoy', 'aid', 'air', 'air popper', 'air tight', 'airi', 'airtight', 'aisl', 'akin', 'al', 'al dent', 'ala', 'alcohol', 'ale', 'alert', 'alfredo', 'alik', 'aliv', 'allerg', 'allerg reaction', 'allergen', 'allergi', 'allot', 'allow', 'almond', 'almond butter', 'almond milk', 'almost', 'almost alway', 'almost anyth', 'almost everi', 'almost everyth', 'almost good', 'almost immedi', 'almost imposs', 'almost like', 'almost tast', 'almost year', 'alo', 'alon', 'along', 'alot', 'alreadi', 'alright', 'also', 'also ad', 'also add', 'also bought', 'also buy', 'also contain', 'also eat', 'also enjoy', 'also find', 'also found', 'also get', 'also give', 'also good', 'also got', 'also great', 'also healthi', 'also help', 'also keep', 'also like', 'also love', 'also made', 'also make', 'also much', 'also nice', 'also not', 'also notic', 'also one', 'also purchas', 'also quit', 'also realli', 'also recommend', 'also say', 'also tast', 'also think', 'also tri', 'also use', 'also want', 'also work', 'alter', 'altern', 'altern regular', 'altern soda', 'although', 'although like', 'although not', 'although still', 'altogeth', 'altoid', 'aluminum', 'aluminum free', 'alway', 'alway add', 'alway avail', 'alway buy', 'alway come', 'alway enjoy', 'alway fresh', 'alway get', 'alway good', 'alway keep', 'alway like', 'alway look', 'alway love', 'alway make', 'alway order', 'alway seem', 'alway tri', 'alway use', 'alway want', 'amaz', 'amaz tast', 'amazingli', 'amazon', 'amazon alway', 'amazon best', 'amazon bought', 'amazon box', 'amazon buy', 'amazon carri', 'amazon com', 'amazon custom', 'amazon even', 'amazon found', 'amazon free', 'amazon get', 'amazon good', 'amazon great', 'amazon keep', 'amazon make', 'amazon much', 'amazon need', 'amazon not', 'amazon offer', 'amazon one', 'amazon order', 'amazon packag', 'amazon price', 'amazon prime', 'amazon product', 'amazon purchas', 'amazon realli', 'amazon review', 'amazon save', 'amazon sell', 'amazon ship', 'amazon sinc', 'amazon stock', 'amazon subscrib', 'amazon subscript', 'amazon thank', 'amazon tri', 'amazon use', 'amazon usual', 'amazon vine', 'amazon would', 'amber', 'america', 'american', 'amino', 'amino acid', 'among', 'amount', 'amount coffe', 'amount get', 'amount salt', 'amount sugar', 'amount sweet', 'amount time', 'amount use', 'amount water', 'analysi', 'anchovi', 'angel', 'angel hair', 'anim', 'anis', 'anni', 'anni chun', 'annoy', 'anoth', 'anoth box', 'anoth brand', 'anoth case', 'anoth compani', 'anoth flavor', 'anoth great', 'anoth one', 'anoth order', 'anoth plu', 'anoth product', 'anoth review', 'answer', 'ant', 'anti', 'antibiot', 'anticip', 'antioxid', 'anxieti', 'anxiou', 'anybodi', 'anyhow', 'anymor', 'anyon', 'anyon els', 'anyon enjoy', 'anyon know', 'anyon like', 'anyon look', 'anyon love', 'anyon tri', 'anyon want', 'anyon would', 'anyth', 'anyth els', 'anyth like', 'anytim', 'anyway', 'anywher', 'anywher els', 'anywher near', 'apart', 'apolog', 'appar', 'appeal', 'appear', 'appet', 'appetit', 'appl', 'appl chip', 'appl cider', 'appl cinnamon', 'appl flavor', 'appl grape', 'appl juic', 'applesauc', 'appli', 'applic', 'appreci', 'approach', 'appropri', 'approv', 'approx', 'approxim', 'apricot', 'arabica', 'area', 'arm', 'aroma', 'aroma flavor', 'aroma tast', 'aromat', 'around', 'around get', 'around hous', 'arriv', 'arriv broken', 'arriv day', 'arriv fresh', 'arriv good', 'arriv perfect', 'arriv promptli', 'arriv quickli', 'arriv time', 'arriv today', 'art', 'arthriti', 'articl', 'artif', 'artifici', 'artifici color', 'artifici flavor', 'artifici ingredi', 'artifici sweeten', 'artifici tast', 'ascorb', 'ascorb acid', 'asia', 'asian', 'asid', 'ask', 'asleep', 'asparagu', 'aspartam', 'aspect', 'assam', 'assist', 'associ', 'assort', 'assum', 'assur', 'asthma', 'ate', 'ate one', 'ate whole', 'atkin', 'attach', 'attack', 'attempt', 'attent', 'attest', 'attract', 'attribut', 'audio', 'august', 'aunt', 'australian', 'authent', 'author', 'auto', 'auto deliveri', 'auto ship', 'automat', 'avail', 'avail amazon', 'avail local', 'avail store', 'averag', 'avid', 'avocado', 'avocado oil', 'avoderm', 'avoid', 'aw', 'aw tast', 'await', 'awak', 'awar', 'award', 'away', 'away not', 'awesom', 'awesom product', 'awhil', 'babi', 'babi eat', 'babi food', 'babi like', 'babi love', 'babi not', 'back', 'back amazon', 'back bag', 'back buy', 'back home', 'back natur', 'back old', 'back one', 'back order', 'background', 'backpack', 'backyard', 'bacon', 'bacon flavor', 'bacteria', 'bad', 'bad batch', 'bad breath', 'bad coffe', 'bad not', 'bad one', 'bad review', 'bad tast', 'bad thing', 'badli', 'badli dent', 'bag', 'bag also', 'bag amazon', 'bag bag', 'bag calori', 'bag chip', 'bag coffe', 'bag come', 'bag contain', 'bag day', 'bag dog', 'bag even', 'bag flavor', 'bag get', 'bag go', 'bag good', 'bag got', 'bag great', 'bag insid', 'bag keep', 'bag last', 'bag like', 'bag made', 'bag make', 'bag not', 'bag one', 'bag open', 'bag order', 'bag pack', 'bag per', 'bag perfect', 'bag price', 'bag purchas', 'bag seem', 'bag sinc', 'bag small', 'bag smell', 'bag tast', 'bag tea', 'bag time', 'bag treat', 'bag tri', 'bag two', 'bag use', 'bag without', 'bag work', 'bag would', 'bagel', 'baggi', 'bait', 'bake', 'bake chicken', 'bake chip', 'bake good', 'bake mix', 'bake pork', 'bake potato', 'bake powder', 'bake soda', 'baker', 'bakeri', 'balanc', 'balanc flavor', 'balanc sweet', 'ball', 'balsam', 'ban', 'banana', 'band', 'bang', 'bang buck', 'bank', 'bar', 'bar good', 'bar great', 'bar not', 'bar tast', 'barbecu', 'barbequ', 'bare', 'bargain', 'barista', 'bark', 'barley', 'barley organ', 'barrel', 'base', 'base review', 'base upon', 'basi', 'basic', 'basil', 'basket', 'basmati', 'basmati rice', 'batch', 'bath', 'bath beyond', 'bathroom', 'batter', 'bay', 'bbq', 'bbq chip', 'bbq flavor', 'bbq sauc', 'beaba', 'beach', 'beagl', 'bean', 'bean coffe', 'bean direct', 'bean not', 'bear', 'beat', 'beat price', 'beauti', 'becam', 'becom', 'becom favorit', 'bed', 'bed bath', 'bedtim', 'bee', 'beef', 'beef chicken', 'beef flavor', 'beef jerki', 'beef liver', 'beef steak', 'beef stick', 'beer', 'beg', 'began', 'begin', 'begun', 'behavior', 'behind', 'belgian', 'belgian waffl', 'belgium', 'believ', 'believ good', 'believ not', 'bell', 'belli', 'belov', 'benefici', 'benefit', 'benefit green', 'bengal', 'bergamot', 'berri', 'berri flavor', 'berri tast', 'besid', 'best', 'best brand', 'best chip', 'best chocol', 'best coffe', 'best cup', 'best deal', 'best decaf', 'best dog', 'best ever', 'best far', 'best flavor', 'best food', 'best found', 'best friend', 'best gluten', 'best hot', 'best mix', 'best not', 'best one', 'best part', 'best popcorn', 'best price', 'best product', 'best qualiti', 'best snack', 'best tast', 'best tea', 'best thing', 'best treat', 'best tri', 'best use', 'best valu', 'best way', 'bet', 'better', 'better also', 'better altern', 'better anyth', 'better brand', 'better buy', 'better choic', 'better coffe', 'better deal', 'better drink', 'better expect', 'better flavor', 'better get', 'better like', 'better love', 'better make', 'better mani', 'better not', 'better one', 'better option', 'better other', 'better packag', 'better price', 'better product', 'better qualiti', 'better regular', 'better result', 'better tast', 'better tri', 'better use', 'better valu', 'better way', 'betti', 'betti crocker', 'beverag', 'bewar', 'beyond', 'bichon', 'big', 'big bag', 'big box', 'big chunk', 'big deal', 'big differ', 'big dog', 'big easi', 'big enough', 'big fan', 'big hit', 'big mistak', 'big plu', 'big train', 'bigelow', 'bigger', 'biggest', 'bike', 'bill', 'bin', 'bird', 'birthday', 'birthday parti', 'biscotti', 'biscuit', 'bisquick', 'bit', 'bit better', 'bit bitter', 'bit disappoint', 'bit dri', 'bit expens', 'bit get', 'bit good', 'bit hard', 'bit high', 'bit less', 'bit like', 'bit much', 'bit pricey', 'bit salti', 'bit strong', 'bit stronger', 'bit sweet', 'bite', 'bite size', 'bitter', 'bitter acid', 'bitter aftertast', 'bitter coffe', 'bitter like', 'bitter not', 'bitter smooth', 'bitter tast', 'black', 'black bean', 'black cherri', 'black coffe', 'black green', 'black lab', 'black licoric', 'black pepper', 'black tea', 'blackberri', 'blah', 'blair', 'blame', 'bland', 'bland tast', 'blast', 'bleach', 'bleed', 'blend', 'blend coffe', 'blend cup', 'blend not', 'blend perfect', 'blend tea', 'blend tri', 'blender', 'bless', 'blew', 'blind', 'bloat', 'block', 'blog', 'blood', 'blood pressur', 'blood sugar', 'bloodi', 'bloom', 'blossom', 'blow', 'blown', 'blown away', 'blue', 'blue buffalo', 'blue diamond', 'blue mountain', 'blueberri', 'board', 'bob', 'bob red', 'bodi', 'bodi coffe', 'bodi flavor', 'bodi tast', 'boil', 'boil water', 'bold', 'bold coffe', 'bold cup', 'bold flavor', 'bold not', 'bold tast', 'bolder', 'bomb', 'bone', 'boneless', 'bonsai', 'bonsai tree', 'bonu', 'book', 'boost', 'boot', 'booti', 'border', 'border colli', 'bore', 'born', 'boston', 'boston terrier', 'bother', 'bottl', 'bottl water', 'bottom', 'bottom bag', 'bottom cup', 'bottom line', 'bought', 'bought amazon', 'bought anoth', 'bought bag', 'bought box', 'bought brand', 'bought case', 'bought coffe', 'bought first', 'bought gift', 'bought item', 'bought keurig', 'bought local', 'bought one', 'bought pack', 'bought popcorn', 'bought product', 'bought sever', 'bought small', 'bought store', 'bought tea', 'bought toy', 'bought tri', 'bought two', 'bounc', 'bound', 'bowel', 'bowl', 'box', 'box amazon', 'box arriv', 'box bag', 'box box', 'box came', 'box come', 'box contain', 'box cooki', 'box cup', 'box got', 'box great', 'box like', 'box make', 'box not', 'box one', 'box open', 'box order', 'box pack', 'box say', 'box store', 'box tea', 'box time', 'box use', 'box would', 'boxer', 'boy', 'boyarde', 'boyfriend', 'bpa', 'bpa free', 'brain', 'brainer', 'bran', 'brand', 'brand also', 'brand best', 'brand buy', 'brand chip', 'brand coconut', 'brand coffe', 'brand dog', 'brand far', 'brand flavor', 'brand food', 'brand good', 'brand great', 'brand like', 'brand name', 'brand not', 'brand one', 'brand realli', 'brand tast', 'brand tea', 'brand tri', 'brand use', 'brandi', 'brazil', 'bread', 'bread crumb', 'bread machin', 'bread maker', 'bread mix', 'bread not', 'bread recip', 'bread tast', 'bread use', 'breadcrumb', 'break', 'break apart', 'break half', 'break smaller', 'breakag', 'breakfast', 'breakfast bed', 'breakfast blend', 'breakfast cooki', 'breakfast tea', 'breast', 'breast milk', 'breastmilk', 'breath', 'breath smell', 'breed', 'breed dog', 'breeder', 'breez', 'brew', 'brew coffe', 'brew cup', 'brew pot', 'brew system', 'brew tea', 'brewer', 'brewer count', 'brewer pack', 'brick', 'brief', 'bright', 'brilliant', 'brine', 'bring', 'bring back', 'british', 'brittl', 'broccoli', 'broke', 'broken', 'broken piec', 'broth', 'brother', 'brought', 'brought back', 'brought home', 'brown', 'brown color', 'brown rice', 'brown sugar', 'browni', 'browni mix', 'brule', 'brush', 'brush teeth', 'btw', 'bubbl', 'bubbl gum', 'bubbl wrap', 'buck', 'bucket', 'bud', 'buddi', 'budget', 'buffalo', 'buffalo bill', 'bug', 'build', 'built', 'bulk', 'bulk amazon', 'bull', 'bulldog', 'bulli', 'bulli stick', 'bum', 'bummer', 'bun', 'bunch', 'bundl', 'burger', 'buri', 'burn', 'burnt', 'burnt tast', 'burrito', 'burst', 'busi', 'busi buddi', 'bust', 'buster', 'butter', 'butter chocol', 'butter cup', 'butter flavor', 'butter jelli', 'butter not', 'butter salt', 'butter tast', 'butteri', 'buttermilk', 'butterscotch', 'button', 'buy', 'buy amazon', 'buy anoth', 'buy anyth', 'buy bag', 'buy big', 'buy box', 'buy brand', 'buy bulk', 'buy buy', 'buy case', 'buy coffe', 'buy cup', 'buy dog', 'buy flavor', 'buy food', 'buy futur', 'buy good', 'buy great', 'buy groceri', 'buy item', 'buy larg', 'buy larger', 'buy like', 'buy local', 'buy lot', 'buy not', 'buy one', 'buy onlin', 'buy organ', 'buy oz', 'buy pack', 'buy price', 'buy product', 'buy regular', 'buy sever', 'buy smaller', 'buy store', 'buy tea', 'buy time', 'buy treat', 'buy tri', 'buy two', 'buy whole', 'buy year', 'buyer', 'buyer bewar', 'buzz', 'ca', 'cabinet', 'cacao', 'caf', 'cafe', 'caff', 'caffein', 'caffein free', 'caffin', 'cajun', 'cake', 'cake mix', 'cal', 'calcium', 'calcul', 'california', 'call', 'call compani', 'calm', 'calor', 'calori', 'calori bag', 'calori calori', 'calori carb', 'calori content', 'calori count', 'calori fat', 'calori free', 'calori gram', 'calori great', 'calori intak', 'calori low', 'calori not', 'calori pack', 'calori per', 'calori snack', 'calori sugar', 'calori total', 'came', 'came across', 'came back', 'came home', 'came perfect', 'came quickli', 'camp', 'campbel', 'camper', 'can', 'can arriv', 'can cat', 'can dent', 'can food', 'can not', 'can pack', 'can pumpkin', 'can soup', 'canada', 'canadian', 'cancel', 'cancer', 'candi', 'candi bar', 'cane', 'cane juic', 'cane sugar', 'canida', 'canin', 'canist', 'canola', 'canola oil', 'cant', 'cap', 'cappuccino', 'capsul', 'car', 'caramel', 'caramel color', 'caramel flavor', 'carb', 'carb diet', 'carb sugar', 'carbohydr', 'carbon', 'carbon beverag', 'carbon drink', 'carbon fruit', 'carbon juic', 'carbon water', 'carbquik', 'card', 'cardamom', 'cardboard', 'cardboard box', 'care', 'care much', 'care not', 'care packag', 'carib', 'carib blend', 'carib coffe', 'carnivor', 'carousel', 'carpet', 'carri', 'carri around', 'carri product', 'carrot', 'cart', 'carton', 'case', 'case amazon', 'case order', 'casein', 'cashew', 'casserol', 'cast', 'cat', 'cat cat', 'cat eat', 'cat food', 'cat get', 'cat grass', 'cat like', 'cat love', 'cat not', 'cat one', 'cat realli', 'cat seem', 'cat treat', 'cat would', 'cat year', 'catch', 'categori', 'catnip', 'caught', 'caus', 'caution', 'caveat', 'caviar', 'caviti', 'cayenn', 'cayenn pepper', 'celebr', 'celeri', 'celesti', 'celesti season', 'celiac', 'celiac diseas', 'cell', 'cent', 'cent per', 'center', 'central', 'cereal', 'cereal bar', 'certain', 'certainli', 'certainli not', 'certifi', 'certifi organ', 'cet', 'cfh', 'chai', 'chai latt', 'chai tea', 'chain', 'chalk', 'chalki', 'challeng', 'chamomil', 'chamomil tea', 'chanc', 'chanc tri', 'chang', 'chang flavor', 'chang formula', 'chang pace', 'chang recip', 'charact', 'characterist', 'charg', 'chariti', 'charm', 'chase', 'cheap', 'cheaper', 'cheaper amazon', 'cheaper buy', 'cheaper local', 'cheaper store', 'cheapest', 'cheat', 'chebe', 'check', 'check amazon', 'check ingredi', 'cheddar', 'cheddar chees', 'cheddar flavor', 'cheer', 'cheerio', 'chees', 'chees flavor', 'chees tast', 'cheesecak', 'cheesi', 'cheeto', 'chef', 'chef boyarde', 'chemic', 'chemic tast', 'cherri', 'cherri flavor', 'chest', 'chestnut', 'chew', 'chew dog', 'chew gum', 'chew not', 'chew one', 'chew rope', 'chew toy', 'chewabl', 'chewer', 'chewi', 'chewi not', 'chewi textur', 'chia', 'chia seed', 'chicago', 'chick', 'chick chick', 'chicken', 'chicken beef', 'chicken breast', 'chicken broth', 'chicken fish', 'chicken flavor', 'chicken jerki', 'chicken noodl', 'chicken pork', 'chicken pot', 'chicken product', 'chicken rice', 'chicken salad', 'chicken soup', 'chicken turkey', 'chicori', 'chihuahua', 'child', 'childhood', 'children', 'chile', 'chili', 'chili lime', 'chili powder', 'chili sauc', 'chill', 'chilli', 'china', 'chines', 'chines chicken', 'chip', 'chip ahoy', 'chip bag', 'chip best', 'chip coconut', 'chip cooki', 'chip delici', 'chip ever', 'chip flavor', 'chip good', 'chip great', 'chip like', 'chip love', 'chip not', 'chip realli', 'chip tast', 'chip tri', 'chip would', 'chipotl', 'chive', 'chlorid', 'choc', 'choco', 'chocol', 'chocol almond', 'chocol bar', 'chocol cake', 'chocol candi', 'chocol chip', 'chocol chocol', 'chocol chunk', 'chocol coat', 'chocol cocoa', 'chocol coconut', 'chocol coffe', 'chocol cover', 'chocol cup', 'chocol dark', 'chocol drink', 'chocol ever', 'chocol flavor', 'chocol good', 'chocol lab', 'chocol like', 'chocol lover', 'chocol milk', 'chocol mint', 'chocol mix', 'chocol not', 'chocol one', 'chocol peanut', 'chocol raspberri', 'chocol sweet', 'chocol syrup', 'chocol tast', 'chocol treat', 'chocol tri', 'chocol truffl', 'chocol version', 'chocolatey', 'chocolati', 'choic', 'choke', 'cholesterol', 'chomp', 'chondroitin', 'choos', 'chop', 'chose', 'chosen', 'chow', 'chowder', 'christma', 'christma gift', 'christma present', 'chronic', 'chuckl', 'chun', 'chunk', 'chunk chicken', 'chunki', 'church', 'chutney', 'cider', 'cilantro', 'cinnamon', 'cinnamon flavor', 'cinnamon tast', 'circl', 'citi', 'citric', 'citru', 'citru flavor', 'claim', 'clam', 'clam chowder', 'class', 'classic', 'classiqu', 'clean', 'clean tast', 'clean teeth', 'cleaner', 'cleans', 'clear', 'clearli', 'click', 'client', 'clip', 'clock', 'clog', 'close', 'close second', 'closer', 'closest', 'closest thing', 'cloth', 'clove', 'clover', 'club', 'clue', 'clump', 'co', 'co worker', 'coach', 'coach oat', 'coars', 'coast', 'coat', 'coat mix', 'cocker', 'cocker spaniel', 'cocktail', 'coco', 'cocoa', 'cocoa cup', 'cocoa mix', 'cocoa powder', 'coconut', 'coconut bar', 'coconut flavor', 'coconut milk', 'coconut oil', 'coconut sugar', 'coconut water', 'code', 'coff', 'coffe', 'coffe also', 'coffe alway', 'coffe amazon', 'coffe aroma', 'coffe bean', 'coffe best', 'coffe bitter', 'coffe black', 'coffe blend', 'coffe bold', 'coffe brand', 'coffe breakfast', 'coffe brew', 'coffe buy', 'coffe choic', 'coffe coffe', 'coffe come', 'coffe could', 'coffe cup', 'coffe dark', 'coffe day', 'coffe definit', 'coffe drink', 'coffe drinker', 'coffe enjoy', 'coffe even', 'coffe ever', 'coffe everi', 'coffe excel', 'coffe far', 'coffe favorit', 'coffe filter', 'coffe find', 'coffe fine', 'coffe first', 'coffe flavor', 'coffe found', 'coffe french', 'coffe full', 'coffe get', 'coffe give', 'coffe go', 'coffe good', 'coffe got', 'coffe great', 'coffe ground', 'coffe hous', 'coffe howev', 'coffe keurig', 'coffe know', 'coffe like', 'coffe littl', 'coffe look', 'coffe love', 'coffe lover', 'coffe low', 'coffe machin', 'coffe made', 'coffe make', 'coffe maker', 'coffe mate', 'coffe may', 'coffe mild', 'coffe morn', 'coffe much', 'coffe need', 'coffe never', 'coffe nice', 'coffe not', 'coffe one', 'coffe order', 'coffe peopl', 'coffe per', 'coffe pod', 'coffe pot', 'coffe prefer', 'coffe pretti', 'coffe price', 'coffe purchas', 'coffe realli', 'coffe rich', 'coffe right', 'coffe seem', 'coffe shop', 'coffe sinc', 'coffe smell', 'coffe smooth', 'coffe snob', 'coffe still', 'coffe strong', 'coffe tast', 'coffe tea', 'coffe think', 'coffe thought', 'coffe time', 'coffe tri', 'coffe use', 'coffe usual', 'coffe want', 'coffe weak', 'coffe well', 'coffe without', 'coffe would', 'coffe year', 'coffeemak', 'coke', 'cola', 'cold', 'cold brew', 'cold water', 'colic', 'collect', 'colleg', 'colleg student', 'colli', 'colli mix', 'colombian', 'color', 'color flavor', 'color not', 'colour', 'columbian', 'com', 'combin', 'combo', 'come', 'come across', 'come back', 'come bag', 'come china', 'come close', 'come home', 'come nice', 'come pack', 'come packag', 'come run', 'comfort', 'comfort food', 'command', 'comment', 'commerci', 'commit', 'common', 'commun', 'commun coffe', 'compact', 'compani', 'compani make', 'compani not', 'compani use', 'companion', 'compar', 'compar brand', 'compar local', 'compar price', 'comparison', 'compart', 'compens', 'compet', 'competit', 'competitor', 'complain', 'complaint', 'complement', 'complet', 'complet differ', 'complex', 'compliment', 'compon', 'compromis', 'comput', 'con', 'concentr', 'concept', 'concern', 'conclus', 'concoct', 'condens', 'condiment', 'condit', 'cone', 'confect', 'confess', 'confid', 'confirm', 'confus', 'congest', 'connect', 'connoisseur', 'consciou', 'consid', 'consid buy', 'consider', 'consist', 'constant', 'constantli', 'constip', 'construct', 'consum', 'consumpt', 'contact', 'contact compani', 'contain', 'contain calori', 'contain sugar', 'contain wheat', 'contamin', 'content', 'continu', 'continu buy', 'continu order', 'continu purchas', 'continu use', 'contrast', 'contribut', 'control', 'conveni', 'conveni store', 'conveni use', 'conveni way', 'convent', 'convers', 'convert', 'convinc', 'cook', 'cook minut', 'cook not', 'cook time', 'cook use', 'cook well', 'cookbook', 'cooker', 'cooki', 'cooki bar', 'cooki delici', 'cooki good', 'cooki great', 'cooki like', 'cooki mix', 'cooki not', 'cooki tast', 'cool', 'cooler', 'coomb', 'coomb famili', 'copi', 'corgi', 'corn', 'corn starch', 'corn syrup', 'cornbread', 'corner', 'correct', 'correctli', 'cosmic', 'cosmic catnip', 'cost', 'cost effect', 'cost less', 'cost much', 'cost per', 'costa', 'costa rica', 'costco', 'costli', 'cottag', 'cotton', 'couch', 'cough', 'could', 'could ask', 'could bare', 'could better', 'could buy', 'could drink', 'could easili', 'could eat', 'could find', 'could get', 'could give', 'could make', 'could never', 'could not', 'could order', 'could possibl', 'could purchas', 'could see', 'could smell', 'could tast', 'could tell', 'could use', 'couldnt', 'count', 'count box', 'count cup', 'counter', 'countri', 'coupl', 'coupl cup', 'coupl day', 'coupl minut', 'coupl month', 'coupl time', 'coupl week', 'coupl year', 'coupon', 'cours', 'couscou', 'cousin', 'cover', 'cow', 'cow milk', 'cowork', 'crab', 'crack', 'cracker', 'craft', 'cramp', 'cranberri', 'crap', 'crash', 'crate', 'crave', 'crave someth', 'crazi', 'cream', 'cream chees', 'cream onion', 'cream sugar', 'creamer', 'creami', 'creamier', 'creat', 'creation', 'creativ', 'credit', 'creek', 'crema', 'creme', 'creme brule', 'cri', 'crisp', 'crispbread', 'crispi', 'critic', 'crock', 'crock pot', 'crocker', 'crop', 'cross', 'crowd', 'crude', 'crumb', 'crumbl', 'crunch', 'crunchi', 'crunchi not', 'crush', 'crust', 'crystal', 'crystal light', 'cube', 'cuisin', 'cuisinart', 'cultur', 'cup', 'cup also', 'cup brew', 'cup brewer', 'cup coffe', 'cup cup', 'cup day', 'cup even', 'cup everi', 'cup far', 'cup flavor', 'cup get', 'cup good', 'cup great', 'cup hot', 'cup joe', 'cup keurig', 'cup like', 'cup make', 'cup milk', 'cup morn', 'cup noodl', 'cup not', 'cup one', 'cup set', 'cup size', 'cup tast', 'cup tea', 'cup time', 'cup tri', 'cup use', 'cup varieti', 'cup water', 'cup work', 'cup would', 'cupboard', 'cupcak', 'curb', 'cure', 'curios', 'curiou', 'curl', 'current', 'curri', 'custard', 'custom', 'custom servic', 'cut', 'cut back', 'cut half', 'cute', 'cute littl', 'cuz', 'cycl', 'da', 'dachshund', 'dad', 'daili', 'daili basi', 'daili valu', 'dairi', 'dairi free', 'damag', 'damn', 'danc', 'dane', 'dang', 'danger', 'dare', 'darjeel', 'dark', 'dark brown', 'dark chocol', 'dark magic', 'dark roast', 'darker', 'darker roast', 'darn', 'darn good', 'dash', 'date', 'daughter', 'daughter love', 'daughter not', 'dave', 'david', 'davidson', 'day', 'day ago', 'day also', 'day day', 'day get', 'day good', 'day got', 'day great', 'day later', 'day like', 'day long', 'day love', 'day make', 'day need', 'day night', 'day not', 'day one', 'day order', 'day realli', 'day ship', 'day sinc', 'day start', 'day still', 'day tri', 'day two', 'day use', 'day week', 'day without', 'day work', 'day would', 'de', 'dead', 'deal', 'deal amazon', 'deal buy', 'death', 'debat', 'decad', 'decaf', 'decaf coffe', 'decaff', 'decaffein', 'deceiv', 'decemb', 'decent', 'decent amount', 'decent price', 'decept', 'decid', 'decid buy', 'decid give', 'decid go', 'decid order', 'decid purchas', 'decid take', 'decid tri', 'decis', 'decor', 'decreas', 'dedic', 'deduct', 'deep', 'deep flavor', 'deep fri', 'deeper', 'def', 'defeat', 'defeat purpos', 'defect', 'defin', 'definetli', 'definit', 'definit best', 'definit buy', 'definit get', 'definit give', 'definit go', 'definit great', 'definit not', 'definit order', 'definit purchas', 'definit recommend', 'definit tast', 'definit tri', 'definit use', 'definit worth', 'degre', 'dehydr', 'delay', 'delect', 'deli', 'delic', 'delici', 'delici also', 'delici coffe', 'delici easi', 'delici flavor', 'delici like', 'delici love', 'delici not', 'delici snack', 'delici tast', 'delici tea', 'delici tri', 'delici use', 'delight', 'delight find', 'delish', 'deliv', 'deliv door', 'deliv time', 'deliveri', 'demand', 'dens', 'densiti', 'dent', 'dent can', 'dent not', 'dental', 'dental chew', 'dental health', 'depart', 'depend', 'depth', 'depth flavor', 'deriv', 'describ', 'describ tast', 'descript', 'descript product', 'descript say', 'desert', 'deserv', 'design', 'desir', 'desk', 'desper', 'despit', 'dessert', 'destroy', 'destruct', 'detail', 'detect', 'deter', 'determin', 'detox', 'develop', 'devic', 'devour', 'dha', 'diabet', 'diagnos', 'diagnos celiac', 'diamet', 'diamond', 'diamond almond', 'diaper', 'diarrhea', 'dice', 'dick', 'didnt', 'die', 'diet', 'diet food', 'diet love', 'diet soda', 'dietari', 'dietari fiber', 'dieter', 'differ', 'differ brand', 'differ cup', 'differ flavor', 'differ food', 'differ kind', 'differ not', 'differ one', 'differ product', 'differ regular', 'differ tast', 'differ type', 'differ varieti', 'differ way', 'difficult', 'difficult find', 'difficult get', 'difficult time', 'difficulti', 'dig', 'digest', 'digest issu', 'digest problem', 'digest system', 'dijon', 'dill', 'dilut', 'diner', 'dinner', 'dioxid', 'dip', 'direct', 'directli', 'dirt', 'dirti', 'disabl', 'disagre', 'disapoint', 'disappear', 'disappoint', 'disappoint flavor', 'disappoint not', 'disappoint product', 'disappoint tast', 'disc', 'discard', 'discern', 'disclaim', 'discomfort', 'discontinu', 'discount', 'discount tommi', 'discov', 'discuss', 'diseas', 'disgust', 'dish', 'dishwash', 'dislik', 'dismay', 'disord', 'dispens', 'dispens treat', 'display', 'dispos', 'dispos cup', 'disposakup', 'dissapoint', 'dissatisfi', 'dissolv', 'dissolv easili', 'distinct', 'distinguish', 'distract', 'distribut', 'distributor', 'divid', 'divin', 'doctor', 'doesnt', 'dog', 'dog absolut', 'dog allergi', 'dog also', 'dog anyth', 'dog biscuit', 'dog breath', 'dog buy', 'dog cat', 'dog chew', 'dog could', 'dog dog', 'dog eat', 'dog enjoy', 'dog even', 'dog favorit', 'dog figur', 'dog food', 'dog get', 'dog go', 'dog happi', 'dog lb', 'dog like', 'dog look', 'dog love', 'dog may', 'dog need', 'dog never', 'dog not', 'dog one', 'dog owner', 'dog play', 'dog pound', 'dog realli', 'dog seem', 'dog sensit', 'dog start', 'dog still', 'dog take', 'dog teeth', 'dog toy', 'dog treat', 'dog tri', 'dog use', 'dog would', 'dog year', 'doggi', 'dogswel', 'dolc', 'dolc gusto', 'dollar', 'domin', 'donat', 'done', 'dont', 'dont know', 'dont like', 'donut', 'donut hous', 'donut shop', 'door', 'doorstep', 'dorito', 'dose', 'dot', 'doubl', 'doubl price', 'doubt', 'doubt best', 'dough', 'downsid', 'dozen', 'dr', 'dr mcdougal', 'dr oz', 'dr pepper', 'drag', 'drain', 'dramat', 'drank', 'drank tea', 'drastic', 'draw', 'drawback', 'drawer', 'dread', 'dream', 'dress', 'dri', 'dri cat', 'dri dog', 'dri food', 'dri fruit', 'dri kibbl', 'dri liver', 'dri mango', 'dri roast', 'drier', 'drink', 'drink black', 'drink coffe', 'drink cup', 'drink daili', 'drink day', 'drink decaf', 'drink drink', 'drink even', 'drink everi', 'drink first', 'drink flavor', 'drink good', 'drink green', 'drink hot', 'drink juic', 'drink like', 'drink lot', 'drink make', 'drink mix', 'drink morn', 'drink much', 'drink not', 'drink one', 'drink realli', 'drink regular', 'drink sinc', 'drink soda', 'drink someth', 'drink stuff', 'drink tast', 'drink tea', 'drink time', 'drink tri', 'drink use', 'drink water', 'drink without', 'drink would', 'drinkabl', 'drinker', 'drip', 'drip coffe', 'drive', 'driver', 'drizzl', 'drop', 'drug', 'drunk', 'duck', 'due', 'due high', 'dull', 'dump', 'dunk', 'dunkin', 'dunkin donut', 'durabl', 'dust', 'dutch', 'duti', 'dye', 'eager', 'eagerli', 'ear', 'ear infect', 'earl', 'earl grey', 'earli', 'earlier', 'earn', 'earth', 'earth best', 'earthi', 'eas', 'eas use', 'easi', 'easi bold', 'easi break', 'easi carri', 'easi clean', 'easi eat', 'easi find', 'easi fix', 'easi get', 'easi make', 'easi open', 'easi prepar', 'easi take', 'easi use', 'easi way', 'easier', 'easiest', 'easili', 'east', 'easter', 'eat', 'eat almost', 'eat also', 'eat anyth', 'eat bag', 'eat bowl', 'eat breakfast', 'eat cereal', 'eat chip', 'eat cooki', 'eat day', 'eat dri', 'eat entir', 'eat even', 'eat everi', 'eat fast', 'eat first', 'eat food', 'eat gluten', 'eat half', 'eat hand', 'eat healthi', 'eat less', 'eat like', 'eat littl', 'eat lot', 'eat love', 'eat mani', 'eat much', 'eat not', 'eat one', 'eat plain', 'eat realli', 'eat regular', 'eat right', 'eat sinc', 'eat someth', 'eat spoon', 'eat stuff', 'eat think', 'eat time', 'eat treat', 'eat tri', 'eat way', 'eat well', 'eat whole', 'eat without', 'eaten', 'eater', 'econom', 'economi', 'eden', 'edg', 'edibl', 'edit', 'educ', 'effect', 'effici', 'effort', 'egg', 'eggnog', 'eight', 'either', 'either not', 'either way', 'el', 'elderli', 'electr', 'electrolyt', 'eleg', 'element', 'elig', 'elimin', 'elit', 'els', 'els say', 'elsewher', 'em', 'email', 'embarrass', 'emerald', 'emerg', 'emeril', 'emeril big', 'employe', 'empti', 'encount', 'encourag', 'end', 'end eat', 'end give', 'end result', 'end throw', 'endors', 'energ', 'energet', 'energi', 'energi bar', 'energi boost', 'energi drink', 'energi level', 'energi shot', 'enfamil', 'england', 'english', 'english breakfast', 'enhanc', 'enhanc flavor', 'enjoy', 'enjoy coffe', 'enjoy cup', 'enjoy drink', 'enjoy eat', 'enjoy everi', 'enjoy flavor', 'enjoy food', 'enjoy good', 'enjoy much', 'enjoy not', 'enjoy one', 'enjoy product', 'enjoy tast', 'enjoy tea', 'enough', 'enough flavor', 'enough get', 'enough give', 'enough good', 'enough make', 'enough not', 'enough satisfi', 'enough tast', 'enough time', 'enrich', 'ensur', 'enter', 'entertain', 'enthusiasm', 'enthusiast', 'entic', 'entir', 'entir bag', 'entir box', 'entir famili', 'entre', 'envelop', 'environ', 'environment', 'enzym', 'equal', 'equip', 'equival', 'er', 'erin', 'error', 'erythritol', 'escap', 'esp', 'especi', 'especi good', 'especi like', 'especi sinc', 'espresso', 'espresso machin', 'essenc', 'essenti', 'establish', 'estim', 'etc', 'etc not', 'eukanuba', 'europ', 'european', 'evalu', 'evapor', 'evapor cane', 'eve', 'even', 'even ad', 'even better', 'even close', 'even come', 'even dog', 'even eat', 'even finish', 'even get', 'even give', 'even good', 'even kid', 'even know', 'even like', 'even littl', 'even look', 'even made', 'even make', 'even need', 'even not', 'even notic', 'even one', 'even put', 'even say', 'even small', 'even smell', 'even tast', 'even think', 'even though', 'even tri', 'even use', 'even want', 'even without', 'even wors', 'evenli', 'event', 'eventu', 'ever', 'ever bought', 'ever buy', 'ever eaten', 'ever get', 'ever made', 'ever purchas', 'ever seen', 'ever sinc', 'ever tast', 'ever tri', 'ever use', 'everi', 'everi bit', 'everi bite', 'everi cup', 'everi day', 'everi dog', 'everi flavor', 'everi last', 'everi month', 'everi morn', 'everi night', 'everi one', 'everi penni', 'everi singl', 'everi time', 'everi week', 'everi year', 'everlast', 'everybodi', 'everyday', 'everyon', 'everyon els', 'everyon famili', 'everyon know', 'everyon like', 'everyon love', 'everyon tast', 'everyon tri', 'everyth', 'everyth els', 'everytim', 'everywher', 'evid', 'evo', 'evoo', 'exact', 'exactli', 'exactli describ', 'exactli expect', 'exactli like', 'exactli look', 'exactli want', 'exampl', 'exceed', 'exceed expect', 'excel', 'excel coffe', 'excel condit', 'excel flavor', 'excel price', 'excel product', 'excel qualiti', 'excel servic', 'excel tast', 'except', 'except one', 'excess', 'exchang', 'excit', 'excit find', 'excit get', 'excit see', 'excit tri', 'exclus', 'excus', 'exercis', 'exist', 'exot', 'expand', 'expect', 'expect like', 'expect much', 'expect not', 'expect someth', 'expect tast', 'expect would', 'expedit', 'expens', 'expens amazon', 'expens brand', 'expens buy', 'expens not', 'expens one', 'expens worth', 'experi', 'experi differ', 'experienc', 'expert', 'expir', 'expir date', 'explain', 'explan', 'explod', 'explos', 'expos', 'express', 'expresso', 'extend', 'extens', 'extra', 'extra bold', 'extra flavor', 'extra larg', 'extra money', 'extra virgin', 'extract', 'extrem', 'extrem well', 'eye', 'fabul', 'face', 'facil', 'fact', 'fact not', 'factor', 'factori', 'fade', 'fail', 'failur', 'faint', 'fair', 'fair price', 'fair trade', 'fairli', 'fairli good', 'fajita', 'fake', 'fall', 'fall apart', 'fals', 'famili', 'famili eat', 'famili enjoy', 'famili farm', 'famili favorit', 'famili friend', 'famili like', 'famili love', 'famili member', 'familiar', 'famou', 'fan', 'fan flavor', 'fanat', 'fanci', 'fanci feast', 'fantast', 'fantast flavor', 'fantast product', 'far', 'far away', 'far best', 'far better', 'far concern', 'far favorit', 'far good', 'far less', 'far not', 'far one', 'far superior', 'far tast', 'far tri', 'farm', 'farmer', 'farmer market', 'fashion', 'fast', 'fast deliveri', 'fast easi', 'fast food', 'fast ship', 'faster', 'fat', 'fat calori', 'fat carb', 'fat cholesterol', 'fat content', 'fat free', 'fat gram', 'fat high', 'fat low', 'fat mg', 'fat milk', 'fat not', 'fat per', 'fat satur', 'fat sodium', 'fat sugar', 'fat tran', 'father', 'fatten', 'fatti', 'fatti acid', 'fault', 'fav', 'fave', 'favor', 'favorit', 'favorit brand', 'favorit candi', 'favorit coffe', 'favorit cup', 'favorit far', 'favorit flavor', 'favorit food', 'favorit like', 'favorit not', 'favorit one', 'favorit snack', 'favorit tea', 'favorit thing', 'favorit treat', 'favorit tri', 'favorit use', 'favorit way', 'favourit', 'fda', 'fear', 'feast', 'featur', 'februari', 'fed', 'fedex', 'fee', 'feed', 'feed babi', 'feed cat', 'feed dog', 'feedback', 'feel', 'feel bad', 'feel better', 'feel full', 'feel good', 'feel great', 'feel guilti', 'feel like', 'feel littl', 'feet', 'felida', 'felin', 'fell', 'fell love', 'fellow', 'felt', 'felt like', 'femal', 'fenc', 'fennel', 'ferment', 'fettuccin', 'fewer', 'fewer calori', 'fiber', 'fiber protein', 'fiber sugar', 'field', 'fig', 'fight', 'figur', 'figur get', 'figur would', 'fill', 'fill cup', 'filler', 'film', 'filter', 'filter water', 'final', 'final decid', 'final found', 'final got', 'find', 'find amazon', 'find anoth', 'find anyth', 'find anywher', 'find area', 'find best', 'find better', 'find bit', 'find brand', 'find cheaper', 'find drink', 'find flavor', 'find food', 'find good', 'find great', 'find groceri', 'find hard', 'find local', 'find mani', 'find much', 'find not', 'find one', 'find onlin', 'find organ', 'find product', 'find right', 'find someth', 'find store', 'find sweet', 'find tast', 'find tea', 'find treat', 'find use', 'find way', 'fine', 'fine grind', 'fine ground', 'fine not', 'finer', 'finest', 'finger', 'finicki', 'finicki cat', 'finicki eater', 'finish', 'finish box', 'finish first', 'finish one', 'fire', 'firm', 'firmer', 'first', 'first bag', 'first batch', 'first bite', 'first bought', 'first box', 'first came', 'first coupl', 'first cup', 'first day', 'first experi', 'first found', 'first got', 'first impress', 'first ingredi', 'first not', 'first one', 'first open', 'first order', 'first place', 'first purchas', 'first review', 'first sip', 'first start', 'first tast', 'first thing', 'first thought', 'first time', 'first tri', 'first two', 'first use', 'fish', 'fish oil', 'fishi', 'fishi smell', 'fit', 'fit bill', 'five', 'five minut', 'five star', 'five year', 'fix', 'fizz', 'fizzi', 'fl', 'fl oz', 'flake', 'flaki', 'flat', 'flavor', 'flavor actual', 'flavor ad', 'flavor add', 'flavor also', 'flavor alway', 'flavor amaz', 'flavor aroma', 'flavor avail', 'flavor best', 'flavor better', 'flavor bit', 'flavor bitter', 'flavor brand', 'flavor buy', 'flavor candi', 'flavor carbon', 'flavor chip', 'flavor chocol', 'flavor coffe', 'flavor color', 'flavor combin', 'flavor come', 'flavor consist', 'flavor cook', 'flavor could', 'flavor creamer', 'flavor cup', 'flavor dark', 'flavor definit', 'flavor delici', 'flavor differ', 'flavor drink', 'flavor enjoy', 'flavor even', 'flavor excel', 'flavor fact', 'flavor fantast', 'flavor far', 'flavor favorit', 'flavor find', 'flavor first', 'flavor flavor', 'flavor food', 'flavor found', 'flavor fresh', 'flavor get', 'flavor give', 'flavor go', 'flavor good', 'flavor great', 'flavor green', 'flavor highli', 'flavor hint', 'flavor hot', 'flavor howev', 'flavor includ', 'flavor kind', 'flavor know', 'flavor last', 'flavor light', 'flavor like', 'flavor littl', 'flavor lot', 'flavor love', 'flavor make', 'flavor may', 'flavor mild', 'flavor mix', 'flavor much', 'flavor natur', 'flavor need', 'flavor nice', 'flavor not', 'flavor one', 'flavor order', 'flavor origin', 'flavor overpow', 'flavor pack', 'flavor perfect', 'flavor person', 'flavor popchip', 'flavor prefer', 'flavor pretti', 'flavor probabl', 'flavor product', 'flavor quit', 'flavor realli', 'flavor recommend', 'flavor remind', 'flavor rich', 'flavor right', 'flavor salt', 'flavor sauc', 'flavor say', 'flavor seem', 'flavor sinc', 'flavor smell', 'flavor smooth', 'flavor soda', 'flavor still', 'flavor strong', 'flavor sweet', 'flavor switch', 'flavor tast', 'flavor tea', 'flavor textur', 'flavor think', 'flavor though', 'flavor time', 'flavor tri', 'flavor use', 'flavor usual', 'flavor varieti', 'flavor want', 'flavor water', 'flavor way', 'flavor well', 'flavor whatev', 'flavor wish', 'flavor without', 'flavor wonder', 'flavor work', 'flavor would', 'flavor yet', 'flavorless', 'flavour', 'flaw', 'flax', 'flax seed', 'flaxse', 'flesh', 'flexibl', 'fli', 'flimsi', 'flip', 'float', 'floor', 'floral', 'florida', 'flour', 'flow', 'flower', 'flu', 'fluffi', 'fluid', 'flush', 'foam', 'focus', 'foil', 'fold', 'folger', 'folk', 'follow', 'follow direct', 'follow instruct', 'fond', 'fondant', 'food', 'food allergi', 'food also', 'food alway', 'food amazon', 'food babi', 'food bought', 'food bowl', 'food brand', 'food buy', 'food cat', 'food chicken', 'food come', 'food contain', 'food could', 'food dog', 'food eat', 'food even', 'food ever', 'food feed', 'food find', 'food first', 'food food', 'food found', 'food get', 'food give', 'food go', 'food good', 'food great', 'food help', 'food howev', 'food item', 'food keep', 'food like', 'food littl', 'food look', 'food love', 'food made', 'food make', 'food market', 'food mix', 'food month', 'food motiv', 'food much', 'food need', 'food not', 'food one', 'food organ', 'food price', 'food product', 'food purchas', 'food put', 'food realli', 'food recommend', 'food seem', 'food sinc', 'food smell', 'food still', 'food store', 'food tast', 'food time', 'food treat', 'food tri', 'food two', 'food use', 'food want', 'food well', 'food without', 'food work', 'food would', 'food year', 'foodi', 'fool', 'forc', 'foreign', 'forest', 'forev', 'forewarn', 'forget', 'forgiv', 'forgot', 'forgotten', 'fork', 'form', 'former', 'formul', 'formula', 'forth', 'fortifi', 'fortun', 'forward', 'forward tri', 'foster', 'foul', 'found', 'found amazon', 'found best', 'found better', 'found brand', 'found coffe', 'found far', 'found flavor', 'found food', 'found good', 'found great', 'found littl', 'found local', 'found not', 'found one', 'found product', 'found tast', 'found tea', 'found use', 'four', 'four star', 'four year', 'fourth', 'fraction', 'fragil', 'fragranc', 'fragrant', 'frame', 'franc', 'francisco', 'frankli', 'freak', 'free', 'free bake', 'free bread', 'free chocol', 'free cooki', 'free cracker', 'free diet', 'free food', 'free gluten', 'free mix', 'free not', 'free packag', 'free product', 'free sampl', 'free ship', 'free snack', 'free version', 'freez', 'freez dri', 'freezer', 'freezer tray', 'french', 'french fri', 'french press', 'french roast', 'french toast', 'french vanilla', 'frequent', 'fresh', 'fresh brew', 'fresh delici', 'fresh fruit', 'fresh ground', 'fresh tast', 'fresh tasti', 'freshen', 'fresher', 'freshli', 'fri', 'friday', 'fridg', 'friend', 'friend famili', 'friend like', 'friend love', 'friend mine', 'friend tri', 'friendli', 'friski', 'frog', 'front', 'front door', 'frontier', 'frost', 'frozen', 'fructos', 'fructos corn', 'fruit', 'fruit drink', 'fruit flavor', 'fruit juic', 'fruit nut', 'fruit punch', 'fruit veget', 'fruit veggi', 'fruiti', 'frustrat', 'fudg', 'fuel', 'fulfil', 'full', 'full bodi', 'full cup', 'full flavor', 'full size', 'fuller', 'fulli', 'fun', 'function', 'funki', 'funni', 'fur', 'furnitur', 'fuss', 'fussi', 'futur', 'fyi', 'ga', 'ga station', 'gag', 'gain', 'gain weight', 'gallon', 'game', 'garbag', 'garden', 'gari', 'gari peterson', 'garlic', 'garlic onion', 'garlic powder', 'gassi', 'gather', 'gatorad', 'gave', 'gave away', 'gave dog', 'gave four', 'gave one', 'gave product', 'gave star', 'gave tri', 'gel', 'gelatin', 'gener', 'genet', 'genet modifi', 'gentl', 'gentli', 'genuin', 'gerber', 'gerd', 'german', 'german shepherd', 'germani', 'germin', 'get', 'get amazon', 'get anoth', 'get away', 'get back', 'get bag', 'get best', 'get better', 'get big', 'get bore', 'get box', 'get case', 'get coffe', 'get cup', 'get dog', 'get eat', 'get enough', 'get everi', 'get excit', 'get flavor', 'get food', 'get free', 'get full', 'get go', 'get good', 'get great', 'get groceri', 'get hard', 'get home', 'get less', 'get littl', 'get local', 'get lot', 'get low', 'get money', 'get much', 'get nice', 'get not', 'get older', 'get one', 'get pack', 'get past', 'get pay', 'get product', 'get readi', 'get real', 'get realli', 'get rid', 'get right', 'get sick', 'get small', 'get someth', 'get star', 'get start', 'get store', 'get stuck', 'get tast', 'get time', 'get tire', 'get treat', 'get two', 'get use', 'get varieti', 'get whole', 'get wrong', 'gevalia', 'gf', 'gf bread', 'gf product', 'ghee', 'ghirardelli', 'ghost', 'gi', 'giant', 'gift', 'gift basket', 'gift box', 'gift friend', 'gift love', 'ginger', 'ginger ale', 'gingerbread', 'girl', 'girlfriend', 'give', 'give away', 'give cat', 'give coffe', 'give dog', 'give extra', 'give five', 'give food', 'give gift', 'give good', 'give great', 'give littl', 'give one', 'give product', 'give shot', 'give someth', 'give star', 'give tast', 'give treat', 'give tri', 'give two', 'give us', 'given', 'given star', 'glad', 'glad amazon', 'glad bought', 'glad find', 'glad found', 'glad see', 'glass', 'glass bottl', 'glass jar', 'glass water', 'glaze', 'gloria', 'glow', 'glucos', 'glucosamin', 'glue', 'gluten', 'gluten free', 'gluten intoler', 'glutino', 'glycem', 'glycem index', 'gm', 'gmo', 'gnat', 'gnaw', 'go', 'go ahead', 'go along', 'go away', 'go back', 'go bad', 'go bed', 'go buy', 'go crazi', 'go eat', 'go far', 'go get', 'go give', 'go gluten', 'go good', 'go great', 'go local', 'go make', 'go not', 'go nut', 'go one', 'go order', 'go snack', 'go stale', 'go store', 'go tast', 'go tri', 'go use', 'go way', 'go well', 'go wrong', 'goal', 'goat', 'goat milk', 'gobbl', 'god', 'godiva', 'godsend', 'goe', 'goe great', 'goe long', 'goe well', 'goji', 'goji berri', 'gold', 'golden', 'golden retriev', 'gon', 'gon na', 'gone', 'goo', 'good', 'good also', 'good altern', 'good although', 'good amazon', 'good amount', 'good bad', 'good better', 'good bit', 'good brand', 'good buy', 'good cat', 'good chocol', 'good choic', 'good coffe', 'good condit', 'good cup', 'good deal', 'good dog', 'good drink', 'good earth', 'good easi', 'good eat', 'good either', 'good enough', 'good especi', 'good even', 'good feed', 'good first', 'good flavor', 'good food', 'good fresh', 'good get', 'good give', 'good go', 'good good', 'good great', 'good health', 'good healthi', 'good highli', 'good hot', 'good howev', 'good idea', 'good ingredi', 'good job', 'good keep', 'good kind', 'good know', 'good like', 'good littl', 'good look', 'good love', 'good luck', 'good made', 'good make', 'good mix', 'good news', 'good nice', 'good not', 'good nutrit', 'good old', 'good one', 'good option', 'good order', 'good packag', 'good popcorn', 'good price', 'good product', 'good purchas', 'good qualiti', 'good realli', 'good reason', 'good recommend', 'good regular', 'good result', 'good review', 'good right', 'good shape', 'good size', 'good smell', 'good snack', 'good sourc', 'good start', 'good strong', 'good stuff', 'good substitut', 'good sweet', 'good tast', 'good tea', 'good teeth', 'good textur', 'good thing', 'good think', 'good though', 'good time', 'good treat', 'good tri', 'good true', 'good use', 'good valu', 'good want', 'good way', 'good well', 'good work', 'good would', 'goodi', 'gooey', 'googl', 'gorgeou', 'got', 'got amazon', 'got back', 'got bad', 'got good', 'got great', 'got home', 'got littl', 'got one', 'got order', 'got packag', 'got sick', 'got ta', 'got tri', 'got use', 'gotten', 'gourmet', 'gourmet coffe', 'grab', 'grade', 'grade mapl', 'grade syrup', 'gradual', 'graham', 'graham cracker', 'grain', 'grain free', 'graini', 'graini textur', 'gram', 'gram carb', 'gram fat', 'gram fiber', 'gram per', 'gram protein', 'gram sugar', 'grand', 'grandchildren', 'granddaught', 'grandkid', 'grandma', 'grandmoth', 'grandpa', 'grandson', 'granola', 'granola bar', 'grant', 'granul', 'grape', 'grape juic', 'grapefruit', 'grass', 'grass fed', 'grassi', 'grate', 'gravi', 'greas', 'greasi', 'great', 'great addit', 'great also', 'great altern', 'great aroma', 'great bargain', 'great breakfast', 'great buy', 'great chip', 'great choic', 'great coffe', 'great condit', 'great cook', 'great cooki', 'great crunch', 'great cup', 'great deal', 'great dog', 'great drink', 'great easi', 'great eat', 'great even', 'great find', 'great first', 'great flavor', 'great food', 'great get', 'great gift', 'great go', 'great good', 'great great', 'great healthi', 'great hot', 'great howev', 'great idea', 'great ingredi', 'great item', 'great job', 'great keep', 'great like', 'great littl', 'great look', 'great love', 'great low', 'great make', 'great meal', 'great mix', 'great northern', 'great not', 'great one', 'great option', 'great packag', 'great popcorn', 'great price', 'great product', 'great purchas', 'great qualiti', 'great quick', 'great realli', 'great result', 'great review', 'great servic', 'great shape', 'great size', 'great snack', 'great stuff', 'great substitut', 'great take', 'great tast', 'great tea', 'great teeth', 'great textur', 'great thing', 'great time', 'great toy', 'great train', 'great treat', 'great tri', 'great use', 'great valu', 'great want', 'great way', 'great would', 'greater', 'greatest', 'greatli', 'greek', 'greek yogurt', 'green', 'green appl', 'green bean', 'green black', 'green mountain', 'green onion', 'green tea', 'green white', 'greeni', 'grew', 'grew eat', 'grey', 'grey tea', 'greyhound', 'grill', 'grill chicken', 'grind', 'grind bean', 'grinder', 'grip', 'gripe', 'grit', 'gritti', 'grocer', 'groceri', 'groceri store', 'gross', 'ground', 'ground beef', 'ground coffe', 'group', 'grove', 'grove squar', 'grow', 'grown', 'growth', 'guarante', 'guava', 'guess', 'guess not', 'guest', 'guid', 'guilt', 'guilt free', 'guilti', 'gulp', 'gum', 'gummi', 'gummi bear', 'gunpowd', 'gusto', 'gut', 'guy', 'gym', 'ha', 'habanero', 'habit', 'haha', 'hair', 'hairbal', 'half', 'half bag', 'half cup', 'half gallon', 'half half', 'half hour', 'half price', 'half time', 'half way', 'halloween', 'halo', 'halv', 'ham', 'hamburg', 'hand', 'hand best', 'hand not', 'hand time', 'handi', 'handl', 'hang', 'happen', 'happen like', 'happi', 'happi abl', 'happi amazon', 'happi babi', 'happi belli', 'happi find', 'happi found', 'happi get', 'happi hip', 'happi product', 'happi purchas', 'happi say', 'happi see', 'happier', 'happili', 'happybabi', 'happybelli', 'hard', 'hard believ', 'hard candi', 'hard chew', 'hard describ', 'hard find', 'hard get', 'hard like', 'hard not', 'hard open', 'hard plastic', 'hard rock', 'hard time', 'harden', 'harder', 'harder find', 'hardli', 'haribo', 'harm', 'harmoni', 'harmoni farm', 'harsh', 'harvest', 'hassl', 'hate', 'hawaii', 'hawaiian', 'hazard', 'hazelnut', 'hazelnut coffe', 'hazelnut flavor', 'hcg', 'hcg diet', 'head', 'headach', 'heal', 'health', 'health benefit', 'health consciou', 'health food', 'health issu', 'health problem', 'health reason', 'healthi', 'healthi altern', 'healthi choic', 'healthi diet', 'healthi eat', 'healthi food', 'healthi ingredi', 'healthi not', 'healthi organ', 'healthi snack', 'healthi tast', 'healthi tasti', 'healthi treat', 'healthier', 'healthier altern', 'healthier regular', 'healthier snack', 'healthiest', 'heap', 'hear', 'heard', 'heart', 'heartburn', 'hearti', 'heat', 'heat water', 'heaven', 'heavenli', 'heavi', 'heavier', 'heavili', 'heck', 'height', 'heinz', 'held', 'hell', 'hello', 'help', 'help clean', 'help dog', 'help get', 'help keep', 'help maintain', 'help make', 'hemp', 'henc', 'herb', 'herb spice', 'herbal', 'herbal tea', 'hershey', 'hesit', 'hesit buy', 'hesit order', 'hesit tri', 'hextra', 'hey', 'hfc', 'hi', 'hibiscu', 'hibiscu tea', 'hickori', 'hickori smoke', 'hidden', 'hide', 'high', 'high blood', 'high calori', 'high end', 'high expect', 'high fat', 'high fiber', 'high fructos', 'high heat', 'high hope', 'high price', 'high protein', 'high qualiti', 'high sodium', 'high sugar', 'higher', 'higher price', 'higher qualiti', 'highest', 'highest qualiti', 'highland', 'highli', 'highli addict', 'highli recommend', 'hike', 'hill', 'himalayan', 'himalayan salt', 'hint', 'hint sweet', 'hip', 'hip action', 'histori', 'hit', 'hit spot', 'hodgson', 'hodgson mill', 'hold', 'hold cup', 'hold well', 'holder', 'hole', 'holi', 'holiday', 'holist', 'home', 'home brew', 'home cook', 'home made', 'home use', 'home work', 'homemad', 'honest', 'honestli', 'honestli say', 'honey', 'hook', 'hope', 'hope amazon', 'hope find', 'hope get', 'hope help', 'hope not', 'hope would', 'hormel', 'hormon', 'horribl', 'hors', 'hospit', 'hostess', 'hot', 'hot cereal', 'hot chocol', 'hot cocoa', 'hot coffe', 'hot cold', 'hot cup', 'hot day', 'hot dog', 'hot drink', 'hot food', 'hot ice', 'hot milk', 'hot not', 'hot sauc', 'hot spici', 'hot spot', 'hot tea', 'hot water', 'hotel', 'hotter', 'hottest', 'hound', 'hour', 'hour energi', 'hour later', 'hous', 'hous blend', 'household', 'houtt', 'howev', 'howev found', 'howev like', 'howev not', 'howev one', 'howev price', 'howev still', 'howev tast', 'howev think', 'howev use', 'howev would', 'hr', 'http', 'http www', 'hubbi', 'huge', 'huge differ', 'huge fan', 'huge hit', 'hull', 'human', 'human consumpt', 'human food', 'human grade', 'humid', 'hummu', 'hundr', 'hunger', 'hungri', 'hunt', 'hurri', 'hurt', 'husband', 'husband eat', 'husband like', 'husband love', 'husband not', 'husband use', 'huski', 'hydrat', 'hydrogen', 'hydrogen oil', 'hygien', 'hype', 'iam', 'ib', 'ice', 'ice coffe', 'ice cold', 'ice cream', 'ice cube', 'ice tea', 'icicl', 'idea', 'ideal', 'ident', 'identifi', 'ie', 'ignor', 'ill', 'illi', 'im', 'imag', 'imagin', 'imho', 'imit', 'immedi', 'immun', 'immun system', 'imo', 'impact', 'impart', 'impli', 'import', 'importantli', 'imposs', 'imposs find', 'imposs get', 'impress', 'improv', 'inc', 'inch', 'inch long', 'inch thick', 'inclin', 'includ', 'includ ship', 'inconsist', 'inconveni', 'incorpor', 'increas', 'incred', 'inde', 'independ', 'index', 'india', 'indian', 'indian food', 'indic', 'indigest', 'individu', 'individu bag', 'individu packag', 'individu packet', 'individu serv', 'individu wrap', 'indoor', 'indoor cat', 'induc', 'indulg', 'industri', 'ined', 'inexpens', 'infant', 'infect', 'inferior', 'infest', 'inflamm', 'info', 'inform', 'infus', 'ingest', 'ingredi', 'ingredi includ', 'ingredi like', 'ingredi list', 'ingredi make', 'ingredi not', 'ingredi organ', 'ingredi sugar', 'ingredi would', 'inhal', 'initi', 'inner', 'innova', 'insan', 'insect', 'insert', 'insid', 'insid box', 'insist', 'inspect', 'instanc', 'instant', 'instant coffe', 'instant noodl', 'instant oatmeal', 'instantli', 'instead', 'instead one', 'instead regular', 'instead use', 'instruct', 'insul', 'insulin', 'insult', 'insur', 'intact', 'intak', 'intend', 'intens', 'intens flavor', 'intent', 'interact', 'interest', 'intern', 'internet', 'intestin', 'intoler', 'intrigu', 'introduc', 'invent', 'invest', 'investig', 'invit', 'involv', 'irish', 'irish breakfast', 'iron', 'irrit', 'ish', 'island', 'isnt', 'issu', 'issu product', 'itali', 'italian', 'italian roast', 'itch', 'itchi', 'item', 'item amazon', 'item arriv', 'item great', 'item like', 'item not', 'item order', 'item ship', 'ive', 'izz', 'jack', 'jack link', 'jack russel', 'jalapeno', 'jam', 'jamaica', 'jamaica crazi', 'jamaican', 'januari', 'japan', 'japanes', 'jar', 'jasmin', 'jasmin tea', 'java', 'jaw', 'jean', 'jell', 'jelli', 'jelli bean', 'jelli belli', 'jello', 'jerk', 'jerkey', 'jerki', 'jerki ever', 'jerki not', 'jerki product', 'jerki treat', 'jet', 'jet fuel', 'jewel', 'jim', 'jitter', 'jitteri', 'job', 'joe', 'join', 'joint', 'joke', 'jolt', 'joy', 'jr', 'judg', 'jug', 'juic', 'juic ad', 'juic carbon', 'juic concentr', 'juic drink', 'juic not', 'juic tast', 'juici', 'juli', 'jumbo', 'jump', 'june', 'junk', 'junk food', 'junki', 'justifi', 'kashi', 'kcup', 'keebler', 'keep', 'keep around', 'keep box', 'keep busi', 'keep buy', 'keep come', 'keep dog', 'keep eat', 'keep eye', 'keep fresh', 'keep get', 'keep go', 'keep hand', 'keep mind', 'keep occupi', 'keep one', 'keep order', 'keep pantri', 'keep stock', 'keep teeth', 'keep tri', 'keep weight', 'keep well', 'keeper', 'kellogg', 'kept', 'kernal', 'kernel', 'kernel pop', 'ketchup', 'kettl', 'kettl brand', 'kettl chip', 'keurig', 'keurig brewer', 'keurig coffe', 'keurig cup', 'keurig machin', 'key', 'key lime', 'kibbl', 'kick', 'kick hors', 'kid', 'kid adult', 'kid eat', 'kid like', 'kid love', 'kid lunch', 'kid not', 'kid would', 'kidney', 'kill', 'kind', 'kind bar', 'kind coffe', 'kind like', 'kind tast', 'kind tea', 'kinda', 'king', 'kirkland', 'kiss', 'kit', 'kitchen', 'kitchen india', 'kitten', 'kitti', 'kiwi', 'kiwi berri', 'kiwi flavor', 'kiwi strawberri', 'knee', 'knew', 'knife', 'knock', 'knot', 'know', 'know buy', 'know differ', 'know dog', 'know eat', 'know exactli', 'know expect', 'know get', 'know give', 'know go', 'know good', 'know like', 'know love', 'know make', 'know mean', 'know much', 'know not', 'know one', 'know order', 'know peopl', 'know product', 'know realli', 'know say', 'know tast', 'know would', 'knowledg', 'known', 'kombucha', 'kona', 'kona blend', 'kong', 'kong toy', 'kool', 'kool aid', 'korean', 'kosher', 'kraft', 'kroger', 'kudo', 'kuerig', 'kup', 'kyjen', 'la', 'la tourangel', 'lab', 'lab love', 'lab mix', 'label', 'label say', 'laboratori', 'labrador', 'lack', 'lack flavor', 'lactos', 'lactos free', 'lactos intoler', 'laden', 'ladi', 'ladi grey', 'lake', 'lamb', 'lamb barley', 'lamb rice', 'land', 'lanka', 'lap', 'larg', 'larg amount', 'larg bag', 'larg box', 'larg breed', 'larg cup', 'larg dog', 'larg enough', 'larg one', 'larg piec', 'larg quantiti', 'larg size', 'larger', 'larger bag', 'larger dog', 'larger quantiti', 'larger size', 'largest', 'last', 'last bit', 'last coupl', 'last day', 'last drop', 'last hour', 'last long', 'last longer', 'last minut', 'last month', 'last night', 'last one', 'last order', 'last quit', 'last time', 'last two', 'last us', 'last week', 'last year', 'lastli', 'late', 'late night', 'later', 'latest', 'latt', 'latter', 'laugh', 'lavazza', 'lavend', 'law', 'lax', 'lay', 'layer', 'lazi', 'lb', 'lb bag', 'lb dog', 'lead', 'leaf', 'leaf tea', 'leak', 'lean', 'learn', 'leash', 'least', 'least bit', 'least favorit', 'least not', 'least one', 'least two', 'least year', 'leather', 'leav', 'leav work', 'lech', 'lecithin', 'led', 'leeri', 'left', 'leftov', 'leg', 'legal', 'lemon', 'lemon flavor', 'lemon juic', 'lemon lime', 'lemonad', 'lemongrass', 'length', 'lentil', 'leonida', 'less', 'less acid', 'less calori', 'less expens', 'less fat', 'less half', 'less minut', 'less money', 'less per', 'less sugar', 'less sweet', 'less water', 'lesser', 'lesson', 'let', 'let alon', 'let face', 'let know', 'let say', 'let sit', 'let start', 'let steep', 'let tell', 'letter', 'lettuc', 'level', 'libbi', 'lick', 'lick bowl', 'licoric', 'licoric flavor', 'lid', 'lie', 'life', 'life saver', 'lifesav', 'lifestyl', 'lift', 'light', 'light flavor', 'light fluffi', 'light not', 'light refresh', 'light roast', 'light tast', 'lighter', 'lightli', 'lightli salt', 'lightweight', 'like', 'like ad', 'like add', 'like also', 'like alway', 'like amazon', 'like anoth', 'like anyth', 'like appl', 'like bag', 'like beef', 'like best', 'like better', 'like big', 'like bit', 'like black', 'like bold', 'like box', 'like brand', 'like buy', 'like can', 'like candi', 'like carbon', 'like cardboard', 'like cat', 'like chees', 'like chemic', 'like chew', 'like chicken', 'like chip', 'like chocol', 'like cinnamon', 'like coconut', 'like coffe', 'like come', 'like consist', 'like cook', 'like cooki', 'like could', 'like cracker', 'like crazi', 'like cup', 'like dark', 'like differ', 'like dog', 'like dri', 'like drink', 'like eat', 'like either', 'like enjoy', 'like even', 'like everi', 'like fact', 'like find', 'like fine', 'like first', 'like fish', 'like flavor', 'like food', 'like french', 'like fresh', 'like fruit', 'like get', 'like give', 'like gluten', 'like go', 'like good', 'like got', 'like great', 'like green', 'like honey', 'like hot', 'like howev', 'like idea', 'like ingredi', 'like jerki', 'like keep', 'like kid', 'like kind', 'like know', 'like lemon', 'like light', 'like like', 'like littl', 'like look', 'like lot', 'like love', 'like made', 'like make', 'like mani', 'like meat', 'like medium', 'like might', 'like mild', 'like mine', 'like mint', 'like mix', 'like movi', 'like much', 'like natur', 'like need', 'like never', 'like new', 'like nice', 'like noodl', 'like normal', 'like not', 'like noth', 'like oatmeal', 'like old', 'like one', 'like orang', 'like order', 'like organ', 'like origin', 'like other', 'like packag', 'like peanut', 'like peopl', 'like pepper', 'like pictur', 'like plain', 'like pop', 'like popcorn', 'like pork', 'like potato', 'like price', 'like product', 'like put', 'like real', 'like realli', 'like regular', 'like review', 'like rice', 'like said', 'like salt', 'like say', 'like see', 'like sinc', 'like small', 'like smell', 'like smooth', 'like snack', 'like soft', 'like someon', 'like someth', 'like spici', 'like starbuck', 'like strawberri', 'like strong', 'like stuff', 'like sugar', 'like sweet', 'like take', 'like tast', 'like tea', 'like textur', 'like thing', 'like think', 'like treat', 'like tri', 'like use', 'like vanilla', 'like varieti', 'like want', 'like water', 'like way', 'like well', 'like white', 'like whole', 'like would', 'lime', 'lime flavor', 'lime pie', 'limit', 'limit ingredi', 'lindt', 'line', 'linger', 'link', 'lip', 'lipton', 'liquid', 'liquor', 'list', 'list amazon', 'list ingredi', 'listen', 'lite', 'liter', 'litter', 'litter box', 'littl', 'littl bag', 'littl better', 'littl bit', 'littl bitter', 'littl bland', 'littl cheaper', 'littl cup', 'littl differ', 'littl disappoint', 'littl dog', 'littl dri', 'littl expens', 'littl extra', 'littl flavor', 'littl girl', 'littl goe', 'littl guy', 'littl hard', 'littl hesit', 'littl high', 'littl honey', 'littl kick', 'littl less', 'littl like', 'littl longer', 'littl milk', 'littl much', 'littl one', 'littl piec', 'littl pricey', 'littl salt', 'littl salti', 'littl snack', 'littl someth', 'littl strong', 'littl stronger', 'littl sugar', 'littl sweet', 'littl tast', 'littl time', 'littl treat', 'littl water', 'littl weak', 'live', 'live without', 'liver', 'liver treat', 'lo', 'load', 'loaf', 'loaf bread', 'loav', 'lobster', 'local', 'local coffe', 'local grocer', 'local groceri', 'local health', 'local market', 'local pet', 'local store', 'local supermarket', 'local whole', 'locat', 'lock', 'lock bag', 'lodg', 'log', 'lol', 'lollipop', 'long', 'long ago', 'long enough', 'long last', 'long run', 'long term', 'long time', 'long way', 'longer', 'longer avail', 'longer carri', 'look', 'look altern', 'look around', 'look back', 'look better', 'look elsewher', 'look forward', 'look good', 'look great', 'look healthi', 'look ingredi', 'look like', 'look much', 'look natur', 'look new', 'look nice', 'look organ', 'look pretti', 'look product', 'look smell', 'look someth', 'look tast', 'look way', 'loos', 'loos leaf', 'loos stool', 'loos tea', 'lose', 'lose flavor', 'lose weight', 'loss', 'lost', 'lost lb', 'lost pound', 'lot', 'lot better', 'lot cheaper', 'lot coffe', 'lot differ', 'lot flavor', 'lot food', 'lot good', 'lot less', 'lot like', 'lot money', 'lot peopl', 'lot research', 'lot review', 'lot sugar', 'lot tea', 'lot thing', 'lot time', 'lot water', 'loud', 'louisiana', 'lousi', 'love', 'love also', 'love amazon', 'love bone', 'love brand', 'love bread', 'love buy', 'love cat', 'love cereal', 'love chew', 'love chicken', 'love chip', 'love chocol', 'love coconut', 'love coffe', 'love conveni', 'love cooki', 'love cracker', 'love cup', 'love dark', 'love definit', 'love dog', 'love drink', 'love eat', 'love em', 'love especi', 'love even', 'love everyth', 'love fact', 'love first', 'love flavor', 'love food', 'love get', 'love give', 'love good', 'love great', 'love green', 'love greeni', 'love happi', 'love hot', 'love howev', 'love idea', 'love keep', 'love keurig', 'love know', 'love like', 'love littl', 'love love', 'love made', 'love make', 'love mix', 'love much', 'love not', 'love one', 'love order', 'love organ', 'love pasta', 'love peanut', 'love pop', 'love popchip', 'love popcorn', 'love price', 'love product', 'love put', 'love realli', 'love rice', 'love salt', 'love sinc', 'love smell', 'love snack', 'love strong', 'love stuff', 'love sweet', 'love tast', 'love tea', 'love textur', 'love thing', 'love toy', 'love treat', 'love tri', 'love use', 'love way', 'love well', 'love would', 'lover', 'low', 'low acid', 'low cal', 'low calori', 'low carb', 'low fat', 'low glycem', 'low price', 'low qualiti', 'low salt', 'low sodium', 'low sugar', 'lower', 'lower blood', 'lower calori', 'lower fat', 'lower price', 'lower qualiti', 'lowest', 'lowrey', 'loyal', 'luci', 'luck', 'lucki', 'luckili', 'lump', 'lunch', 'lunch box', 'lung', 'lungo', 'mac', 'mac chees', 'macadamia', 'macadamia nut', 'macaroni', 'macaroni chees', 'machin', 'mad', 'made', 'made china', 'made cup', 'made differ', 'made dog', 'made feel', 'made good', 'made great', 'made home', 'made mistak', 'made natur', 'made one', 'made real', 'made us', 'made usa', 'madhava', 'magic', 'magnesium', 'mahogani', 'maid', 'mail', 'mail order', 'main', 'main ingredi', 'mainli', 'maintain', 'major', 'make', 'make babi', 'make best', 'make better', 'make big', 'make bread', 'make chocol', 'make coffe', 'make cup', 'make delici', 'make differ', 'make difficult', 'make dog', 'make easi', 'make easier', 'make even', 'make excel', 'make feel', 'make flavor', 'make food', 'make fun', 'make good', 'make great', 'make happi', 'make hard', 'make home', 'make homemad', 'make hot', 'make ice', 'make last', 'make less', 'make littl', 'make look', 'make lot', 'make mess', 'make mistak', 'make much', 'make nice', 'make not', 'make one', 'make oz', 'make pancak', 'make perfect', 'make pizza', 'make popcorn', 'make product', 'make quick', 'make realli', 'make sens', 'make small', 'make strong', 'make sure', 'make sweet', 'make tast', 'make tasti', 'make tea', 'make think', 'make two', 'make want', 'make whole', 'make wonder', 'maker', 'maker use', 'maldon', 'male', 'malt', 'maltes', 'maltitol', 'maltodextrin', 'mama', 'man', 'manag', 'mandarin', 'mango', 'mangosteen', 'mani', 'mani brand', 'mani calori', 'mani cup', 'mani differ', 'mani flavor', 'mani food', 'mani gluten', 'mani good', 'mani mani', 'mani other', 'mani peopl', 'mani product', 'mani review', 'mani thing', 'mani time', 'mani treat', 'mani year', 'manner', 'manufactur', 'mapl', 'mapl brown', 'mapl flavor', 'mapl syrup', 'march', 'margarita', 'margin', 'mari', 'marin', 'marinad', 'mark', 'market', 'marshmallow', 'mart', 'marvel', 'marzano', 'marzipan', 'mash', 'mash potato', 'mask', 'mass', 'master', 'mat', 'match', 'matcha', 'mate', 'materi', 'math', 'matter', 'matter much', 'matter tast', 'matur', 'max', 'maximum', 'maxwel', 'maxwel hous', 'may', 'may find', 'may good', 'may like', 'may need', 'may not', 'may tri', 'may vari', 'may want', 'mayb', 'mayb littl', 'mayb not', 'mayb one', 'mayb tri', 'mayb would', 'mayo', 'mayonnais', 'mccann', 'mccormick', 'mcdonald', 'mcdougal', 'mcviti', 'meal', 'meal replac', 'mean', 'mean not', 'meant', 'measur', 'meat', 'meat chicken', 'meat flavor', 'meat product', 'meat veggi', 'meatbal', 'meati', 'mechan', 'med', 'medic', 'medicin', 'mediocr', 'medium', 'medium blend', 'medium larg', 'medium roast', 'medium size', 'medley', 'meet', 'melitta', 'melitta coffe', 'mellow', 'melt', 'melt butter', 'melt mouth', 'member', 'membership', 'memori', 'men', 'menadion', 'mental', 'mention', 'menu', 'meow', 'merchant', 'mere', 'merrick', 'mesh', 'mess', 'messag', 'messi', 'met', 'metabol', 'metal', 'method', 'mexican', 'mexico', 'mg', 'mg sodium', 'mic', 'mice', 'micro', 'microwav', 'microwav minut', 'microwav popcorn', 'microwav pork', 'microwav second', 'mid', 'mid afternoon', 'middl', 'might', 'might find', 'might get', 'might good', 'might like', 'might not', 'might tri', 'might want', 'might well', 'mild', 'mild flavor', 'mild tast', 'milder', 'mildli', 'mile', 'milk', 'milk add', 'milk bone', 'milk chocol', 'milk cream', 'milk make', 'milk not', 'milk powder', 'milk product', 'milk sugar', 'milk tast', 'milk use', 'milk water', 'milkbon', 'milki', 'milkshak', 'mill', 'million', 'min', 'minc', 'mind', 'mine', 'miner', 'mini', 'miniatur', 'minim', 'minimum', 'minor', 'mint', 'mint chocol', 'mint flavor', 'mint tea', 'minti', 'minu', 'minut', 'minut eat', 'minut get', 'minut not', 'miracl', 'miracl noodl', 'mislead', 'miso', 'miss', 'mist', 'mistak', 'mix', 'mix add', 'mix also', 'mix best', 'mix easi', 'mix ever', 'mix flavor', 'mix found', 'mix fruit', 'mix good', 'mix great', 'mix hot', 'mix like', 'mix littl', 'mix love', 'mix made', 'mix make', 'mix milk', 'mix not', 'mix one', 'mix ounc', 'mix review', 'mix tast', 'mix togeth', 'mix tri', 'mix use', 'mix water', 'mix well', 'mix would', 'mixer', 'mixtur', 'ml', 'mmm', 'mo', 'mocha', 'model', 'moder', 'modern', 'modifi', 'moist', 'moist chewi', 'moistur', 'molass', 'mold', 'moldi', 'mom', 'moment', 'mommi', 'money', 'money back', 'money buy', 'money not', 'monitor', 'monster', 'month', 'month ago', 'month later', 'month love', 'month old', 'month use', 'monthli', 'mood', 'moon', 'morn', 'morn breakfast', 'morn coffe', 'morn cup', 'moroccan', 'moroccan mint', 'morsel', 'mostli', 'mother', 'mother law', 'motiv', 'mound', 'mountain', 'mountain breakfast', 'mountain coffe', 'mouth', 'mouth feel', 'mouth water', 'move', 'movement', 'movi', 'movi night', 'movi popcorn', 'movi theater', 'movi theatr', 'mr', 'mr coffe', 'mr may', 'msg', 'much', 'much anyth', 'much better', 'much cheaper', 'much coffe', 'much differ', 'much easier', 'much eat', 'much enjoy', 'much expens', 'much flavor', 'much fun', 'much get', 'much healthier', 'much higher', 'much less', 'much like', 'much longer', 'much love', 'much lower', 'much money', 'much much', 'much not', 'much one', 'much order', 'much prefer', 'much salt', 'much say', 'much smaller', 'much sugar', 'much tast', 'much tea', 'much time', 'much use', 'much water', 'much would', 'muffin', 'mug', 'multi', 'multigrain', 'multipl', 'munch', 'muncho', 'muscl', 'mush', 'mushi', 'mushroom', 'must', 'must admit', 'must buy', 'must say', 'must tri', 'mustard', 'mutt', 'mysteri', 'na', 'nacho', 'nail', 'name', 'name brand', 'nana', 'nantucket', 'nantucket blend', 'narrow', 'nasti', 'nation', 'nativ', 'nativ forest', 'natur', 'natur artifici', 'natur balanc', 'natur dog', 'natur flavor', 'natur food', 'natur fruit', 'natur ingredi', 'natur juic', 'natur not', 'natur organ', 'natur peanut', 'natur product', 'natur sugar', 'natur sweet', 'natur sweeten', 'natur tast', 'nausea', 'navita', 'nd', 'near', 'near futur', 'nearbi', 'nearli', 'nearli everi', 'nearli year', 'neat', 'neatli', 'necessari', 'necessarili', 'neck', 'nectar', 'need', 'need add', 'need eat', 'need find', 'need get', 'need go', 'need littl', 'need make', 'need much', 'need one', 'need quick', 'need someth', 'need sugar', 'need sweeten', 'need tri', 'need use', 'needl', 'needless', 'needless say', 'neg', 'neg review', 'neighbor', 'neighborhood', 'neither', 'nephew', 'nervou', 'nestl', 'net', 'net carb', 'netrit', 'neutral', 'never', 'never abl', 'never bitter', 'never buy', 'never disappoint', 'never drink', 'never found', 'never get', 'never go', 'never heard', 'never know', 'never like', 'never order', 'never problem', 'never realli', 'never run', 'never seen', 'never tast', 'never thought', 'never tri', 'never use', 'never want', 'nevertheless', 'new', 'new bag', 'new coffe', 'new england', 'new favorit', 'new flavor', 'new food', 'new formula', 'new keurig', 'new one', 'new orlean', 'new product', 'new recip', 'new york', 'new zealand', 'newman', 'newman dog', 'newman organ', 'newman product', 'newman treat', 'news', 'next', 'next best', 'next day', 'next morn', 'next time', 'nibbl', 'nice', 'nice abl', 'nice altern', 'nice chang', 'nice coffe', 'nice flavor', 'nice get', 'nice know', 'nice light', 'nice littl', 'nice not', 'nice packag', 'nice product', 'nice size', 'nice smooth', 'nice strong', 'nice tast', 'nice textur', 'nice thing', 'nice touch', 'nice treat', 'nicer', 'niec', 'night', 'nine', 'nobodi', 'nois', 'noisi', 'non', 'non dairi', 'non gmo', 'non organ', 'none', 'nonetheless', 'nong', 'nong shim', 'noodl', 'noodl like', 'noodl not', 'noodl soup', 'noodl tast', 'nope', 'normal', 'normal buy', 'normal drink', 'normal size', 'normal use', 'north', 'northern', 'northern popcorn', 'nose', 'not', 'not abl', 'not accept', 'not acid', 'not actual', 'not add', 'not allow', 'not alway', 'not amazon', 'not avail', 'not bad', 'not beat', 'not believ', 'not best', 'not better', 'not big', 'not bitter', 'not bold', 'not bother', 'not buy', 'not care', 'not carri', 'not case', 'not cheap', 'not coffe', 'not come', 'not compar', 'not complet', 'not contain', 'not cook', 'not crazi', 'not crumbl', 'not damag', 'not dark', 'not diet', 'not disappoint', 'not dri', 'not drink', 'not easi', 'not easili', 'not eat', 'not enjoy', 'not enough', 'not even', 'not everyon', 'not exactli', 'not expect', 'not expens', 'not fan', 'not favorit', 'not feed', 'not feel', 'not find', 'not first', 'not flavor', 'not fond', 'not food', 'not found', 'not fresh', 'not fri', 'not full', 'not get', 'not give', 'not gluten', 'not go', 'not good', 'not greasi', 'not great', 'not happi', 'not hard', 'not healthi', 'not heavi', 'not help', 'not hesit', 'not high', 'not hot', 'not huge', 'not impress', 'not includ', 'not individu', 'not interest', 'not issu', 'not keep', 'not know', 'not last', 'not leav', 'not let', 'not light', 'not like', 'not list', 'not littl', 'not live', 'not long', 'not look', 'not lot', 'not love', 'not low', 'not made', 'not make', 'not mani', 'not mean', 'not mention', 'not mix', 'not much', 'not nearli', 'not necessarili', 'not need', 'not not', 'not notic', 'not one', 'not open', 'not order', 'not organ', 'not overli', 'not overpow', 'not overwhelm', 'not packag', 'not particularli', 'not pay', 'not picki', 'not pleas', 'not pleasant', 'not pop', 'not problem', 'not product', 'not purchas', 'not put', 'not quit', 'not read', 'not real', 'not realiz', 'not realli', 'not receiv', 'not recommend', 'not regular', 'not return', 'not rich', 'not right', 'not salti', 'not satisfi', 'not say', 'not seal', 'not see', 'not seem', 'not singl', 'not small', 'not smell', 'not soft', 'not sold', 'not someth', 'not spici', 'not stop', 'not strong', 'not sugar', 'not super', 'not sure', 'not surpris', 'not sweet', 'not take', 'not tast', 'not tasti', 'not tea', 'not tell', 'not terribl', 'not thick', 'not think', 'not time', 'not toler', 'not touch', 'not tri', 'not true', 'not typic', 'not understand', 'not use', 'not usual', 'not want', 'not wast', 'not wateri', 'not weak', 'not well', 'not work', 'not worri', 'not worth', 'not would', 'not yet', 'notch', 'note', 'noth', 'noth compar', 'noth els', 'noth like', 'noth special', 'noth wrong', 'notic', 'notic differ', 'notifi', 'novelti', 'novemb', 'nowher', 'nugget', 'nuke', 'number', 'number one', 'numer', 'numi', 'nurs', 'nustevia', 'nut', 'nutella', 'nutiva', 'nutmeg', 'nutrient', 'nutrit', 'nutrit fact', 'nutrit info', 'nutrit inform', 'nutrit valu', 'nutriti', 'nutritionist', 'nutti', 'nutti flavor', 'ny', 'nyc', 'nylabon', 'nylon', 'oak', 'oat', 'oatmeal', 'oatmeal cereal', 'oatmeal cooki', 'oatmeal raisin', 'object', 'observ', 'obsess', 'obtain', 'obviou', 'obvious', 'occas', 'occasion', 'occupi', 'occur', 'ocean', 'octob', 'odd', 'oddli', 'odor', 'offens', 'offer', 'offer amazon', 'offic', 'offici', 'often', 'often not', 'oh', 'oh good', 'oh well', 'oh yeah', 'oil', 'oil butter', 'oil make', 'oil not', 'oil popcorn', 'oil salt', 'oil tast', 'oil use', 'oili', 'ok', 'ok not', 'okay', 'okay not', 'ol', 'old', 'old cat', 'old daughter', 'old dog', 'old eat', 'old fashion', 'old food', 'old lab', 'old love', 'old one', 'old son', 'older', 'older cat', 'older dog', 'oldest', 'ole', 'oliv', 'oliv oil', 'omaha', 'omega', 'omega fatti', 'omg', 'one', 'one actual', 'one also', 'one bag', 'one best', 'one better', 'one big', 'one bit', 'one bite', 'one bottl', 'one bought', 'one box', 'one brand', 'one buy', 'one cat', 'one coffe', 'one come', 'one cooki', 'one could', 'one cup', 'one day', 'one delici', 'one dog', 'one drink', 'one eat', 'one enjoy', 'one even', 'one ever', 'one everi', 'one famili', 'one far', 'one favorit', 'one first', 'one flavor', 'one food', 'one found', 'one friend', 'one get', 'one go', 'one good', 'one got', 'one great', 'one half', 'one ingredi', 'one jar', 'one larg', 'one last', 'one least', 'one like', 'one littl', 'one look', 'one love', 'one made', 'one make', 'one mani', 'one meal', 'one minut', 'one month', 'one morn', 'one much', 'one night', 'one not', 'one note', 'one one', 'one order', 'one ounc', 'one oz', 'one pack', 'one packag', 'one packet', 'one peopl', 'one perfect', 'one person', 'one piec', 'one pound', 'one problem', 'one product', 'one realli', 'one reason', 'one review', 'one right', 'one say', 'one seem', 'one serv', 'one side', 'one sit', 'one small', 'one star', 'one store', 'one tast', 'one tea', 'one thing', 'one think', 'one time', 'one treat', 'one tri', 'one two', 'one use', 'one want', 'one way', 'one week', 'one well', 'one work', 'one would', 'one year', 'onion', 'onion garlic', 'onlin', 'onto', 'oolong', 'oolong tea', 'op', 'open', 'open bag', 'open box', 'open first', 'open not', 'open one', 'open packag', 'oper', 'opinion', 'opportun', 'oppos', 'opposit', 'opt', 'option', 'oral', 'orang', 'orang blossom', 'orang flavor', 'orang juic', 'orang peel', 'orang soda', 'orang tangerin', 'orang tast', 'orangina', 'order', 'order amazon', 'order anoth', 'order arriv', 'order bag', 'order box', 'order bulk', 'order came', 'order can', 'order case', 'order coffe', 'order futur', 'order get', 'order great', 'order item', 'order line', 'order love', 'order not', 'order one', 'order onlin', 'order order', 'order pack', 'order packag', 'order price', 'order product', 'order receiv', 'order sever', 'order ship', 'order soon', 'order tea', 'order three', 'order time', 'order tri', 'order two', 'order would', 'ordinari', 'oregon', 'oreo', 'organ', 'organ appl', 'organ babi', 'organ barley', 'organ brown', 'organ carrot', 'organ chocol', 'organ coconut', 'organ coffe', 'organ dog', 'organ fair', 'organ food', 'organ green', 'organ ingredi', 'organ lamb', 'organ mapl', 'organ natur', 'organ not', 'organ product', 'organ pumpkin', 'organ tea', 'organ treat', 'orient', 'origin', 'origin bought', 'origin flavor', 'orlean', 'orvil', 'orzo', 'oskri', 'other', 'other like', 'other not', 'other said', 'other tri', 'otherwis', 'ounc', 'ounc bag', 'ounc bottl', 'ounc box', 'ounc can', 'ounc contain', 'ounc cup', 'ounc pack', 'ounc packag', 'ounc pouch', 'ounc water', 'outdoor', 'outer', 'outlet', 'outrag', 'outsid', 'outstand', 'oven', 'oven bake', 'overal', 'overal good', 'overal great', 'overal tast', 'overal would', 'overbear', 'overcook', 'overflow', 'overli', 'overli salti', 'overli sweet', 'overlook', 'overnight', 'overpow', 'overpr', 'oversea', 'overweight', 'overwhelm', 'own', 'owner', 'oxid', 'oz', 'oz bag', 'oz bottl', 'oz box', 'oz can', 'oz cup', 'oz jar', 'oz oz', 'oz pack', 'oz packag', 'oz popcorn', 'oz popper', 'oz serv', 'oz set', 'oz show', 'oz size', 'oz water', 'pa', 'pace', 'pack', 'pack amazon', 'pack box', 'pack get', 'pack good', 'pack great', 'pack make', 'pack not', 'pack one', 'pack oz', 'pack price', 'pack tri', 'pack well', 'pack would', 'packag', 'packag also', 'packag arriv', 'packag box', 'packag came', 'packag contain', 'packag good', 'packag great', 'packag like', 'packag look', 'packag make', 'packag not', 'packag one', 'packag open', 'packag pack', 'packag product', 'packag realli', 'packag say', 'packag ship', 'packag use', 'packag well', 'packag would', 'packet', 'packet make', 'pad', 'pad thai', 'page', 'paid', 'pain', 'paint', 'pair', 'palat', 'pale', 'paleo', 'palm', 'palm oil', 'pamela', 'pamela product', 'pan', 'pancak', 'pancak mix', 'pancak syrup', 'pancak waffl', 'panel', 'pant', 'pantri', 'paper', 'paper bag', 'paper towel', 'paprika', 'par', 'parent', 'park', 'parmesan', 'parmesan chees', 'parmesan garlic', 'parsley', 'part', 'parti', 'partial', 'partial hydrogen', 'particl', 'particular', 'particular brand', 'particular flavor', 'particular product', 'particularli', 'particularli like', 'partner', 'pass', 'passion', 'passion fruit', 'past', 'past month', 'past year', 'pasta', 'pasta dish', 'pasta not', 'pasta sauc', 'pasti', 'pastri', 'pat', 'pate', 'patienc', 'patient', 'patti', 'paul', 'paw', 'pay', 'pay attent', 'pay extra', 'pay ship', 'pb', 'pc', 'pea', 'peac', 'peach', 'peach flavor', 'peach tea', 'peanut', 'peanut butter', 'peanut flavor', 'peanut oil', 'pear', 'pearl', 'pecan', 'pediatrician', 'peel', 'peet', 'penni', 'peopl', 'peopl complain', 'peopl eat', 'peopl food', 'peopl know', 'peopl like', 'peopl love', 'peopl might', 'peopl not', 'peopl say', 'peopl think', 'peopl use', 'peopl want', 'peopl would', 'pepper', 'pepper flavor', 'peppercorn', 'pepperi', 'peppermint', 'peppermint patti', 'peppermint tea', 'pepsi', 'per', 'per bag', 'per bar', 'per box', 'per cup', 'per day', 'per ounc', 'per oz', 'per pack', 'per packag', 'per pound', 'per serv', 'percent', 'percentag', 'perfect', 'perfect amount', 'perfect balanc', 'perfect blend', 'perfect condit', 'perfect cup', 'perfect everi', 'perfect morn', 'perfect not', 'perfect size', 'perfect snack', 'perfect tast', 'perfect use', 'perfectli', 'perform', 'perfum', 'perhap', 'period', 'period time', 'perk', 'perman', 'person', 'person favorit', 'person like', 'person love', 'person not', 'person prefer', 'person tast', 'person think', 'perspect', 'pesticid', 'pesto', 'pet', 'pet food', 'pet owner', 'pet store', 'petal', 'petco', 'peterson', 'petit', 'petit cuisin', 'petsmart', 'ph', 'phenomen', 'pho', 'phone', 'phosphat', 'photo', 'physic', 'pick', 'pick bag', 'pick box', 'picki', 'picki dog', 'picki eat', 'picki eater', 'pickl', 'pictur', 'pie', 'pie crust', 'piec', 'piec not', 'pig', 'pig ear', 'pile', 'pill', 'pill pocket', 'pin', 'pinch', 'pine', 'pineappl', 'pink', 'pink grapefruit', 'pink lemonad', 'pirat', 'pirat booti', 'pistachio', 'pit', 'pit bull', 'pitcher', 'pizza', 'pizza crust', 'pizza dough', 'pizza sauc', 'pk', 'pkg', 'place', 'place buy', 'place order', 'plain', 'plain old', 'plain water', 'plan', 'plan buy', 'plan order', 'plan tri', 'plan use', 'planet', 'plant', 'plantat', 'planter', 'plaqu', 'plastic', 'plastic bag', 'plastic bottl', 'plastic contain', 'plastic wrap', 'plate', 'play', 'pleas', 'pleas find', 'pleas not', 'pleas note', 'pleas product', 'pleas purchas', 'pleas see', 'pleasant', 'pleasant surpris', 'pleasant tast', 'pleasantli', 'pleasantli surpris', 'pleasur', 'plenti', 'plu', 'plu side', 'plug', 'plum', 'plump', 'plung', 'pm', 'po', 'pocket', 'pocki', 'pod', 'point', 'poison', 'polici', 'polish', 'pom', 'pomegran', 'pomeranian', 'poo', 'pooch', 'poodl', 'poop', 'poor', 'poor qualiti', 'poorli', 'pop', 'pop chip', 'pop corn', 'pop open', 'pop popcorn', 'pop top', 'popchip', 'popcorn', 'popcorn ever', 'popcorn good', 'popcorn great', 'popcorn like', 'popcorn machin', 'popcorn maker', 'popcorn not', 'popcorn oil', 'popcorn pop', 'popcorn popcorn', 'popcorn popper', 'popcorn salt', 'popcorn tast', 'popcorn use', 'popper', 'popular', 'pork', 'pork chop', 'pork rind', 'portabl', 'portion', 'portion control', 'portion pack', 'portion size', 'posit', 'posit review', 'possibl', 'post', 'post review', 'pot', 'pot coffe', 'pot pie', 'pot soil', 'potassium', 'potato', 'potato chip', 'potato flavor', 'potent', 'potenti', 'pouch', 'pouch pack', 'poultri', 'pound', 'pound bag', 'pour', 'powder', 'powder form', 'powder milk', 'powder mix', 'powder peanut', 'powder sugar', 'powderi', 'power', 'practic', 'prais', 'pre', 'pre ground', 'pre made', 'pre measur', 'pre packag', 'precis', 'prefer', 'prefer coffe', 'prefer flavor', 'prefer use', 'pregnanc', 'pregnant', 'premier', 'premium', 'premium edg', 'prep', 'prepackag', 'prepar', 'prescrib', 'prescript', 'presenc', 'present', 'preserv', 'preserv artifici', 'press', 'pressur', 'presum', 'pretti', 'pretti bad', 'pretti big', 'pretti close', 'pretti darn', 'pretti decent', 'pretti expens', 'pretti good', 'pretti high', 'pretti much', 'pretti quickli', 'pretti sure', 'pretti tasti', 'pretti well', 'pretzel', 'prevent', 'previou', 'previou review', 'previous', 'price', 'price also', 'price amazon', 'price around', 'price beat', 'price better', 'price bit', 'price buy', 'price coffe', 'price come', 'price compar', 'price even', 'price excel', 'price find', 'price found', 'price free', 'price get', 'price good', 'price great', 'price high', 'price increas', 'price less', 'price like', 'price littl', 'price local', 'price love', 'price much', 'price not', 'price one', 'price order', 'price pack', 'price paid', 'price pay', 'price per', 'price point', 'price product', 'price qualiti', 'price realli', 'price reason', 'price right', 'price seem', 'price ship', 'price tag', 'price tast', 'price thank', 'price think', 'price use', 'price way', 'price well', 'price would', 'pricey', 'prici', 'pricier', 'primal', 'primal strip', 'primari', 'primarili', 'prime', 'prime member', 'prime ship', 'princ', 'pringl', 'print', 'prior', 'pro', 'probabl', 'probabl best', 'probabl buy', 'probabl good', 'probabl like', 'probabl not', 'probabl order', 'probabl tri', 'probabl use', 'probabl would', 'probiot', 'problem', 'problem dog', 'problem not', 'problem product', 'problem solv', 'proceed', 'process', 'process food', 'processor', 'produc', 'product', 'product actual', 'product also', 'product alway', 'product amazon', 'product anyon', 'product arriv', 'product avail', 'product best', 'product better', 'product bought', 'product buy', 'product came', 'product china', 'product come', 'product compani', 'product contain', 'product could', 'product definit', 'product delici', 'product deliv', 'product descript', 'product disappoint', 'product dog', 'product easi', 'product even', 'product ever', 'product exactli', 'product excel', 'product find', 'product first', 'product flavor', 'product found', 'product fresh', 'product get', 'product give', 'product good', 'product great', 'product happi', 'product help', 'product high', 'product highli', 'product howev', 'product keep', 'product know', 'product like', 'product line', 'product littl', 'product local', 'product look', 'product love', 'product made', 'product make', 'product mani', 'product market', 'product much', 'product need', 'product not', 'product offer', 'product one', 'product onlin', 'product order', 'product packag', 'product price', 'product product', 'product purchas', 'product realli', 'product reason', 'product receiv', 'product recommend', 'product review', 'product seem', 'product sever', 'product ship', 'product sinc', 'product star', 'product still', 'product tast', 'product tasti', 'product thank', 'product think', 'product though', 'product time', 'product tri', 'product use', 'product want', 'product well', 'product wonder', 'product work', 'product would', 'product year', 'profession', 'profil', 'profit', 'program', 'project', 'promis', 'promot', 'prompt', 'promptli', 'prone', 'pronounc', 'proof', 'proper', 'properli', 'properti', 'proport', 'protect', 'protein', 'protein bar', 'protein content', 'protein drink', 'protein fiber', 'protein low', 'protein powder', 'protein shake', 'protein snack', 'proud', 'prove', 'proven', 'provid', 'prune', 'ps', 'public', 'publish', 'puck', 'puck coffe', 'pud', 'puf', 'puff', 'puffi', 'pug', 'pull', 'pull rope', 'pulp', 'pump', 'pumpkin', 'pumpkin pie', 'pumpkin seed', 'pumpkin spice', 'punch', 'pungent', 'pup', 'puppi', 'puppi food', 'puppi love', 'purchas', 'purchas amazon', 'purchas bag', 'purchas box', 'purchas brand', 'purchas bulk', 'purchas case', 'purchas coffe', 'purchas dog', 'purchas gift', 'purchas great', 'purchas item', 'purchas keurig', 'purchas local', 'purchas mani', 'purchas not', 'purchas one', 'purchas onlin', 'purchas pack', 'purchas price', 'purchas product', 'purchas sever', 'purchas store', 'purchas tea', 'purchas two', 'pure', 'pure mapl', 'pure organ', 'purina', 'purina one', 'puroast', 'puroast low', 'purpl', 'purpos', 'purs', 'push', 'put', 'put back', 'put bag', 'put food', 'put freezer', 'put littl', 'put mouth', 'put much', 'put one', 'put product', 'put togeth', 'put top', 'put treat', 'puzzl', 'puzzl toy', 'quaker', 'quaker instant', 'quaker oat', 'quaker oatmeal', 'qualifi', 'qualiti', 'qualiti coffe', 'qualiti control', 'qualiti dog', 'qualiti flavor', 'qualiti food', 'qualiti good', 'qualiti great', 'qualiti ingredi', 'qualiti not', 'qualiti price', 'qualiti product', 'qualiti tast', 'qualiti tea', 'quantiti', 'quart', 'quarter', 'quench', 'quest', 'question', 'quick', 'quick deliveri', 'quick easi', 'quick fix', 'quick meal', 'quick ship', 'quick snack', 'quicker', 'quickli', 'quiet', 'quinoa', 'quit', 'quit bit', 'quit expens', 'quit good', 'quit nice', 'quit often', 'quit tasti', 'quit time', 'quit well', 'quot', 'rabbit', 'race', 'rack', 'rain', 'rainforest', 'rais', 'raisin', 'raisin bran', 'ramen', 'ramen noodl', 'ran', 'ranch', 'ranch dress', 'rancid', 'random', 'rang', 'rank', 'rare', 'rasberri', 'rash', 'raspberri', 'raspberri chocol', 'raspberri flavor', 'raspberri truffl', 'rat', 'rate', 'rate star', 'rather', 'rather eat', 'ratio', 'ration', 'rave', 'rave review', 'ravioli', 'raw', 'raw sugar', 'rawhid', 'ray', 'rd', 'rda', 'rda vitamin', 'reach', 'react', 'reaction', 'read', 'read ingredi', 'read label', 'read mani', 'read review', 'readi', 'readi eat', 'readi go', 'readi made', 'readili', 'readili avail', 'real', 'real chocol', 'real coffe', 'real deal', 'real food', 'real fruit', 'real good', 'real mapl', 'real meat', 'real peanut', 'real stuff', 'real sugar', 'real thing', 'real treat', 'realiti', 'realiz', 'realli', 'realli appreci', 'realli bad', 'realli big', 'realli care', 'realli delici', 'realli disappoint', 'realli easi', 'realli enjoy', 'realli excit', 'realli fast', 'realli feel', 'realli get', 'realli glad', 'realli go', 'realli good', 'realli great', 'realli happi', 'realli hard', 'realli healthi', 'realli help', 'realli hope', 'realli know', 'realli like', 'realli look', 'realli love', 'realli make', 'realli miss', 'realli need', 'realli nice', 'realli not', 'realli realli', 'realli seem', 'realli strong', 'realli surpris', 'realli tast', 'realli tasti', 'realli think', 'realli tri', 'realli want', 'realli well', 'realli wish', 'realli work', 'realli yummi', 'reason', 'reason buy', 'reason gave', 'reason give', 'reason not', 'reason price', 'recal', 'reccomend', 'receipt', 'receiv', 'receiv bag', 'receiv box', 'receiv case', 'receiv gift', 'receiv item', 'receiv one', 'receiv order', 'receiv packag', 'receiv product', 'receiv shipment', 'receiv two', 'recent', 'recent bought', 'recent found', 'recent purchas', 'recent start', 'recent tri', 'reciev', 'recip', 'recip call', 'recip use', 'recipi', 'recogn', 'recomend', 'recommend', 'recommend anyon', 'recommend brand', 'recommend buy', 'recommend coffe', 'recommend daili', 'recommend dog', 'recommend drink', 'recommend everyon', 'recommend food', 'recommend friend', 'recommend get', 'recommend give', 'recommend highli', 'recommend like', 'recommend one', 'recommend other', 'recommend peopl', 'recommend product', 'recommend purchas', 'recommend tea', 'recommend tri', 'recommend use', 'recommend vet', 'reconstitut', 'record', 'recov', 'recoveri', 'rectangular', 'recycl', 'red', 'red bull', 'red color', 'red mill', 'red pepper', 'redenbach', 'reduc', 'reduc fat', 'reduct', 'rees', 'refer', 'refil', 'refin', 'refin sugar', 'reflect', 'reflux', 'refresh', 'refresh drink', 'refriger', 'refund', 'refund money', 'refus', 'refus eat', 'regard', 'regardless', 'region', 'regret', 'regul', 'regular', 'regular basi', 'regular bisquick', 'regular brand', 'regular chip', 'regular coffe', 'regular cup', 'regular food', 'regular pasta', 'regular peanut', 'regular potato', 'regular price', 'regular size', 'regular soda', 'regular sugar', 'regular tea', 'regularli', 'reheat', 'reject', 'rel', 'relat', 'relax', 'releas', 'reli', 'reliabl', 'relief', 'reliev', 'relish', 'reluct', 'remain', 'remaind', 'remark', 'remedi', 'rememb', 'remind', 'reminisc', 'remot', 'remov', 'reorder', 'rep', 'repeat', 'repeatedli', 'replac', 'replenish', 'repli', 'report', 'repres', 'reput', 'request', 'requir', 'rescu', 'reseal', 'reseal bag', 'research', 'research found', 'resembl', 'reserv', 'residu', 'resist', 'resolv', 'resort', 'respect', 'respond', 'respons', 'rest', 'restaur', 'restrict', 'result', 'retail', 'retail store', 'retain', 'retriev', 'return', 'return item', 'reus', 'reusabl', 'reveal', 'review', 'review amazon', 'review base', 'review complain', 'review decid', 'review like', 'review mention', 'review not', 'review note', 'review peopl', 'review product', 'review read', 'review said', 'review say', 'review state', 'review thought', 'review tri', 'review would', 'revolut', 'revv', 'reward', 'rib', 'rica', 'rice', 'rice cake', 'rice cereal', 'rice cracker', 'rice flour', 'rice milk', 'rice noodl', 'rice pasta', 'rice syrup', 'rich', 'rich chocol', 'rich coffe', 'rich creami', 'rich flavor', 'rich full', 'rich smooth', 'rich tast', 'richer', 'rid', 'ride', 'ridicul', 'right', 'right amount', 'right away', 'right combin', 'right door', 'right not', 'right one', 'right size', 'right tast', 'rind', 'ring', 'rins', 'rins well', 'rip', 'ripe', 'rise', 'rishi', 'risk', 'risotto', 'ritual', 'ritz', 'rival', 'river', 'riviera', 'riviera sunset', 'road', 'roast', 'roast coffe', 'roast flavor', 'roast not', 'roast peanut', 'roast tast', 'roast walnut', 'roaster', 'robust', 'robust flavor', 'rock', 'rodeo', 'rodeo drive', 'roland', 'roll', 'rooibo', 'room', 'room temperatur', 'roommat', 'root', 'root beer', 'rope', 'rose', 'rosemari', 'rot', 'rotat', 'rotten', 'rough', 'roughli', 'round', 'routin', 'row', 'royal', 'royal canin', 'rub', 'rubber', 'rubber rope', 'rubberi', 'ruin', 'rule', 'rum', 'run', 'runni', 'rural', 'rush', 'russel', 'russian', 'rye', 'sack', 'sacrific', 'sad', 'sadli', 'safe', 'safer', 'safeti', 'safeway', 'safflow', 'saffron', 'said', 'said good', 'said not', 'said tast', 'said would', 'sake', 'salad', 'salad dress', 'sale', 'sale local', 'sale price', 'sale tax', 'salmon', 'salsa', 'salt', 'salt content', 'salt flavor', 'salt like', 'salt not', 'salt pepper', 'salt salt', 'salt sugar', 'salt tast', 'salt use', 'salt vinegar', 'salti', 'salti like', 'salti not', 'salti snack', 'salti tast', 'saltin', 'sam', 'sam club', 'sampl', 'sampl pack', 'sampler', 'sampler pack', 'san', 'san francisco', 'san marzano', 'sand', 'sandwich', 'sardin', 'sat', 'satisfact', 'satisfi', 'satisfi crave', 'satur', 'satur fat', 'sauc', 'sauc ever', 'sauc good', 'sauc great', 'sauc not', 'sauc tast', 'sauc use', 'sausag', 'saut', 'saute', 'save', 'save lot', 'save money', 'save program', 'save time', 'saver', 'saver ship', 'savor', 'savori', 'saw', 'sawdust', 'say', 'say best', 'say coffe', 'say dog', 'say enough', 'say good', 'say great', 'say least', 'say like', 'say love', 'say natur', 'say not', 'say one', 'say product', 'say realli', 'say tast', 'scale', 'scare', 'scarf', 'scari', 'scent', 'schedul', 'schnauzer', 'school', 'scienc', 'scienc diet', 'scientif', 'scissor', 'scone', 'scoop', 'score', 'scout', 'scrambl', 'scrambl egg', 'scrap', 'scrape', 'scratch', 'scream', 'screen', 'screw', 'sea', 'sea salt', 'seafood', 'seal', 'seal bag', 'sear', 'search', 'search amazon', 'season', 'seattl', 'seawe', 'second', 'second bag', 'second box', 'second cup', 'second ingredi', 'second one', 'second order', 'second time', 'secondli', 'secret', 'section', 'secur', 'see', 'see amazon', 'see could', 'see differ', 'see get', 'see like', 'see product', 'see review', 'see would', 'seed', 'seed sprout', 'seek', 'seem', 'seem best', 'seem bit', 'seem enjoy', 'seem fine', 'seem get', 'seem good', 'seem help', 'seem like', 'seem littl', 'seem love', 'seem make', 'seem much', 'seem pretti', 'seem realli', 'seem tast', 'seem work', 'seemingli', 'seen', 'seldom', 'select', 'self', 'sell', 'sell product', 'seller', 'seltzer', 'semi', 'sencha', 'send', 'send back', 'senior', 'sens', 'sensat', 'senseo', 'sensit', 'sensit stomach', 'sent', 'separ', 'septemb', 'seriou', 'serious', 'serv', 'serv bag', 'serv calori', 'serv guest', 'serv per', 'serv size', 'servic', 'servic excel', 'sesam', 'sesam chicken', 'sesam oil', 'sesam seed', 'session', 'set', 'settl', 'seven', 'sever', 'sever brand', 'sever cup', 'sever day', 'sever differ', 'sever flavor', 'sever month', 'sever time', 'sever year', 'shake', 'shake bag', 'shake bake', 'shaker', 'shall', 'shame', 'shape', 'shape like', 'share', 'share friend', 'sharp', 'shave', 'shed', 'sheet', 'shelf', 'shelf life', 'shell', 'shelter', 'shelti', 'shelv', 'shepard', 'shepherd', 'shi', 'shift', 'shih', 'shih tzu', 'shim', 'shine', 'shini', 'ship', 'ship amazon', 'ship box', 'ship charg', 'ship cost', 'ship fast', 'ship free', 'ship great', 'ship handl', 'ship not', 'ship order', 'ship price', 'ship product', 'ship quickli', 'ship time', 'ship well', 'ship would', 'shipment', 'shipment arriv', 'shipper', 'shirataki', 'shirataki noodl', 'shock', 'shoe', 'shoot', 'shop', 'shop around', 'short', 'short time', 'shortag', 'shortbread', 'shortli', 'shot', 'show', 'show sign', 'shower', 'shown', 'shred', 'shrimp', 'shrink', 'shut', 'siberian', 'siberian huski', 'sick', 'sickli', 'side', 'side dish', 'side effect', 'side not', 'side note', 'side side', 'sight', 'sign', 'signatur', 'signific', 'significantli', 'silicon', 'silk', 'silken', 'silki', 'silli', 'silver', 'similac', 'similar', 'similar product', 'similar tast', 'simmer', 'simpl', 'simpl make', 'simpli', 'simpli best', 'simpli not', 'sin', 'sinc', 'sinc bought', 'sinc buy', 'sinc discov', 'sinc drink', 'sinc eat', 'sinc first', 'sinc found', 'sinc get', 'sinc got', 'sinc kid', 'sinc know', 'sinc like', 'sinc love', 'sinc not', 'sinc one', 'sinc order', 'sinc start', 'sinc switch', 'sinc tri', 'sinc use', 'sincer', 'singl', 'singl box', 'singl cup', 'singl packag', 'singl serv', 'sink', 'sinu', 'sip', 'sister', 'sit', 'site', 'situat', 'six', 'six box', 'six month', 'six pack', 'size', 'size bag', 'size contain', 'size cup', 'size dog', 'size good', 'size not', 'size one', 'size oz', 'size packag', 'size perfect', 'size piec', 'size small', 'size treat', 'skeptic', 'skillet', 'skim', 'skim milk', 'skin', 'skin allergi', 'skin problem', 'skinni', 'skip', 'skippi', 'skittl', 'sky', 'sleep', 'sleepytim', 'slice', 'slide', 'slight', 'slightli', 'slightli better', 'slightli bitter', 'slightli differ', 'slightli less', 'slightli sweet', 'slim', 'slimi', 'slip', 'slow', 'slowli', 'smack', 'small', 'small amount', 'small bag', 'small bit', 'small bottl', 'small can', 'small cup', 'small dog', 'small enough', 'small one', 'small oz', 'small packag', 'small piec', 'small portion', 'small price', 'small size', 'small town', 'smaller', 'smaller bag', 'smaller dog', 'smaller one', 'smaller piec', 'smaller size', 'smallest', 'smart', 'smash', 'smell', 'smell bad', 'smell better', 'smell coffe', 'smell fresh', 'smell good', 'smell great', 'smell like', 'smell not', 'smell realli', 'smell tast', 'smell wonder', 'smelli', 'smile', 'smoke', 'smoke flavor', 'smoke point', 'smokehous', 'smokey', 'smoki', 'smooth', 'smooth coffe', 'smooth creami', 'smooth flavor', 'smooth not', 'smooth rich', 'smooth tast', 'smooth textur', 'smoother', 'smoothi', 'smoothli', 'snack', 'snack bar', 'snack eat', 'snack food', 'snack go', 'snack great', 'snack like', 'snack love', 'snack meal', 'snack not', 'snack time', 'snack without', 'snap', 'snapper', 'sneak', 'snicker', 'snif', 'sniff', 'snob', 'snow', 'soak', 'soap', 'social', 'societi', 'soda', 'soda drinker', 'soda not', 'soda pop', 'soda water', 'sodium', 'sodium content', 'sodium mg', 'soft', 'soft bake', 'soft chewi', 'soft cooki', 'soft drink', 'soft enough', 'soften', 'softer', 'soggi', 'soil', 'sold', 'sold amazon', 'sold store', 'sole', 'solid', 'solid gold', 'solidifi', 'solut', 'solv', 'solv problem', 'somebodi', 'somehow', 'someon', 'someon els', 'someon like', 'someth', 'someth better', 'someth differ', 'someth els', 'someth good', 'someth healthi', 'someth like', 'someth littl', 'someth new', 'someth not', 'someth realli', 'someth similar', 'someth sweet', 'someth tast', 'someth would', 'someth wrong', 'sometim', 'sometim add', 'sometim get', 'somewhat', 'somewher', 'son', 'son eat', 'son like', 'son love', 'soon', 'soon open', 'sooner', 'sooo', 'soooo', 'sooooo', 'sooth', 'sore', 'sorghum', 'sorri', 'sort', 'sort like', 'soul', 'sound', 'sound good', 'sound like', 'soup', 'soupi', 'sour', 'sour cream', 'sour tast', 'sourc', 'sourc fiber', 'sourc protein', 'south', 'south beach', 'southern', 'soy', 'soy free', 'soy lecithin', 'soy milk', 'soy protein', 'soy sauc', 'soybean', 'space', 'spaghetti', 'spaghetti sauc', 'spaniel', 'spanish', 'spare', 'sparingli', 'sparkl', 'sparkl juic', 'sparkl water', 'speak', 'spearmint', 'special', 'special blend', 'special occas', 'special treat', 'specialti', 'specialti store', 'specif', 'specifi', 'spectacular', 'spectrum', 'speed', 'spell', 'spelt', 'spend', 'spend money', 'spent', 'spice', 'spice chai', 'spicey', 'spici', 'spici chicken', 'spici flavor', 'spici food', 'spici not', 'spicier', 'spike', 'spill', 'spin', 'spinach', 'spit', 'splash', 'splenda', 'split', 'split pea', 'splurg', 'spoil', 'spoke', 'spoon', 'sport', 'spot', 'spray', 'spread', 'spring', 'sprinkl', 'sprinkl top', 'sprout', 'sprouter', 'squar', 'squar hot', 'squash', 'squeez', 'squirrel', 'squirt', 'sri', 'sri lanka', 'st', 'stabl', 'stack', 'staff', 'stage', 'stain', 'stainless', 'stale', 'stale not', 'stand', 'standard', 'stapl', 'star', 'star instead', 'star not', 'star product', 'star rate', 'star review', 'star tast', 'star think', 'star would', 'starbuck', 'starbuck coffe', 'starbuck via', 'starch', 'stare', 'start', 'start buy', 'start day', 'start drink', 'start eat', 'start feed', 'start get', 'start give', 'start look', 'start make', 'start say', 'start use', 'starter', 'starv', 'stash', 'stash green', 'stash tea', 'state', 'state not', 'state product', 'statement', 'station', 'stay', 'stay away', 'stay fresh', 'steadi', 'steak', 'steal', 'steam', 'steel', 'steel cut', 'steep', 'steep minut', 'steer', 'steer clear', 'stem', 'step', 'stephen', 'stevia', 'stevia extract', 'stevia powder', 'stew', 'stick', 'stick teeth', 'sticker', 'sticki', 'stiff', 'still', 'still buy', 'still eat', 'still enjoy', 'still get', 'still good', 'still great', 'still like', 'still look', 'still love', 'still not', 'still prefer', 'still realli', 'still tast', 'still think', 'still use', 'still want', 'still work', 'stimul', 'stinger', 'stink', 'stinki', 'stir', 'stir crazi', 'stir fri', 'stix', 'stock', 'stock stuffer', 'stomach', 'stomach ach', 'stomach issu', 'stomach problem', 'stomach upset', 'stone', 'stonewal', 'stood', 'stool', 'stop', 'stop buy', 'stop carri', 'stop drink', 'stop eat', 'stop make', 'stop sell', 'stop use', 'storag', 'store', 'store alway', 'store amazon', 'store area', 'store bought', 'store brand', 'store buy', 'store carri', 'store even', 'store find', 'store first', 'store found', 'store get', 'store glad', 'store good', 'store great', 'store happi', 'store like', 'store look', 'store love', 'store much', 'store not', 'store one', 'store order', 'store price', 'store purchas', 'store sell', 'store shelv', 'store stop', 'store tri', 'store well', 'store would', 'stori', 'stove', 'stove top', 'stovetop', 'straight', 'strain', 'strainer', 'strang', 'straw', 'strawberri', 'strawberri flavor', 'strawberri kiwi', 'stray', 'street', 'strength', 'stress', 'stretch', 'strict', 'strike', 'string', 'strip', 'strong', 'strong bitter', 'strong coffe', 'strong cup', 'strong dark', 'strong enough', 'strong flavor', 'strong like', 'strong not', 'strong smooth', 'strong tast', 'strong tea', 'stronger', 'stronger flavor', 'strongest', 'strongli', 'strongli recommend', 'struggl', 'stuck', 'stuck teeth', 'student', 'studi', 'stuf', 'stuff', 'stuff amaz', 'stuff get', 'stuff good', 'stuff great', 'stuff like', 'stuff make', 'stuff not', 'stuff realli', 'stuff tast', 'stuff tri', 'stuff use', 'stuffer', 'stumbl', 'stumbl upon', 'stun', 'stupid', 'sturdi', 'style', 'style popcorn', 'styrofoam', 'sub', 'subject', 'subscrib', 'subscrib save', 'subscript', 'subsequ', 'substanc', 'substanti', 'substitut', 'substitut regular', 'subtl', 'subtl flavor', 'success', 'suck', 'sucker', 'sucralos', 'sucros', 'sudden', 'suddenli', 'suffer', 'suffici', 'sugar', 'sugar ad', 'sugar alcohol', 'sugar artifici', 'sugar calori', 'sugar content', 'sugar cooki', 'sugar corn', 'sugar cream', 'sugar cube', 'sugar drink', 'sugar flavor', 'sugar free', 'sugar good', 'sugar gram', 'sugar high', 'sugar honey', 'sugar level', 'sugar like', 'sugar make', 'sugar need', 'sugar not', 'sugar per', 'sugar product', 'sugar protein', 'sugar substitut', 'sugar sweeten', 'sugar tast', 'sugar use', 'sugar water', 'sugari', 'suggest', 'suggest tri', 'suit', 'suitabl', 'sum', 'sumatra', 'sumatran', 'summari', 'summer', 'sun', 'sunday', 'sunflow', 'sunflow seed', 'sunset', 'super', 'super easi', 'super fast', 'super saver', 'super sweet', 'superb', 'superior', 'supermarket', 'supervis', 'supper', 'supplement', 'suppli', 'supplier', 'support', 'suppos', 'suppos tast', 'supposedli', 'suprem', 'supris', 'sure', 'sure buy', 'sure enough', 'sure expect', 'sure get', 'sure go', 'sure good', 'sure like', 'sure make', 'sure not', 'sure order', 'sure tast', 'sure use', 'sure would', 'surfac', 'surgeri', 'surpris', 'surpris find', 'surpris good', 'surpris see', 'surpris tast', 'surprisingli', 'surround', 'surviv', 'sushi', 'suspect', 'suspici', 'sustain', 'swallow', 'swallow whole', 'swear', 'sweat', 'swedish', 'sweet', 'sweet chili', 'sweet chocol', 'sweet enough', 'sweet flavor', 'sweet good', 'sweet great', 'sweet hot', 'sweet like', 'sweet littl', 'sweet make', 'sweet not', 'sweet potato', 'sweet salti', 'sweet sour', 'sweet spici', 'sweet sugar', 'sweet tart', 'sweet tast', 'sweet tea', 'sweet tooth', 'sweet without', 'sweeten', 'sweeten use', 'sweeter', 'sweetner', 'swiss', 'swiss miss', 'switch', 'switch back', 'switch drink', 'switch food', 'switch kiwi', 'switch orang', 'symptom', 'synthet', 'syrup', 'syrup grade', 'syrup not', 'syrup preserv', 'syrup sugar', 'syrup tast', 'syrup use', 'syrupi', 'system', 'ta', 'tab', 'tabasco', 'tabl', 'tabl salt', 'tablespoon', 'tablet', 'tac', 'taco', 'tad', 'taffi', 'tag', 'tail', 'take', 'take away', 'take back', 'take care', 'take chanc', 'take flavor', 'take get', 'take littl', 'take long', 'take longer', 'take minut', 'take much', 'take one', 'take time', 'take work', 'taken', 'talk', 'tall', 'tang', 'tangerin', 'tangerin flavor', 'tangerin orang', 'tangi', 'tannin', 'tap', 'tap water', 'tape', 'tapioca', 'target', 'tart', 'tartar', 'tarter', 'task', 'tassimo', 'tast', 'tast actual', 'tast add', 'tast almost', 'tast also', 'tast amaz', 'tast anyth', 'tast aroma', 'tast artifici', 'tast aw', 'tast awesom', 'tast bad', 'tast bar', 'tast best', 'tast better', 'tast bit', 'tast bitter', 'tast bland', 'tast bud', 'tast chip', 'tast chocol', 'tast close', 'tast coffe', 'tast compar', 'tast cup', 'tast delici', 'tast differ', 'tast drink', 'tast easi', 'tast enjoy', 'tast especi', 'tast even', 'tast exactli', 'tast excel', 'tast fantast', 'tast far', 'tast feel', 'tast fine', 'tast first', 'tast flavor', 'tast food', 'tast found', 'tast fresh', 'tast get', 'tast good', 'tast great', 'tast healthi', 'tast horribl', 'tast howev', 'tast kind', 'tast kiwi', 'tast know', 'tast less', 'tast light', 'tast like', 'tast littl', 'tast look', 'tast lot', 'tast love', 'tast low', 'tast made', 'tast make', 'tast mani', 'tast mix', 'tast mouth', 'tast much', 'tast natur', 'tast never', 'tast nice', 'tast not', 'tast noth', 'tast ok', 'tast okay', 'tast one', 'tast orang', 'tast perfect', 'tast popcorn', 'tast prefer', 'tast pretti', 'tast price', 'tast probabl', 'tast product', 'tast qualiti', 'tast quit', 'tast rather', 'tast real', 'tast realli', 'tast regular', 'tast remind', 'tast right', 'tast salt', 'tast seem', 'tast similar', 'tast slightli', 'tast smell', 'tast smooth', 'tast somewhat', 'tast stale', 'tast still', 'tast strong', 'tast sugar', 'tast sweet', 'tast tast', 'tast tea', 'tast terribl', 'tast test', 'tast textur', 'tast think', 'tast tri', 'tast use', 'tast water', 'tast way', 'tast well', 'tast wise', 'tast without', 'tast wonder', 'tast would', 'tast yummi', 'tastebud', 'tasteless', 'taster', 'tasti', 'tasti good', 'tasti healthi', 'tasti not', 'tasti snack', 'tasti treat', 'tastier', 'tastiest', 'taurin', 'tax', 'taylor', 'tazo', 'tb', 'tbsp', 'tea', 'tea actual', 'tea also', 'tea alway', 'tea amaz', 'tea amazon', 'tea bag', 'tea best', 'tea bitter', 'tea blend', 'tea brand', 'tea brew', 'tea buy', 'tea caffein', 'tea coffe', 'tea come', 'tea contain', 'tea cup', 'tea day', 'tea definit', 'tea delici', 'tea drink', 'tea drinker', 'tea enjoy', 'tea even', 'tea ever', 'tea everi', 'tea excel', 'tea favorit', 'tea find', 'tea first', 'tea flavor', 'tea found', 'tea get', 'tea go', 'tea good', 'tea great', 'tea green', 'tea help', 'tea hot', 'tea ice', 'tea leav', 'tea like', 'tea littl', 'tea look', 'tea love', 'tea lover', 'tea made', 'tea make', 'tea maker', 'tea mani', 'tea much', 'tea need', 'tea nice', 'tea not', 'tea one', 'tea organ', 'tea perfect', 'tea powder', 'tea purchas', 'tea realli', 'tea recommend', 'tea seem', 'tea smell', 'tea strong', 'tea tast', 'tea tea', 'tea time', 'tea tri', 'tea use', 'tea usual', 'tea want', 'tea well', 'tea without', 'tea wonder', 'tea work', 'tea would', 'tea year', 'teabag', 'teach', 'team', 'teapot', 'tear', 'teaspoon', 'technic', 'techniqu', 'teen', 'teenag', 'teeni', 'teeth', 'teeth clean', 'teeth gum', 'teeth look', 'tell', 'tell differ', 'temp', 'temperatur', 'tempt', 'temptat', 'ten', 'ten minut', 'ten year', 'tend', 'tend get', 'tendenc', 'tender', 'tenni', 'tenni ball', 'teriyaki', 'term', 'terribl', 'terrier', 'terrier mix', 'terrif', 'test', 'tester', 'texa', 'textur', 'textur flavor', 'textur great', 'textur like', 'textur littl', 'textur not', 'textur tast', 'th', 'thai', 'thai kitchen', 'thailand', 'thank', 'thank amazon', 'thank god', 'thank good', 'thank great', 'thank much', 'thank thank', 'thanksgiv', 'that', 'thaw', 'theater', 'theater popcorn', 'theatr', 'theme', 'theori', 'therefor', 'thick', 'thicken', 'thicker', 'thin', 'thin crisp', 'thing', 'thing eat', 'thing ever', 'thing get', 'thing go', 'thing like', 'thing love', 'thing make', 'thing morn', 'thing not', 'thing notic', 'thing realli', 'thing say', 'thing sinc', 'thing tast', 'thing tri', 'thing want', 'thing would', 'think', 'think best', 'think better', 'think buy', 'think could', 'think eat', 'think get', 'think go', 'think good', 'think great', 'think like', 'think make', 'think might', 'think much', 'think not', 'think one', 'think order', 'think product', 'think realli', 'think stick', 'think tast', 'think tri', 'think twice', 'think use', 'think worth', 'think would', 'thinner', 'third', 'thirst', 'thirsti', 'thirti', 'tho', 'thoroughli', 'though', 'though like', 'though not', 'though still', 'thought', 'thought could', 'thought get', 'thought give', 'thought go', 'thought good', 'thought great', 'thought mayb', 'thought might', 'thought tast', 'thought tri', 'thought would', 'thousand', 'thread', 'three', 'three bag', 'three cat', 'three day', 'three differ', 'three dog', 'three flavor', 'three month', 'three pack', 'three star', 'three time', 'three year', 'threw', 'threw away', 'thrill', 'thrill find', 'thrive', 'throat', 'throughout', 'throughout day', 'throw', 'throw away', 'thrown', 'thru', 'thru amazon', 'thu', 'thu far', 'thumb', 'thyme', 'tic', 'tic tac', 'tie', 'tiger', 'tight', 'tightli', 'till', 'time', 'time ago', 'time also', 'time alway', 'time amazon', 'time around', 'time bought', 'time buy', 'time cook', 'time day', 'time dog', 'time drink', 'time eat', 'time enjoy', 'time even', 'time favorit', 'time figur', 'time find', 'time found', 'time get', 'time give', 'time go', 'time good', 'time got', 'time great', 'time like', 'time love', 'time made', 'time make', 'time manner', 'time need', 'time never', 'time not', 'time one', 'time open', 'time order', 'time price', 'time purchas', 'time realli', 'time seem', 'time sinc', 'time still', 'time take', 'time tast', 'time time', 'time tri', 'time use', 'time want', 'time week', 'time work', 'time would', 'time write', 'time year', 'timothi', 'tin', 'tini', 'tini bit', 'tinkyada', 'tip', 'tire', 'titl', 'titl say', 'toast', 'tocopherol', 'today', 'toddler', 'toffe', 'tofu', 'togeth', 'told', 'toler', 'tomato', 'tomato past', 'tomato sauc', 'tomato soup', 'tommi', 'ton', 'tone', 'tongu', 'tonight', 'took', 'took chanc', 'took littl', 'took minut', 'took one', 'took week', 'tool', 'tooth', 'toothpast', 'tootsi', 'top', 'top list', 'top qualiti', 'torani', 'torani syrup', 'torn', 'tortilla', 'tortilla chip', 'toss', 'total', 'total fat', 'total worth', 'touch', 'tough', 'tourangel', 'tout', 'toward', 'towel', 'town', 'toxic', 'toy', 'toy dog', 'toy keep', 'toy not', 'toy would', 'trace', 'track', 'tract', 'trade', 'trader', 'trader joe', 'tradit', 'trail', 'trail mix', 'train', 'train treat', 'trainer', 'tran', 'tran fat', 'transact', 'transfer', 'transit', 'transport', 'trap', 'trash', 'travel', 'travel mug', 'tray', 'treat', 'treat also', 'treat ball', 'treat cat', 'treat come', 'treat dispens', 'treat dog', 'treat eat', 'treat even', 'treat everi', 'treat get', 'treat give', 'treat good', 'treat great', 'treat hard', 'treat insid', 'treat like', 'treat love', 'treat made', 'treat make', 'treat not', 'treat one', 'treat realli', 'treat seem', 'treat small', 'treat time', 'treat toy', 'treat treat', 'treat tri', 'treat use', 'treat would', 'treatment', 'tree', 'tree nut', 'tremend', 'tri', 'tri ad', 'tri almost', 'tri also', 'tri anoth', 'tri avoid', 'tri brand', 'tri buy', 'tri coffe', 'tri coupl', 'tri cup', 'tri cut', 'tri differ', 'tri disappoint', 'tri dog', 'tri drink', 'tri eat', 'tri enjoy', 'tri everi', 'tri everyth', 'tri far', 'tri feed', 'tri figur', 'tri find', 'tri first', 'tri flavor', 'tri food', 'tri get', 'tri give', 'tri good', 'tri great', 'tri keep', 'tri least', 'tri like', 'tri littl', 'tri look', 'tri lose', 'tri lot', 'tri love', 'tri low', 'tri make', 'tri mani', 'tri mix', 'tri never', 'tri new', 'tri not', 'tri number', 'tri one', 'tri open', 'tri order', 'tri other', 'tri product', 'tri put', 'tri quit', 'tri realli', 'tri recip', 'tri see', 'tri sever', 'tri sinc', 'tri someth', 'tri stuff', 'tri switch', 'tri tast', 'tri tea', 'tri think', 'tri three', 'tri tri', 'tri two', 'tri use', 'tri varieti', 'tri variou', 'tri well', 'tri would', 'tri yet', 'trial', 'trial error', 'trick', 'tricki', 'trigger', 'trim', 'trip', 'tripl', 'tropic', 'troubl', 'troubl find', 'truck', 'true', 'truffl', 'truffl oil', 'truli', 'truli delici', 'truli enjoy', 'trust', 'truth', 'truvia', 'tsp', 'tub', 'tube', 'tug', 'tug jug', 'tulli', 'tulli italian', 'tummi', 'tuna', 'turkey', 'turkish', 'turmer', 'turn', 'turn great', 'turn nose', 'tv', 'twelv', 'twenti', 'twice', 'twice day', 'twice much', 'twice price', 'twin', 'twine', 'twist', 'two', 'two bag', 'two box', 'two can', 'two case', 'two cat', 'two cup', 'two day', 'two differ', 'two dog', 'two flavor', 'two ingredi', 'two minut', 'two month', 'two pack', 'two packet', 'two peopl', 'two serv', 'two small', 'two star', 'two tablespoon', 'two thing', 'two three', 'two time', 'two week', 'two year', 'type', 'type coffe', 'type food', 'type product', 'type tea', 'type treat', 'typic', 'tzu', 'ugh', 'uk', 'ultim', 'ultra', 'un', 'unabl', 'unabl find', 'unaccept', 'unavail', 'unbeat', 'unbeliev', 'uncl', 'undamag', 'understand', 'underton', 'underwhelm', 'undrink', 'unexpect', 'unflavor', 'unfortun', 'unfortun not', 'unhappi', 'unhealthi', 'uniform', 'uniqu', 'uniqu flavor', 'uniqu tast', 'unit', 'unit state', 'univers', 'unless', 'unlik', 'unlik mani', 'unnatur', 'unnecessari', 'unopen', 'unpleas', 'unpop', 'unpop kernel', 'unsalt', 'unscrew', 'unsweeten', 'unus', 'unusu', 'unwrap', 'up', 'updat', 'updat review', 'upgrad', 'upon', 'upon open', 'upper', 'upset', 'upset stomach', 'upsid', 'urg', 'urin', 'urinari', 'us', 'us not', 'usa', 'usabl', 'usb', 'usda', 'use', 'use agav', 'use almost', 'use also', 'use amazon', 'use anyth', 'use bag', 'use bake', 'use brand', 'use bread', 'use buy', 'use chicken', 'use coconut', 'use coffe', 'use cook', 'use cup', 'use daili', 'use date', 'use differ', 'use dog', 'use drink', 'use eat', 'use egg', 'use everi', 'use everyth', 'use favorit', 'use flavor', 'use food', 'use french', 'use fresh', 'use get', 'use give', 'use go', 'use good', 'use great', 'use half', 'use high', 'use home', 'use hot', 'use ice', 'use keurig', 'use larg', 'use less', 'use like', 'use littl', 'use lot', 'use love', 'use make', 'use mani', 'use milk', 'use mix', 'use much', 'use natur', 'use new', 'use not', 'use oil', 'use one', 'use organ', 'use oz', 'use packet', 'use popcorn', 'use product', 'use real', 'use recip', 'use regular', 'use salt', 'use sauc', 'use sever', 'use shake', 'use small', 'use stevia', 'use stuff', 'use sugar', 'use sweeten', 'use syrup', 'use tast', 'use tea', 'use time', 'use train', 'use treat', 'use two', 'use use', 'use water', 'use way', 'use whole', 'use work', 'use would', 'use year', 'useless', 'user', 'usp', 'usual', 'usual add', 'usual buy', 'usual drink', 'usual eat', 'usual get', 'usual like', 'usual make', 'usual not', 'usual use', 'util', 'vacat', 'vacuum', 'vacuum pack', 'vacuum seal', 'valentin', 'valley', 'valu', 'valu money', 'van', 'van houtt', 'vanilla', 'vanilla bean', 'vanilla caramel', 'vanilla chai', 'vanilla creamer', 'vanilla extract', 'vanilla flavor', 'vanilla ice', 'vari', 'variat', 'varieti', 'varieti flavor', 'varieti pack', 'varieti tri', 'variou', 'vega', 'vegan', 'veget', 'veget oil', 'vegetarian', 'veggi', 'vend', 'vend machin', 'vendor', 'venison', 'verifi', 'vermont', 'vermont mapl', 'versatil', 'version', 'versu', 'vet', 'vet bill', 'vet recommend', 'vet said', 'vet told', 'veterinarian', 'via', 'via amazon', 'vibrant', 'video', 'vietnames', 'view', 'vine', 'vine program', 'vinegar', 'vinegar chip', 'vinegar flavor', 'violet', 'virgin', 'virgin oliv', 'virginia', 'virtual', 'visit', 'visual', 'vita', 'vita coco', 'vital', 'vitamin', 'vitamin miner', 'vitamin vitamin', 'vodka', 'voic', 'voila', 'volum', 'vomit', 'vote', 'vs', 'wabash', 'wafer', 'waffl', 'waffl maker', 'waffl mix', 'waffl pancak', 'wag', 'wait', 'wait get', 'wait tri', 'wake', 'wake morn', 'wal', 'wal mart', 'walden', 'walden farm', 'walgreen', 'walk', 'walk away', 'walker', 'wall', 'walmart', 'walnut', 'walnut oil', 'wan', 'want', 'want add', 'want avoid', 'want buy', 'want coffe', 'want drink', 'want eat', 'want find', 'want get', 'want give', 'want go', 'want good', 'want keep', 'want know', 'want like', 'want make', 'want one', 'want order', 'want put', 'want say', 'want snack', 'want someth', 'want tast', 'want tri', 'want use', 'warehous', 'wari', 'warm', 'warm water', 'warn', 'wasa', 'wasabi', 'wasabi pea', 'wash', 'wasnt', 'wast', 'wast money', 'wast time', 'watch', 'watch calori', 'watch weight', 'watcher', 'watcher point', 'water', 'water ad', 'water add', 'water boil', 'water bottl', 'water coffe', 'water cup', 'water first', 'water flavor', 'water like', 'water make', 'water microwav', 'water milk', 'water minut', 'water mix', 'water not', 'water splash', 'water tast', 'water use', 'water would', 'wateri', 'watermelon', 'watermelon strawberri', 'wax', 'waxi', 'way', 'way better', 'way buy', 'way cheaper', 'way could', 'way describ', 'way eat', 'way enjoy', 'way expens', 'way get', 'way go', 'way keep', 'way like', 'way make', 'way much', 'way not', 'way one', 'way start', 'way sweet', 'way tast', 'way tri', 'way use', 'weak', 'weak coffe', 'weak tast', 'weaker', 'wean', 'wear', 'weather', 'weaver', 'web', 'web site', 'websit', 'wed', 'wedg', 'wee', 'week', 'week ago', 'week get', 'week later', 'week use', 'weekend', 'weekli', 'wegman', 'weigh', 'weight', 'weight gain', 'weight loss', 'weight watcher', 'weird', 'weird tast', 'welcom', 'well', 'well also', 'well balanc', 'well buy', 'well dog', 'well done', 'well enough', 'well get', 'well good', 'well known', 'well like', 'well love', 'well made', 'well make', 'well not', 'well one', 'well pack', 'well packag', 'well price', 'well product', 'well realli', 'well tast', 'well tri', 'well use', 'well worth', 'well would', 'went', 'went ahead', 'went away', 'went back', 'went local', 'west', 'westi', 'wet', 'wet food', 'whatev', 'whatev reason', 'whatsoev', 'wheat', 'wheat bread', 'wheat corn', 'wheat flour', 'wheat free', 'wheat gluten', 'wheat pasta', 'wheatgrass', 'wheel', 'whenev', 'whenev bar', 'whenev want', 'wherea', 'wherev', 'whether', 'whether not', 'whey', 'whim', 'whine', 'whip', 'whip cream', 'whirley', 'whirley pop', 'whiska', 'white', 'white bread', 'white cheddar', 'white chocol', 'white flour', 'white meat', 'white popcorn', 'white rice', 'white sugar', 'white tea', 'whole', 'whole bag', 'whole bean', 'whole box', 'whole case', 'whole famili', 'whole food', 'whole grain', 'whole lot', 'whole milk', 'whole packag', 'whole thing', 'whole wheat', 'wholesal', 'wholesom', 'whose', 'wide', 'wife', 'wife like', 'wife love', 'wild', 'wild ride', 'will', 'wilton', 'win', 'win win', 'wind', 'window', 'wine', 'wing', 'winner', 'winter', 'wintergreen', 'wipe', 'wire', 'wisconsin', 'wise', 'wish', 'wish amazon', 'wish came', 'wish could', 'wish would', 'within', 'within day', 'within hour', 'within minut', 'within two', 'within week', 'without', 'without ad', 'without bitter', 'without calori', 'without doubt', 'without get', 'without hesit', 'without make', 'without milk', 'without much', 'without sugar', 'wolf', 'wolfgang', 'wolfgang puck', 'woman', 'women', 'wonder', 'wonder aroma', 'wonder coffe', 'wonder flavor', 'wonder not', 'wonder product', 'wonder tast', 'wonder tea', 'wont', 'wood', 'word', 'work', 'work best', 'work better', 'work day', 'work dog', 'work fine', 'work get', 'work great', 'work like', 'work make', 'work not', 'work one', 'work perfectli', 'work realli', 'work well', 'work wonder', 'worker', 'workout', 'world', 'worm', 'worri', 'wors', 'worst', 'worst tast', 'worth', 'worth buy', 'worth cost', 'worth effort', 'worth everi', 'worth extra', 'worth money', 'worth price', 'worth tri', 'worthi', 'would', 'would actual', 'would add', 'would also', 'would better', 'would buy', 'would call', 'would certainli', 'would come', 'would consid', 'would definit', 'would drink', 'would eat', 'would enjoy', 'would even', 'would expect', 'would find', 'would get', 'would give', 'would given', 'would go', 'would good', 'would great', 'would help', 'would highli', 'would last', 'would like', 'would love', 'would make', 'would much', 'would need', 'would never', 'would nice', 'would normal', 'would not', 'would order', 'would pay', 'would perfect', 'would prefer', 'would probabl', 'would purchas', 'would put', 'would rate', 'would rather', 'would realli', 'would recommend', 'would say', 'would still', 'would suggest', 'would take', 'would tast', 'would think', 'would tri', 'would use', 'would want', 'would work', 'wound', 'wow', 'wrap', 'wrapper', 'write', 'write review', 'written', 'wrong', 'wrong product', 'wrote', 'ww', 'www', 'www amazon', 'xma', 'xylitol', 'ya', 'yard', 'yay', 'ye', 'yeah', 'year', 'year ago', 'year back', 'year dog', 'year great', 'year half', 'year love', 'year never', 'year not', 'year old', 'year one', 'year realli', 'year round', 'year sinc', 'year still', 'year tri', 'year use', 'year year', 'yeast', 'yellow', 'yellow lab', 'yep', 'yesterday', 'yet', 'yet not', 'yet still', 'yet tri', 'yield', 'yo', 'yogi', 'yogi tea', 'yogurt', 'york', 'yorki', 'young', 'younger', 'youngest', 'yr', 'yr old', 'yuban', 'yuck', 'yucki', 'yuk', 'yum', 'yum yum', 'yummi', 'zealand', 'zero', 'zero calori', 'zero star', 'zest', 'zesti', 'zevia', 'zing', 'zip', 'zip lock', 'zipfizz', 'ziploc', 'ziplock', 'ziplock bag', 'ziwipeak', 'zuke', 'zuke hip']\n"
     ]
    }
   ],
   "source": [
    "print(tfidf_model.get_feature_names())"
   ]
  },
  {
   "cell_type": "code",
   "execution_count": 37,
   "metadata": {},
   "outputs": [
    {
     "data": {
      "text/html": [
       "<div>\n",
       "<style scoped>\n",
       "    .dataframe tbody tr th:only-of-type {\n",
       "        vertical-align: middle;\n",
       "    }\n",
       "\n",
       "    .dataframe tbody tr th {\n",
       "        vertical-align: top;\n",
       "    }\n",
       "\n",
       "    .dataframe thead th {\n",
       "        text-align: right;\n",
       "    }\n",
       "</style>\n",
       "<table border=\"1\" class=\"dataframe\">\n",
       "  <thead>\n",
       "    <tr style=\"text-align: right;\">\n",
       "      <th></th>\n",
       "      <th>abil</th>\n",
       "      <th>abl</th>\n",
       "      <th>abl buy</th>\n",
       "      <th>abl drink</th>\n",
       "      <th>abl eat</th>\n",
       "      <th>abl enjoy</th>\n",
       "      <th>abl find</th>\n",
       "      <th>abl get</th>\n",
       "      <th>abl make</th>\n",
       "      <th>abl order</th>\n",
       "      <th>...</th>\n",
       "      <th>zing</th>\n",
       "      <th>zip</th>\n",
       "      <th>zip lock</th>\n",
       "      <th>zipfizz</th>\n",
       "      <th>ziploc</th>\n",
       "      <th>ziplock</th>\n",
       "      <th>ziplock bag</th>\n",
       "      <th>ziwipeak</th>\n",
       "      <th>zuke</th>\n",
       "      <th>zuke hip</th>\n",
       "    </tr>\n",
       "  </thead>\n",
       "  <tbody>\n",
       "    <tr>\n",
       "      <th>18039</th>\n",
       "      <td>0.0</td>\n",
       "      <td>0.0</td>\n",
       "      <td>0.0</td>\n",
       "      <td>0.0</td>\n",
       "      <td>0.0</td>\n",
       "      <td>0.0</td>\n",
       "      <td>0.0</td>\n",
       "      <td>0.0</td>\n",
       "      <td>0.0</td>\n",
       "      <td>0.0</td>\n",
       "      <td>...</td>\n",
       "      <td>0.0</td>\n",
       "      <td>0.0</td>\n",
       "      <td>0.0</td>\n",
       "      <td>0.0</td>\n",
       "      <td>0.0</td>\n",
       "      <td>0.0</td>\n",
       "      <td>0.0</td>\n",
       "      <td>0.0</td>\n",
       "      <td>0.0</td>\n",
       "      <td>0.0</td>\n",
       "    </tr>\n",
       "    <tr>\n",
       "      <th>3584</th>\n",
       "      <td>0.0</td>\n",
       "      <td>0.0</td>\n",
       "      <td>0.0</td>\n",
       "      <td>0.0</td>\n",
       "      <td>0.0</td>\n",
       "      <td>0.0</td>\n",
       "      <td>0.0</td>\n",
       "      <td>0.0</td>\n",
       "      <td>0.0</td>\n",
       "      <td>0.0</td>\n",
       "      <td>...</td>\n",
       "      <td>0.0</td>\n",
       "      <td>0.0</td>\n",
       "      <td>0.0</td>\n",
       "      <td>0.0</td>\n",
       "      <td>0.0</td>\n",
       "      <td>0.0</td>\n",
       "      <td>0.0</td>\n",
       "      <td>0.0</td>\n",
       "      <td>0.0</td>\n",
       "      <td>0.0</td>\n",
       "    </tr>\n",
       "    <tr>\n",
       "      <th>12377</th>\n",
       "      <td>0.0</td>\n",
       "      <td>0.0</td>\n",
       "      <td>0.0</td>\n",
       "      <td>0.0</td>\n",
       "      <td>0.0</td>\n",
       "      <td>0.0</td>\n",
       "      <td>0.0</td>\n",
       "      <td>0.0</td>\n",
       "      <td>0.0</td>\n",
       "      <td>0.0</td>\n",
       "      <td>...</td>\n",
       "      <td>0.0</td>\n",
       "      <td>0.0</td>\n",
       "      <td>0.0</td>\n",
       "      <td>0.0</td>\n",
       "      <td>0.0</td>\n",
       "      <td>0.0</td>\n",
       "      <td>0.0</td>\n",
       "      <td>0.0</td>\n",
       "      <td>0.0</td>\n",
       "      <td>0.0</td>\n",
       "    </tr>\n",
       "    <tr>\n",
       "      <th>27293</th>\n",
       "      <td>0.0</td>\n",
       "      <td>0.0</td>\n",
       "      <td>0.0</td>\n",
       "      <td>0.0</td>\n",
       "      <td>0.0</td>\n",
       "      <td>0.0</td>\n",
       "      <td>0.0</td>\n",
       "      <td>0.0</td>\n",
       "      <td>0.0</td>\n",
       "      <td>0.0</td>\n",
       "      <td>...</td>\n",
       "      <td>0.0</td>\n",
       "      <td>0.0</td>\n",
       "      <td>0.0</td>\n",
       "      <td>0.0</td>\n",
       "      <td>0.0</td>\n",
       "      <td>0.0</td>\n",
       "      <td>0.0</td>\n",
       "      <td>0.0</td>\n",
       "      <td>0.0</td>\n",
       "      <td>0.0</td>\n",
       "    </tr>\n",
       "    <tr>\n",
       "      <th>38</th>\n",
       "      <td>0.0</td>\n",
       "      <td>0.0</td>\n",
       "      <td>0.0</td>\n",
       "      <td>0.0</td>\n",
       "      <td>0.0</td>\n",
       "      <td>0.0</td>\n",
       "      <td>0.0</td>\n",
       "      <td>0.0</td>\n",
       "      <td>0.0</td>\n",
       "      <td>0.0</td>\n",
       "      <td>...</td>\n",
       "      <td>0.0</td>\n",
       "      <td>0.0</td>\n",
       "      <td>0.0</td>\n",
       "      <td>0.0</td>\n",
       "      <td>0.0</td>\n",
       "      <td>0.0</td>\n",
       "      <td>0.0</td>\n",
       "      <td>0.0</td>\n",
       "      <td>0.0</td>\n",
       "      <td>0.0</td>\n",
       "    </tr>\n",
       "    <tr>\n",
       "      <th>...</th>\n",
       "      <td>...</td>\n",
       "      <td>...</td>\n",
       "      <td>...</td>\n",
       "      <td>...</td>\n",
       "      <td>...</td>\n",
       "      <td>...</td>\n",
       "      <td>...</td>\n",
       "      <td>...</td>\n",
       "      <td>...</td>\n",
       "      <td>...</td>\n",
       "      <td>...</td>\n",
       "      <td>...</td>\n",
       "      <td>...</td>\n",
       "      <td>...</td>\n",
       "      <td>...</td>\n",
       "      <td>...</td>\n",
       "      <td>...</td>\n",
       "      <td>...</td>\n",
       "      <td>...</td>\n",
       "      <td>...</td>\n",
       "      <td>...</td>\n",
       "    </tr>\n",
       "    <tr>\n",
       "      <th>306</th>\n",
       "      <td>0.0</td>\n",
       "      <td>0.0</td>\n",
       "      <td>0.0</td>\n",
       "      <td>0.0</td>\n",
       "      <td>0.0</td>\n",
       "      <td>0.0</td>\n",
       "      <td>0.0</td>\n",
       "      <td>0.0</td>\n",
       "      <td>0.0</td>\n",
       "      <td>0.0</td>\n",
       "      <td>...</td>\n",
       "      <td>0.0</td>\n",
       "      <td>0.0</td>\n",
       "      <td>0.0</td>\n",
       "      <td>0.0</td>\n",
       "      <td>0.0</td>\n",
       "      <td>0.0</td>\n",
       "      <td>0.0</td>\n",
       "      <td>0.0</td>\n",
       "      <td>0.0</td>\n",
       "      <td>0.0</td>\n",
       "    </tr>\n",
       "    <tr>\n",
       "      <th>7280</th>\n",
       "      <td>0.0</td>\n",
       "      <td>0.0</td>\n",
       "      <td>0.0</td>\n",
       "      <td>0.0</td>\n",
       "      <td>0.0</td>\n",
       "      <td>0.0</td>\n",
       "      <td>0.0</td>\n",
       "      <td>0.0</td>\n",
       "      <td>0.0</td>\n",
       "      <td>0.0</td>\n",
       "      <td>...</td>\n",
       "      <td>0.0</td>\n",
       "      <td>0.0</td>\n",
       "      <td>0.0</td>\n",
       "      <td>0.0</td>\n",
       "      <td>0.0</td>\n",
       "      <td>0.0</td>\n",
       "      <td>0.0</td>\n",
       "      <td>0.0</td>\n",
       "      <td>0.0</td>\n",
       "      <td>0.0</td>\n",
       "    </tr>\n",
       "    <tr>\n",
       "      <th>12761</th>\n",
       "      <td>0.0</td>\n",
       "      <td>0.0</td>\n",
       "      <td>0.0</td>\n",
       "      <td>0.0</td>\n",
       "      <td>0.0</td>\n",
       "      <td>0.0</td>\n",
       "      <td>0.0</td>\n",
       "      <td>0.0</td>\n",
       "      <td>0.0</td>\n",
       "      <td>0.0</td>\n",
       "      <td>...</td>\n",
       "      <td>0.0</td>\n",
       "      <td>0.0</td>\n",
       "      <td>0.0</td>\n",
       "      <td>0.0</td>\n",
       "      <td>0.0</td>\n",
       "      <td>0.0</td>\n",
       "      <td>0.0</td>\n",
       "      <td>0.0</td>\n",
       "      <td>0.0</td>\n",
       "      <td>0.0</td>\n",
       "    </tr>\n",
       "    <tr>\n",
       "      <th>5063</th>\n",
       "      <td>0.0</td>\n",
       "      <td>0.0</td>\n",
       "      <td>0.0</td>\n",
       "      <td>0.0</td>\n",
       "      <td>0.0</td>\n",
       "      <td>0.0</td>\n",
       "      <td>0.0</td>\n",
       "      <td>0.0</td>\n",
       "      <td>0.0</td>\n",
       "      <td>0.0</td>\n",
       "      <td>...</td>\n",
       "      <td>0.0</td>\n",
       "      <td>0.0</td>\n",
       "      <td>0.0</td>\n",
       "      <td>0.0</td>\n",
       "      <td>0.0</td>\n",
       "      <td>0.0</td>\n",
       "      <td>0.0</td>\n",
       "      <td>0.0</td>\n",
       "      <td>0.0</td>\n",
       "      <td>0.0</td>\n",
       "    </tr>\n",
       "    <tr>\n",
       "      <th>6534</th>\n",
       "      <td>0.0</td>\n",
       "      <td>0.0</td>\n",
       "      <td>0.0</td>\n",
       "      <td>0.0</td>\n",
       "      <td>0.0</td>\n",
       "      <td>0.0</td>\n",
       "      <td>0.0</td>\n",
       "      <td>0.0</td>\n",
       "      <td>0.0</td>\n",
       "      <td>0.0</td>\n",
       "      <td>...</td>\n",
       "      <td>0.0</td>\n",
       "      <td>0.0</td>\n",
       "      <td>0.0</td>\n",
       "      <td>0.0</td>\n",
       "      <td>0.0</td>\n",
       "      <td>0.0</td>\n",
       "      <td>0.0</td>\n",
       "      <td>0.0</td>\n",
       "      <td>0.0</td>\n",
       "      <td>0.0</td>\n",
       "    </tr>\n",
       "  </tbody>\n",
       "</table>\n",
       "<p>28089 rows × 10000 columns</p>\n",
       "</div>"
      ],
      "text/plain": [
       "       abil  abl  abl buy  abl drink  abl eat  abl enjoy  abl find  abl get  \\\n",
       "18039   0.0  0.0      0.0        0.0      0.0        0.0       0.0      0.0   \n",
       "3584    0.0  0.0      0.0        0.0      0.0        0.0       0.0      0.0   \n",
       "12377   0.0  0.0      0.0        0.0      0.0        0.0       0.0      0.0   \n",
       "27293   0.0  0.0      0.0        0.0      0.0        0.0       0.0      0.0   \n",
       "38      0.0  0.0      0.0        0.0      0.0        0.0       0.0      0.0   \n",
       "...     ...  ...      ...        ...      ...        ...       ...      ...   \n",
       "306     0.0  0.0      0.0        0.0      0.0        0.0       0.0      0.0   \n",
       "7280    0.0  0.0      0.0        0.0      0.0        0.0       0.0      0.0   \n",
       "12761   0.0  0.0      0.0        0.0      0.0        0.0       0.0      0.0   \n",
       "5063    0.0  0.0      0.0        0.0      0.0        0.0       0.0      0.0   \n",
       "6534    0.0  0.0      0.0        0.0      0.0        0.0       0.0      0.0   \n",
       "\n",
       "       abl make  abl order  ...  zing  zip  zip lock  zipfizz  ziploc  \\\n",
       "18039       0.0        0.0  ...   0.0  0.0       0.0      0.0     0.0   \n",
       "3584        0.0        0.0  ...   0.0  0.0       0.0      0.0     0.0   \n",
       "12377       0.0        0.0  ...   0.0  0.0       0.0      0.0     0.0   \n",
       "27293       0.0        0.0  ...   0.0  0.0       0.0      0.0     0.0   \n",
       "38          0.0        0.0  ...   0.0  0.0       0.0      0.0     0.0   \n",
       "...         ...        ...  ...   ...  ...       ...      ...     ...   \n",
       "306         0.0        0.0  ...   0.0  0.0       0.0      0.0     0.0   \n",
       "7280        0.0        0.0  ...   0.0  0.0       0.0      0.0     0.0   \n",
       "12761       0.0        0.0  ...   0.0  0.0       0.0      0.0     0.0   \n",
       "5063        0.0        0.0  ...   0.0  0.0       0.0      0.0     0.0   \n",
       "6534        0.0        0.0  ...   0.0  0.0       0.0      0.0     0.0   \n",
       "\n",
       "       ziplock  ziplock bag  ziwipeak  zuke  zuke hip  \n",
       "18039      0.0          0.0       0.0   0.0       0.0  \n",
       "3584       0.0          0.0       0.0   0.0       0.0  \n",
       "12377      0.0          0.0       0.0   0.0       0.0  \n",
       "27293      0.0          0.0       0.0   0.0       0.0  \n",
       "38         0.0          0.0       0.0   0.0       0.0  \n",
       "...        ...          ...       ...   ...       ...  \n",
       "306        0.0          0.0       0.0   0.0       0.0  \n",
       "7280       0.0          0.0       0.0   0.0       0.0  \n",
       "12761      0.0          0.0       0.0   0.0       0.0  \n",
       "5063       0.0          0.0       0.0   0.0       0.0  \n",
       "6534       0.0          0.0       0.0   0.0       0.0  \n",
       "\n",
       "[28089 rows x 10000 columns]"
      ]
     },
     "execution_count": 37,
     "metadata": {},
     "output_type": "execute_result"
    }
   ],
   "source": [
    "tfidf_df=pd.DataFrame(reviews_train_tfidf.toarray(),columns=tfidf_model.get_feature_names(),index=reviews_train.index)\n",
    "tfidf_df"
   ]
  },
  {
   "cell_type": "code",
   "execution_count": 38,
   "metadata": {},
   "outputs": [],
   "source": [
    "# Lets checkout the top features\n",
    "top_features=sorted(zip(tfidf_model.idf_,tfidf_model.get_feature_names()))\n",
    "top15=top_features[:15]"
   ]
  },
  {
   "cell_type": "code",
   "execution_count": 39,
   "metadata": {
    "scrolled": true
   },
   "outputs": [
    {
     "data": {
      "text/plain": [
       "[(1.9605078865424805, 'not'),\n",
       " (2.1065827367107683, 'like'),\n",
       " (2.161571424014832, 'tast'),\n",
       " (2.2910812765498845, 'good'),\n",
       " (2.3352859061560416, 'love'),\n",
       " (2.418785189842228, 'great'),\n",
       " (2.4303254865810944, 'flavor'),\n",
       " (2.4331568721251187, 'one'),\n",
       " (2.4943879305851793, 'tri'),\n",
       " (2.4977252399996974, 'product'),\n",
       " (2.5297512667191056, 'use'),\n",
       " (2.6495703974796463, 'get'),\n",
       " (2.7160253978288837, 'make'),\n",
       " (2.744954695279855, 'would'),\n",
       " (2.844984515264254, 'buy')]"
      ]
     },
     "execution_count": 39,
     "metadata": {},
     "output_type": "execute_result"
    }
   ],
   "source": [
    "top15"
   ]
  },
  {
   "cell_type": "code",
   "execution_count": 42,
   "metadata": {
    "scrolled": true
   },
   "outputs": [
    {
     "data": {
      "image/png": "[encoded data removed]",
      "text/plain": [
       "<Figure size 720x576 with 1 Axes>"
      ]
     },
     "metadata": {
      "needs_background": "light"
     },
     "output_type": "display_data"
    }
   ],
   "source": [
    "from wordcloud import WordCloud\n",
    "plt.figure(figsize=(10,8))\n",
    "wc = WordCloud(background_color=\"black\",max_font_size=150, random_state=42)\n",
    "wc.generate(str(top15))\n",
    "plt.imshow(wc, interpolation='bilinear')\n",
    "plt.suptitle('Top 15 words', size=30, y=0.88,color=\"r\")\n",
    "plt.axis(\"off\")\n",
    "plt.savefig(\"top15_words.png\")\n",
    "plt.show()"
   ]
  },
  {
   "cell_type": "markdown",
   "metadata": {},
   "source": [
    "### Resampling the minority class"
   ]
  },
  {
   "cell_type": "code",
   "execution_count": 92,
   "metadata": {},
   "outputs": [],
   "source": [
    "from imblearn import over_sampling\n",
    "from imblearn.over_sampling import SMOTE"
   ]
  },
  {
   "cell_type": "code",
   "execution_count": 93,
   "metadata": {},
   "outputs": [
    {
     "data": {
      "text/plain": [
       "2    21664\n",
       "1    21664\n",
       "0    21664\n",
       "Name: sentiment, dtype: int64"
      ]
     },
     "execution_count": 93,
     "metadata": {},
     "output_type": "execute_result"
    }
   ],
   "source": [
    "sm = SMOTE(sampling_strategy='auto', random_state=7)\n",
    "\n",
    "oversampled_trainX, oversampled_trainY = sm.fit_resample(reviews_train_tfidf,sentiment_train)\n",
    "oversampled_trainY.value_counts()"
   ]
  },
  {
   "cell_type": "markdown",
   "metadata": {},
   "source": [
    "# Modelling"
   ]
  },
  {
   "cell_type": "markdown",
   "metadata": {},
   "source": [
    "### Logistic Regression"
   ]
  },
  {
   "cell_type": "code",
   "execution_count": 74,
   "metadata": {},
   "outputs": [
    {
     "data": {
      "text/plain": [
       "0.8250530331884618"
      ]
     },
     "execution_count": 74,
     "metadata": {},
     "output_type": "execute_result"
    }
   ],
   "source": [
    "from sklearn.linear_model import LogisticRegression \n",
    "lr=LogisticRegression(max_iter=1000)\n",
    "lr.fit(reviews_train_tfidf,sentiment_train)\n",
    "lr_predict=lr.predict(reviews_test_tfidf)\n",
    "plain_lr_f1=f1_score(sentiment_test,lr_predict,average='weighted')\n",
    "plain_lr_f1"
   ]
  },
  {
   "cell_type": "code",
   "execution_count": 75,
   "metadata": {},
   "outputs": [],
   "source": [
    "from scikitplot.metrics import plot_confusion_matrix"
   ]
  },
  {
   "cell_type": "code",
   "execution_count": 76,
   "metadata": {},
   "outputs": [
    {
     "data": {
      "image/png": "[encoded data removed]",
      "text/plain": [
       "<Figure size 432x288 with 2 Axes>"
      ]
     },
     "metadata": {
      "needs_background": "light"
     },
     "output_type": "display_data"
    }
   ],
   "source": [
    "plot_confusion_matrix(sentiment_test,lr_predict,normalize=True,cmap=\"Greens\")\n",
    "plt.title(\"Linear Regression with defult params\")\n",
    "plt.show()"
   ]
  },
  {
   "cell_type": "code",
   "execution_count": null,
   "metadata": {},
   "outputs": [],
   "source": []
  }
 ],
 "metadata": {
  "kernelspec": {
   "display_name": "Python 3",
   "language": "python",
   "name": "python3"
  },
  "language_info": {
   "codemirror_mode": {
    "name": "ipython",
    "version": 3
   },
   "file_extension": ".py",
   "mimetype": "text/x-python",
   "name": "python",
   "nbconvert_exporter": "python",
   "pygments_lexer": "ipython3",
   "version": "3.7.6"
  }
 },
 "nbformat": 4,
 "nbformat_minor": 4
}
